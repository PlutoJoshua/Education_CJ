{
  "nbformat": 4,
  "nbformat_minor": 0,
  "metadata": {
    "colab": {
      "provenance": []
    },
    "kernelspec": {
      "name": "python3",
      "display_name": "Python 3"
    },
    "language_info": {
      "name": "python"
    }
  },
  "cells": [
    {
      "cell_type": "code",
      "execution_count": 1,
      "metadata": {
        "id": "jmtRHJpXoESI"
      },
      "outputs": [],
      "source": [
        "import torch\n",
        "import torch.nn as nn\n",
        "import torch.nn.functional as F\n",
        "import torch.optim as optim\n",
        "from torchvision import datasets, transforms\n",
        "import matplotlib.pyplot as plt"
      ]
    },
    {
      "cell_type": "code",
      "source": [
        "class myCNN(nn.Module):\n",
        "    def __init__(self):\n",
        "        super(myCNN, self).__init__()\n",
        "        self.conv1 = nn.Conv2d(1, 32, kernel_size=5, padding=2)\n",
        "        self.conv2 = nn.Conv2d(32, 64, kernel_size=5, padding=2)\n",
        "        self.conv3 = nn.Conv2d(64, 128, kernel_size=5, padding=2)\n",
        "        self.fc1 = nn.Linear(128 * 3 * 3, 128)\n",
        "        self.fc2 = nn.Linear(128, 10)\n",
        "\n",
        "    def forward(self, x):\n",
        "        x = F.relu(F.max_pool2d(self.conv1(x), 2))\n",
        "        x = F.relu(F.max_pool2d(self.conv2(x), 2))\n",
        "        x = F.relu(F.max_pool2d(self.conv3(x), 2))\n",
        "        x = x.view(-1, 128 * 3 * 3)\n",
        "        x = F.relu(self.fc1(x))\n",
        "        x = self.fc2(x)\n",
        "        return F.log_softmax(x, dim=1)\n"
      ],
      "metadata": {
        "id": "dcr_JuQpoaUN"
      },
      "execution_count": 2,
      "outputs": []
    },
    {
      "cell_type": "code",
      "source": [
        "transform = transforms.Compose([\n",
        "    transforms.ToTensor(),\n",
        "    transforms.Normalize((0.1307,), (0.3081,))\n",
        "])\n",
        "\n",
        "train_dataset = datasets.MNIST('./data', train=True, download=True, transform=transform)\n",
        "test_dataset = datasets.MNIST('./data', train=False, transform=transform)\n",
        "\n",
        "train_loader = torch.utils.data.DataLoader(train_dataset, batch_size=64, shuffle=True)\n",
        "test_loader = torch.utils.data.DataLoader(test_dataset, batch_size=1000, shuffle=False)\n"
      ],
      "metadata": {
        "id": "7l8o-M8QpnRg"
      },
      "execution_count": 3,
      "outputs": []
    },
    {
      "cell_type": "code",
      "source": [
        "train_dataset"
      ],
      "metadata": {
        "colab": {
          "base_uri": "https://localhost:8080/"
        },
        "id": "J3IhqdpRXJGY",
        "outputId": "892a3143-cc11-4e69-fe7c-9571b5b4d4ed"
      },
      "execution_count": 13,
      "outputs": [
        {
          "output_type": "execute_result",
          "data": {
            "text/plain": [
              "Dataset MNIST\n",
              "    Number of datapoints: 60000\n",
              "    Root location: ./data\n",
              "    Split: Train\n",
              "    StandardTransform\n",
              "Transform: Compose(\n",
              "               ToTensor()\n",
              "               Normalize(mean=(0.1307,), std=(0.3081,))\n",
              "           )"
            ]
          },
          "metadata": {},
          "execution_count": 13
        }
      ]
    },
    {
      "cell_type": "code",
      "source": [
        "model = myCNN()\n",
        "criterion = nn.CrossEntropyLoss()\n",
        "optimizer = optim.SGD(model.parameters(), lr = 0.01, momentum=0.5)"
      ],
      "metadata": {
        "id": "ADxexUGn0ebP"
      },
      "execution_count": 4,
      "outputs": []
    },
    {
      "cell_type": "markdown",
      "source": [],
      "metadata": {
        "id": "IOT9zuK96zfW"
      }
    },
    {
      "cell_type": "code",
      "source": [
        "optimizer"
      ],
      "metadata": {
        "colab": {
          "base_uri": "https://localhost:8080/"
        },
        "id": "REXFfCaQ1qmm",
        "outputId": "1779dbff-6599-437d-dbab-60d896f46a33"
      },
      "execution_count": 5,
      "outputs": [
        {
          "output_type": "execute_result",
          "data": {
            "text/plain": [
              "SGD (\n",
              "Parameter Group 0\n",
              "    dampening: 0\n",
              "    differentiable: False\n",
              "    foreach: None\n",
              "    lr: 0.01\n",
              "    maximize: False\n",
              "    momentum: 0.5\n",
              "    nesterov: False\n",
              "    weight_decay: 0\n",
              ")"
            ]
          },
          "metadata": {},
          "execution_count": 5
        }
      ]
    },
    {
      "cell_type": "code",
      "source": [
        "train_losses = []\n",
        "test_losses = []\n",
        "test_accuracies = []"
      ],
      "metadata": {
        "id": "_x74lPZh1sOO"
      },
      "execution_count": 6,
      "outputs": []
    },
    {
      "cell_type": "code",
      "source": [
        "# 훈련 함수\n",
        "def train(model, train_loader, optimizer, epoch):\n",
        "  model.train()\n",
        "  train_loss = 0\n",
        "  for data, target in train_loader:\n",
        "    optimizer.zero_grad()\n",
        "    output = model(data)\n",
        "    loss = criterion(output, target)\n",
        "    train_loss += loss.item()\n",
        "    optimizer.step()\n",
        "\n",
        "  # 평균 훈련 손실 계산\n",
        "  train_loss /= len(train_loader)\n",
        "  train_losses.append(train_loss)\n",
        "  print(f'epoch {epoch}, Training Loss: {train_loss : .4f}')"
      ],
      "metadata": {
        "id": "mUgp7WEL2QZm"
      },
      "execution_count": 7,
      "outputs": []
    },
    {
      "cell_type": "markdown",
      "source": [
        "# 훈련 함수\n",
        "def train(model, train_loader, optimizer, criterion, epoch):\n",
        "    model.train()\n",
        "    train_loss = 0\n",
        "    correct = 0\n",
        "    total = 0\n",
        "    \n",
        "    for data, target in train_loader:\n",
        "        optimizer.zero_grad()\n",
        "        output = model(data)\n",
        "        loss = criterion(output, target)\n",
        "        train_loss += loss.item()\n",
        "        loss.backward()\n",
        "        optimizer.step()\n",
        "        \n",
        "        _, predicted = output.max(1)\n",
        "        total += target.size(0)\n",
        "        correct += predicted.eq(target).sum().item()\n",
        "\n",
        "    # 평균 훈련 손실 계산\n",
        "    train_loss /= len(train_loader)\n",
        "    train_losses.append(train_loss)\n",
        "    \n",
        "    # 정확도 계산\n",
        "    accuracy = 100. * correct / total\n",
        "    print(f'epoch {epoch}, Training Loss: {train_loss:.4f}, Accuracy: {accuracy:.2f}%')"
      ],
      "metadata": {
        "id": "h5G5FNBwMW79"
      }
    },
    {
      "cell_type": "code",
      "source": [
        "# 모델 평가\n",
        "def test(model, test_loader):\n",
        "  model.eval()\n",
        "  test_loss = 0\n",
        "  correct = 0\n",
        "  with torch.no_grad():\n",
        "      for data, target in test_loader:\n",
        "        output = model(data)\n",
        "        test_loss += criterion(output, target).item()\n",
        "        pred = output.argmax(dim=1, keepdim=True)\n",
        "        correct += pred.eq(target.view_as(pred)).sum().item()\n",
        "  test_loss /= len(test_loader)\n",
        "  accuracy = 100. * correct / len(test_loader.dataset)\n",
        "  test_losses.append(test_loss)\n",
        "  test_accuracies.append(accuracy)\n",
        "  print(f'Test Loss: {test_loss:.4f}, Accuracy: {accuracy:.2f}%')"
      ],
      "metadata": {
        "id": "mIWK1wpu3BN_"
      },
      "execution_count": 8,
      "outputs": []
    },
    {
      "cell_type": "code",
      "source": [
        "for epoch in range(1, 11):\n",
        "  train(model, train_loader, optimizer, epoch)\n",
        "  test(model, test_loader)"
      ],
      "metadata": {
        "colab": {
          "base_uri": "https://localhost:8080/"
        },
        "id": "hQTwq4_74jY3",
        "outputId": "f2f7c2d8-fa7e-4eab-a980-169a8802b5b1"
      },
      "execution_count": 9,
      "outputs": [
        {
          "output_type": "stream",
          "name": "stdout",
          "text": [
            "epoch 1, Training Loss:  2.3044\n",
            "Test Loss: 2.3050, Accuracy: 10.60%\n",
            "epoch 2, Training Loss:  2.3044\n",
            "Test Loss: 2.3050, Accuracy: 10.60%\n",
            "epoch 3, Training Loss:  2.3044\n",
            "Test Loss: 2.3050, Accuracy: 10.60%\n",
            "epoch 4, Training Loss:  2.3044\n",
            "Test Loss: 2.3050, Accuracy: 10.60%\n",
            "epoch 5, Training Loss:  2.3044\n",
            "Test Loss: 2.3050, Accuracy: 10.60%\n",
            "epoch 6, Training Loss:  2.3044\n",
            "Test Loss: 2.3050, Accuracy: 10.60%\n",
            "epoch 7, Training Loss:  2.3044\n",
            "Test Loss: 2.3050, Accuracy: 10.60%\n",
            "epoch 8, Training Loss:  2.3044\n",
            "Test Loss: 2.3050, Accuracy: 10.60%\n",
            "epoch 9, Training Loss:  2.3044\n",
            "Test Loss: 2.3050, Accuracy: 10.60%\n",
            "epoch 10, Training Loss:  2.3044\n",
            "Test Loss: 2.3050, Accuracy: 10.60%\n"
          ]
        }
      ]
    },
    {
      "cell_type": "code",
      "source": [
        "# 손실 및 정확도 시각화\n",
        "fig, axs = plt.subplots(2, 1, figsize = (10, 10))\n",
        "axs[0].plot(train_losses, label = 'Traing Loss')\n",
        "axs[0].plot(test_losses, label = 'Test Loss')\n",
        "axs[0].set_xlabel('Epoch')\n",
        "axs[0].set_ylabel('Loss')\n",
        "axs[0].legend()\n",
        "axs[0].set_title('Training and Test Loss')\n",
        "\n",
        "axs[1].plot(test_accuracies, label = 'Test Accuracy', color = 'orange')\n",
        "axs[1].set_xlabel('Epoch')\n",
        "axs[1].set_ylabel('Accuracy (%)')\n",
        "axs[1].legend()\n",
        "axs[1].set_title('Test Accuracy')\n",
        "\n",
        "plt.tight_layout()\n",
        "plt.show()"
      ],
      "metadata": {
        "colab": {
          "base_uri": "https://localhost:8080/",
          "height": 1000
        },
        "id": "GYkmGoTe4z4P",
        "outputId": "107be5b2-0a6d-4829-dbbb-a96c27912fca"
      },
      "execution_count": 10,
      "outputs": [
        {
          "output_type": "display_data",
          "data": {
            "text/plain": [
              "<Figure size 1000x1000 with 2 Axes>"
            ],
            "image/png": "[encoded data removed]"
          },
          "metadata": {}
        }
      ]
    },
    {
      "cell_type": "code",
      "source": [],
      "metadata": {
        "id": "m5LYlcCGKrfU"
      },
      "execution_count": 1,
      "outputs": []
    }
  ]
}