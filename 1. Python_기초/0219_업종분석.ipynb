{
 "cells": [
  {
   "cell_type": "markdown",
   "id": "d78a8579",
   "metadata": {},
   "source": [
    "---\n",
    "# dart open api를 활용한 업종 분석\n",
    "---"
   ]
  },
  {
   "cell_type": "code",
   "execution_count": 1,
   "id": "7e695b4a-93d1-4845-a602-a9b8d9499817",
   "metadata": {
    "tags": []
   },
   "outputs": [
    {
     "data": {
      "application/vnd.jupyter.widget-view+json": {
       "model_id": "64261d7373dc42ca84ca267bfd3f144d",
       "version_major": 2,
       "version_minor": 0
      },
      "text/plain": [
       "Output()"
      ]
     },
     "metadata": {},
     "output_type": "display_data"
    }
   ],
   "source": [
    "import dart_fss as dart\n",
    "api_key=''\n",
    "dart.set_api_key(api_key=api_key)\n",
    "corp_list = dart.get_corp_list()"
   ]
  },
  {
   "cell_type": "code",
   "execution_count": 2,
   "id": "a3331ff8-ce3c-4d65-9c0d-1f3cf2dc1518",
   "metadata": {
    "tags": []
   },
   "outputs": [],
   "source": [
    "edu = corp_list.find_by_corp_name('휴넷')"
   ]
  },
  {
   "cell_type": "code",
   "execution_count": null,
   "id": "ad20e0ac-c633-48be-9ae1-f0eae89c621b",
   "metadata": {
    "tags": []
   },
   "outputs": [],
   "source": [
    "corp_list.sectors"
   ]
  },
  {
   "cell_type": "code",
   "execution_count": 4,
   "id": "fc3589f9-1f8a-4879-91d3-2d7153d722fb",
   "metadata": {
    "tags": []
   },
   "outputs": [
    {
     "data": {
      "text/plain": [
       "[[01074862]메가스터디교육,\n",
       " [00287788]정상제이엘에스,\n",
       " [00398808]디지털대성,\n",
       " [00525882]크레버스,\n",
       " [01414422]아이비김영,\n",
       " [00807555]메가엠디]"
      ]
     },
     "execution_count": 4,
     "metadata": {},
     "output_type": "execute_result"
    }
   ],
   "source": [
    "corp_list.find_by_sector('일반 교습 학원')"
   ]
  },
  {
   "cell_type": "code",
   "execution_count": 5,
   "id": "f1ea3fd0-5d89-4309-9e03-9867f292685f",
   "metadata": {
    "tags": []
   },
   "outputs": [
    {
     "data": {
      "text/plain": [
       "[[00307222]YBM넷, [00876209]미래엔에듀파트너]"
      ]
     },
     "execution_count": 5,
     "metadata": {},
     "output_type": "execute_result"
    }
   ],
   "source": [
    "corp_list.find_by_sector('교육지원 서비스업')"
   ]
  },
  {
   "cell_type": "code",
   "execution_count": 6,
   "id": "c29433e4-c943-4bae-8997-dcc9ce708fc1",
   "metadata": {
    "tags": []
   },
   "outputs": [
    {
     "data": {
      "text/plain": [
       "[[00425351]멀티캠퍼스]"
      ]
     },
     "execution_count": 6,
     "metadata": {},
     "output_type": "execute_result"
    }
   ],
   "source": [
    "corp_list.find_by_sector('기타 교육기관')"
   ]
  },
  {
   "cell_type": "code",
   "execution_count": 7,
   "id": "cefb4589-a272-43ee-84ba-77ef4a0d35ae",
   "metadata": {
    "tags": []
   },
   "outputs": [],
   "source": [
    "all_corps = corp_list.find_by_sector('일반 교습 학원') + corp_list.find_by_sector('교육지원 서비스업') + corp_list.find_by_sector('기타 교육기관')"
   ]
  },
  {
   "cell_type": "code",
   "execution_count": 8,
   "id": "a312a300-0d0f-4724-849a-d64033673d09",
   "metadata": {
    "tags": []
   },
   "outputs": [],
   "source": [
    "edu = all_corps"
   ]
  },
  {
   "cell_type": "code",
   "execution_count": 9,
   "id": "6223f422-c1a0-4ceb-a230-033426e16519",
   "metadata": {
    "tags": []
   },
   "outputs": [],
   "source": [
    "import pandas as pd"
   ]
  },
  {
   "cell_type": "code",
   "execution_count": 10,
   "id": "72f00eb2-ab4b-4a1c-afb3-e3d9c42eea5e",
   "metadata": {
    "tags": []
   },
   "outputs": [],
   "source": [
    "dict_temp = edu[0].to_dict()\n",
    "\n",
    "df_temp = pd.DataFrame()\n",
    "\n",
    "for c in edu:\n",
    "    dict_temp = c.to_dict()\n",
    "    df_temp2 = pd.DataFrame.from_dict(dict_temp, orient='index').T\n",
    "    \n",
    "    df_temp = pd.concat([df_temp, df_temp2])"
   ]
  },
  {
   "cell_type": "code",
   "execution_count": 11,
   "id": "c98ff7fc-24d0-4da2-a471-53996acf7aa5",
   "metadata": {
    "tags": []
   },
   "outputs": [],
   "source": [
    "df_temp.to_excel('k.xlsx')"
   ]
  },
  {
   "cell_type": "code",
   "execution_count": 12,
   "id": "cff70c71-cc56-4e5f-bbaf-5498581fac19",
   "metadata": {
    "tags": []
   },
   "outputs": [],
   "source": [
    "multi = corp_list.find_by_corp_code('00425351')"
   ]
  },
  {
   "cell_type": "markdown",
   "id": "776b2281-f816-4140-a281-b74fe004e455",
   "metadata": {
    "tags": []
   },
   "source": [
    "multi = dart.api.filings.get_corp_info('00425351')"
   ]
  },
  {
   "cell_type": "code",
   "execution_count": 13,
   "id": "48a0e641-d3a3-4abd-acdc-eca9b6c51367",
   "metadata": {
    "tags": []
   },
   "outputs": [],
   "source": [
    "corp_code = '00425351'"
   ]
  },
  {
   "cell_type": "code",
   "execution_count": 14,
   "id": "0eaee814-202a-4ff6-b641-eee43dc052ae",
   "metadata": {
    "tags": []
   },
   "outputs": [
    {
     "data": {
      "application/vnd.jupyter.widget-view+json": {
       "model_id": "78274cfa5e6143439fc840a12f505e5e",
       "version_major": 2,
       "version_minor": 0
      },
      "text/plain": [
       "Annual reports:   0%|          | 0/3 [00:00<?, ?report/s]"
      ]
     },
     "metadata": {},
     "output_type": "display_data"
    }
   ],
   "source": [
    "fs = dart.fs.extract(corp_code=corp_code, bgn_de='20210101')"
   ]
  },
  {
   "cell_type": "code",
   "execution_count": 15,
   "id": "a46f1f30-8425-4a4d-93fd-4a0e79159a9a",
   "metadata": {
    "tags": []
   },
   "outputs": [
    {
     "data": {
      "text/html": [
       "\n",
       "    <style scoped>\n",
       "        .dart-table tbody tr th {\n",
       "            vertical-align: top;\n",
       "            text-overflow: ellipsis;\n",
       "        }\n",
       "        .dart-table thead th {\n",
       "            text-align: right;\n",
       "            text-overflow: ellipsis;\n",
       "        }\n",
       "    </style>\n",
       "    <table border=\"1\" class=\"dart-table\"><thead><tr style=\"text-align: right;\"><th>Label</th><th>Data</th></tr></thead><tbody><tr><th>corp_code</th><td>00425351</td></tr><tr><th>bgn_de</th><td>20210101</td></tr><tr><th>end_de</th><td>None</td></tr><tr><th>separate</th><td>False</td></tr><tr><th>report_tp</th><td>annual</td></tr><tr><th>lang</th><td>ko</td></tr><tr><th>separator</th><td>True</td></tr><tr><th>financial statement</th><td><table style=\"width:100%\"><thead><tr><th width=\"20\">No.</th><th>title</th></tr></thead><tbody><tr><th width=\"20\">0</th><td>[D210000] Statement of financial position, current/non-current - Consolidated financial statements (Unit: KRW)</td></tr><tr><th width=\"20\">1</th><td>[D310000] Income statement, by function of expense - Consolidated financial statements (Unit: KRW)</td></tr><tr><th width=\"20\">2</th><td>[D410000] Statement of comprehensive income - Consolidated financial statements (Unit: KRW)</td></tr><tr><th width=\"20\">3</th><td>[D520000] Statement of cash flows, indirect method - Consolidated financial statements (Unit: KRW)</td></tr></tbody></table></td></tr></tbody></table>"
      ],
      "text/plain": [
       "{'bgn_de': '20210101',\n",
       " 'corp_code': '00425351',\n",
       " 'end_de': None,\n",
       " 'financial statement': [{'title': '[D210000] Statement of financial position, '\n",
       "                                   'current/non-current - Consolidated '\n",
       "                                   'financial statements (Unit: KRW)'},\n",
       "                         {'title': '[D310000] Income statement, by function of '\n",
       "                                   'expense - Consolidated financial '\n",
       "                                   'statements (Unit: KRW)'},\n",
       "                         {'title': '[D410000] Statement of comprehensive '\n",
       "                                   'income - Consolidated financial statements '\n",
       "                                   '(Unit: KRW)'},\n",
       "                         {'title': '[D520000] Statement of cash flows, '\n",
       "                                   'indirect method - Consolidated financial '\n",
       "                                   'statements (Unit: KRW)'}],\n",
       " 'lang': 'ko',\n",
       " 'report_tp': 'annual',\n",
       " 'separate': False,\n",
       " 'separator': True}"
      ]
     },
     "execution_count": 15,
     "metadata": {},
     "output_type": "execute_result"
    }
   ],
   "source": [
    "fs"
   ]
  },
  {
   "cell_type": "code",
   "execution_count": 23,
   "id": "b4f836d2-6216-45fb-989f-9a4f296e4de0",
   "metadata": {
    "tags": []
   },
   "outputs": [],
   "source": [
    "multi2 = pd.read_excel('./data.xlsx', index_col=0)"
   ]
  },
  {
   "cell_type": "code",
   "execution_count": 24,
   "id": "46e04b59-6c0b-4aa7-ad06-602922d4ac2f",
   "metadata": {
    "tags": []
   },
   "outputs": [
    {
     "data": {
      "text/html": [
       "<div>\n",
       "<style scoped>\n",
       "    .dataframe tbody tr th:only-of-type {\n",
       "        vertical-align: middle;\n",
       "    }\n",
       "\n",
       "    .dataframe tbody tr th {\n",
       "        vertical-align: top;\n",
       "    }\n",
       "\n",
       "    .dataframe thead th {\n",
       "        text-align: right;\n",
       "    }\n",
       "</style>\n",
       "<table border=\"1\" class=\"dataframe\">\n",
       "  <thead>\n",
       "    <tr style=\"text-align: right;\">\n",
       "      <th>날짜</th>\n",
       "      <th>매출액</th>\n",
       "      <th>매출원가</th>\n",
       "      <th>매출총이익</th>\n",
       "      <th>매출총이익</th>\n",
       "      <th>영업이익</th>\n",
       "      <th>영업이익</th>\n",
       "      <th>영업이익</th>\n",
       "      <th>영업이익</th>\n",
       "      <th>영업이익</th>\n",
       "      <th>법인세비용차감전 순이익</th>\n",
       "      <th>법인세비용차감전 순이익</th>\n",
       "      <th>당기순이익</th>\n",
       "      <th>당기순이익</th>\n",
       "      <th>당기순이익</th>\n",
       "      <th>주당순이익</th>\n",
       "      <th>주당순이익</th>\n",
       "      <th>주당순이익</th>\n",
       "    </tr>\n",
       "  </thead>\n",
       "  <tbody>\n",
       "    <tr>\n",
       "      <th>20220101-20221231</th>\n",
       "      <td>357,486,847,902.0</td>\n",
       "      <td>258,027,588,983.0</td>\n",
       "      <td>99,459,258,919.0</td>\n",
       "      <td>58,416,966,756.0</td>\n",
       "      <td>41,042,292,163.0</td>\n",
       "      <td>351,991,730.0</td>\n",
       "      <td>515,079,741.0</td>\n",
       "      <td>2,182,246,657.0</td>\n",
       "      <td>1,635,418,462.0</td>\n",
       "      <td>41,426,032,347.0</td>\n",
       "      <td>10,886,370,403.0</td>\n",
       "      <td>30,539,661,944.0</td>\n",
       "      <td>30,259,194,099.0</td>\n",
       "      <td>280,467,845.0</td>\n",
       "      <td>NaN</td>\n",
       "      <td>5,106.0</td>\n",
       "      <td>5,106.0</td>\n",
       "    </tr>\n",
       "    <tr>\n",
       "      <th>20210101-20211231</th>\n",
       "      <td>308,281,591,459.0</td>\n",
       "      <td>227,077,915,542.0</td>\n",
       "      <td>81,203,675,917.0</td>\n",
       "      <td>54,736,550,359.0</td>\n",
       "      <td>26,467,125,558.0</td>\n",
       "      <td>889,756,061.0</td>\n",
       "      <td>99,058,118.0</td>\n",
       "      <td>680,110,990.0</td>\n",
       "      <td>933,102,269.0</td>\n",
       "      <td>27,004,832,222.0</td>\n",
       "      <td>6,448,565,574.0</td>\n",
       "      <td>20,556,266,648.0</td>\n",
       "      <td>20,379,818,133.0</td>\n",
       "      <td>176,448,515.0</td>\n",
       "      <td>NaN</td>\n",
       "      <td>3,439.0</td>\n",
       "      <td>3,439.0</td>\n",
       "    </tr>\n",
       "    <tr>\n",
       "      <th>20200101-20201231</th>\n",
       "      <td>260,018,565,092.0</td>\n",
       "      <td>195,478,767,084.0</td>\n",
       "      <td>64,539,798,008.0</td>\n",
       "      <td>50,818,052,340.0</td>\n",
       "      <td>13,721,745,668.0</td>\n",
       "      <td>34,133,206.0</td>\n",
       "      <td>568,457,243.0</td>\n",
       "      <td>639,032,120.0</td>\n",
       "      <td>916,108,699.0</td>\n",
       "      <td>12,910,345,052.0</td>\n",
       "      <td>2,962,906,871.0</td>\n",
       "      <td>9,947,438,181.0</td>\n",
       "      <td>9,962,184,865.0</td>\n",
       "      <td>-14,746,684.0</td>\n",
       "      <td>NaN</td>\n",
       "      <td>1,690.0</td>\n",
       "      <td>1,690.0</td>\n",
       "    </tr>\n",
       "    <tr>\n",
       "      <th>20190101-20191231</th>\n",
       "      <td>288,001,021,843.0</td>\n",
       "      <td>211,369,634,271.0</td>\n",
       "      <td>76,631,387,572.0</td>\n",
       "      <td>52,453,299,478.0</td>\n",
       "      <td>24,178,088,094.0</td>\n",
       "      <td>22,788,715.0</td>\n",
       "      <td>9,166,750.0</td>\n",
       "      <td>779,823,336.0</td>\n",
       "      <td>930,639,745.0</td>\n",
       "      <td>24,040,893,650.0</td>\n",
       "      <td>5,134,303,454.0</td>\n",
       "      <td>18,906,590,196.0</td>\n",
       "      <td>18,625,040,941.0</td>\n",
       "      <td>281,549,255.0</td>\n",
       "      <td>NaN</td>\n",
       "      <td>3,162.0</td>\n",
       "      <td>3,162.0</td>\n",
       "    </tr>\n",
       "    <tr>\n",
       "      <th>20180101-20181231</th>\n",
       "      <td>240,025,980,427.0</td>\n",
       "      <td>170,562,627,817.0</td>\n",
       "      <td>69,463,352,610.0</td>\n",
       "      <td>47,632,912,309.0</td>\n",
       "      <td>21,830,440,301.0</td>\n",
       "      <td>181,161,981.0</td>\n",
       "      <td>680,913,444.0</td>\n",
       "      <td>913,257,368.0</td>\n",
       "      <td>91,998,841.0</td>\n",
       "      <td>22,151,947,365.0</td>\n",
       "      <td>4,599,772,717.0</td>\n",
       "      <td>17,552,174,648.0</td>\n",
       "      <td>17,353,172,062.0</td>\n",
       "      <td>199,002,586.0</td>\n",
       "      <td>NaN</td>\n",
       "      <td>2,946.0</td>\n",
       "      <td>2,946.0</td>\n",
       "    </tr>\n",
       "  </tbody>\n",
       "</table>\n",
       "</div>"
      ],
      "text/plain": [
       "날짜                              매출액              매출원가            매출총이익  \\\n",
       "20220101-20221231 357,486,847,902.0 258,027,588,983.0 99,459,258,919.0   \n",
       "20210101-20211231 308,281,591,459.0 227,077,915,542.0 81,203,675,917.0   \n",
       "20200101-20201231 260,018,565,092.0 195,478,767,084.0 64,539,798,008.0   \n",
       "20190101-20191231 288,001,021,843.0 211,369,634,271.0 76,631,387,572.0   \n",
       "20180101-20181231 240,025,980,427.0 170,562,627,817.0 69,463,352,610.0   \n",
       "\n",
       "날짜                           매출총이익             영업이익          영업이익  \\\n",
       "20220101-20221231 58,416,966,756.0 41,042,292,163.0 351,991,730.0   \n",
       "20210101-20211231 54,736,550,359.0 26,467,125,558.0 889,756,061.0   \n",
       "20200101-20201231 50,818,052,340.0 13,721,745,668.0  34,133,206.0   \n",
       "20190101-20191231 52,453,299,478.0 24,178,088,094.0  22,788,715.0   \n",
       "20180101-20181231 47,632,912,309.0 21,830,440,301.0 181,161,981.0   \n",
       "\n",
       "날짜                         영업이익            영업이익            영업이익  \\\n",
       "20220101-20221231 515,079,741.0 2,182,246,657.0 1,635,418,462.0   \n",
       "20210101-20211231  99,058,118.0   680,110,990.0   933,102,269.0   \n",
       "20200101-20201231 568,457,243.0   639,032,120.0   916,108,699.0   \n",
       "20190101-20191231   9,166,750.0   779,823,336.0   930,639,745.0   \n",
       "20180101-20181231 680,913,444.0   913,257,368.0    91,998,841.0   \n",
       "\n",
       "날짜                    법인세비용차감전 순이익     법인세비용차감전 순이익            당기순이익  \\\n",
       "20220101-20221231 41,426,032,347.0 10,886,370,403.0 30,539,661,944.0   \n",
       "20210101-20211231 27,004,832,222.0  6,448,565,574.0 20,556,266,648.0   \n",
       "20200101-20201231 12,910,345,052.0  2,962,906,871.0  9,947,438,181.0   \n",
       "20190101-20191231 24,040,893,650.0  5,134,303,454.0 18,906,590,196.0   \n",
       "20180101-20181231 22,151,947,365.0  4,599,772,717.0 17,552,174,648.0   \n",
       "\n",
       "날짜                           당기순이익         당기순이익  주당순이익   주당순이익   주당순이익  \n",
       "20220101-20221231 30,259,194,099.0 280,467,845.0    NaN 5,106.0 5,106.0  \n",
       "20210101-20211231 20,379,818,133.0 176,448,515.0    NaN 3,439.0 3,439.0  \n",
       "20200101-20201231  9,962,184,865.0 -14,746,684.0    NaN 1,690.0 1,690.0  \n",
       "20190101-20191231 18,625,040,941.0 281,549,255.0    NaN 3,162.0 3,162.0  \n",
       "20180101-20181231 17,353,172,062.0 199,002,586.0    NaN 2,946.0 2,946.0  "
      ]
     },
     "execution_count": 24,
     "metadata": {},
     "output_type": "execute_result"
    }
   ],
   "source": [
    "multi2.T"
   ]
  },
  {
   "cell_type": "code",
   "execution_count": null,
   "id": "06dfc6ba-81bc-44c3-b4a7-d88e93308fcf",
   "metadata": {
    "tags": []
   },
   "outputs": [],
   "source": [
    "# 주어진 데이터프레임\n",
    "df = pd.DataFrame({\n",
    "    '날짜': ['20220101-20221231', '20210101-20211231', '20200101-20201231', '20190101-20191231', '20180101-20181231'],\n",
    "    '매출액': [357486847902.0, 308281591459.0, 260018565092.0, 288001021843.0, 240025980427.0],\n",
    "    '매출원가': [258027588983.0, 227077915542.0, 195478767084.0, 211369634271.0, 170562627817.0],\n",
    "    '매출총이익': [99459258919.0, 81203675917.0, 64539798008.0, 76631387572.0, 69463352610.0],\n",
    "    '영업이익': [41042292163.0, 26467125558.0, 13721745668.0, 24178088094.0, 21830440301.0],\n",
    "    '당기순이익': [30539661944.0, 20556266648.0, 9947438181.0, 18906590196.0, 17552174648.0]\n",
    "})\n",
    "\n",
    "# '날짜' 열을 datetime 형식으로 변환\n",
    "df['날짜'] = pd.to_datetime(df['날짜'].str[:8])\n",
    "\n",
    "# '날짜' 열을 인덱스로 설정\n",
    "df.set_index('날짜', inplace=True)\n",
    "\n",
    "# 그래프 그리기\n",
    "df.plot(kind='line', marker='o', figsize=(10, 6))\n",
    "plt.title('멀티캠퍼스 재무지표 추이')\n",
    "plt.xlabel('날짜')\n",
    "plt.ylabel('금액')\n",
    "plt.grid(True)\n",
    "plt.show()"
   ]
  },
  {
   "cell_type": "code",
   "execution_count": null,
   "id": "6787de36-567f-45a1-b917-26e942be2209",
   "metadata": {
    "tags": []
   },
   "outputs": [],
   "source": [
    "df = pd.DataFrame({\n",
    "    '날짜': ['20220101-20221231', '20210101-20211231', '20200101-20201231', '20190101-20191231', '20180101-20181231'],\n",
    "    '매출액': [357486847902.0, 308281591459.0, 260018565092.0, 288001021843.0, 240025980427.0],\n",
    "    '매출원가': [258027588983.0, 227077915542.0, 195478767084.0, 211369634271.0, 170562627817.0],\n",
    "    '매출총이익': [99459258919.0, 81203675917.0, 64539798008.0, 76631387572.0, 69463352610.0],\n",
    "    '영업이익': [41042292163.0, 26467125558.0, 13721745668.0, 24178088094.0, 21830440301.0],\n",
    "    '당기순이익': [30539661944.0, 20556266648.0, 9947438181.0, 18906590196.0, 17552174648.0]\n",
    "})"
   ]
  },
  {
   "cell_type": "code",
   "execution_count": null,
   "id": "dd8e5f96-50cf-4272-8e08-8a6ba1a5ab51",
   "metadata": {
    "tags": []
   },
   "outputs": [],
   "source": [
    "df2= pd.DataFrame({'날짜': ['20220101-20221231', '20210101-20211231', '20200101-20201231', '20190101-20191231', '20180101-20181231'],\n",
    "    '영업이익': [41042292163.0, 26467125558.0, 13721745668.0, 24178088094.0, 21830440301.0],\n",
    "    '당기순이익': [30539661944.0, 20556266648.0, 9947438181.0, 18906590196.0, 17552174648.0]\n",
    "})\n",
    "# '날짜' 열을 datetime 형식으로 변환\n",
    "df2['날짜'] = pd.to_datetime(df2['날짜'].str[:8])\n",
    "\n",
    "# '날짜' 열을 인덱스로 설정\n",
    "df2.set_index('날짜', inplace=True)\n",
    "\n",
    "# 그래프 그리기\n",
    "df2.plot(kind='line', marker='o', figsize=(10, 6))\n",
    "plt.title('멀티캠퍼스 재무지표 추이')\n",
    "plt.xlabel('날짜')\n",
    "plt.ylabel('금액')\n",
    "plt.grid(True)\n",
    "plt.show()"
   ]
  },
  {
   "cell_type": "code",
   "execution_count": 26,
   "id": "e8398bbc-0e63-4fb4-8fc6-fdf126f3aae2",
   "metadata": {
    "tags": []
   },
   "outputs": [],
   "source": [
    "df5 = df.describe()"
   ]
  },
  {
   "cell_type": "code",
   "execution_count": 27,
   "id": "683e22ac-e799-4b5d-b51e-0d3069364539",
   "metadata": {
    "tags": []
   },
   "outputs": [],
   "source": [
    "df5.to_excel('qq.xlsx')"
   ]
  },
  {
   "cell_type": "code",
   "execution_count": 28,
   "id": "69f907a4-264a-498c-949a-0c567a4db7ee",
   "metadata": {
    "tags": []
   },
   "outputs": [
    {
     "data": {
      "text/html": [
       "<div>\n",
       "<style scoped>\n",
       "    .dataframe tbody tr th:only-of-type {\n",
       "        vertical-align: middle;\n",
       "    }\n",
       "\n",
       "    .dataframe tbody tr th {\n",
       "        vertical-align: top;\n",
       "    }\n",
       "\n",
       "    .dataframe thead th {\n",
       "        text-align: right;\n",
       "    }\n",
       "</style>\n",
       "<table border=\"1\" class=\"dataframe\">\n",
       "  <thead>\n",
       "    <tr style=\"text-align: right;\">\n",
       "      <th></th>\n",
       "      <th>매출액</th>\n",
       "      <th>매출원가</th>\n",
       "      <th>매출총이익</th>\n",
       "      <th>영업이익</th>\n",
       "      <th>당기순이익</th>\n",
       "    </tr>\n",
       "    <tr>\n",
       "      <th>날짜</th>\n",
       "      <th></th>\n",
       "      <th></th>\n",
       "      <th></th>\n",
       "      <th></th>\n",
       "      <th></th>\n",
       "    </tr>\n",
       "  </thead>\n",
       "  <tbody>\n",
       "    <tr>\n",
       "      <th>2022-01-01</th>\n",
       "      <td>357,486,847,902.0</td>\n",
       "      <td>258,027,588,983.0</td>\n",
       "      <td>99,459,258,919.0</td>\n",
       "      <td>41,042,292,163.0</td>\n",
       "      <td>30,539,661,944.0</td>\n",
       "    </tr>\n",
       "    <tr>\n",
       "      <th>2021-01-01</th>\n",
       "      <td>308,281,591,459.0</td>\n",
       "      <td>227,077,915,542.0</td>\n",
       "      <td>81,203,675,917.0</td>\n",
       "      <td>26,467,125,558.0</td>\n",
       "      <td>20,556,266,648.0</td>\n",
       "    </tr>\n",
       "    <tr>\n",
       "      <th>2020-01-01</th>\n",
       "      <td>260,018,565,092.0</td>\n",
       "      <td>195,478,767,084.0</td>\n",
       "      <td>64,539,798,008.0</td>\n",
       "      <td>13,721,745,668.0</td>\n",
       "      <td>9,947,438,181.0</td>\n",
       "    </tr>\n",
       "    <tr>\n",
       "      <th>2019-01-01</th>\n",
       "      <td>288,001,021,843.0</td>\n",
       "      <td>211,369,634,271.0</td>\n",
       "      <td>76,631,387,572.0</td>\n",
       "      <td>24,178,088,094.0</td>\n",
       "      <td>18,906,590,196.0</td>\n",
       "    </tr>\n",
       "    <tr>\n",
       "      <th>2018-01-01</th>\n",
       "      <td>240,025,980,427.0</td>\n",
       "      <td>170,562,627,817.0</td>\n",
       "      <td>69,463,352,610.0</td>\n",
       "      <td>21,830,440,301.0</td>\n",
       "      <td>17,552,174,648.0</td>\n",
       "    </tr>\n",
       "  </tbody>\n",
       "</table>\n",
       "</div>"
      ],
      "text/plain": [
       "                         매출액              매출원가            매출총이익  \\\n",
       "날짜                                                                \n",
       "2022-01-01 357,486,847,902.0 258,027,588,983.0 99,459,258,919.0   \n",
       "2021-01-01 308,281,591,459.0 227,077,915,542.0 81,203,675,917.0   \n",
       "2020-01-01 260,018,565,092.0 195,478,767,084.0 64,539,798,008.0   \n",
       "2019-01-01 288,001,021,843.0 211,369,634,271.0 76,631,387,572.0   \n",
       "2018-01-01 240,025,980,427.0 170,562,627,817.0 69,463,352,610.0   \n",
       "\n",
       "                       영업이익            당기순이익  \n",
       "날짜                                            \n",
       "2022-01-01 41,042,292,163.0 30,539,661,944.0  \n",
       "2021-01-01 26,467,125,558.0 20,556,266,648.0  \n",
       "2020-01-01 13,721,745,668.0  9,947,438,181.0  \n",
       "2019-01-01 24,178,088,094.0 18,906,590,196.0  \n",
       "2018-01-01 21,830,440,301.0 17,552,174,648.0  "
      ]
     },
     "execution_count": 28,
     "metadata": {},
     "output_type": "execute_result"
    }
   ],
   "source": [
    "df"
   ]
  },
  {
   "cell_type": "markdown",
   "id": "aaa599cb-2c51-4c91-87c7-2f9c29251661",
   "metadata": {
    "tags": []
   },
   "source": [
    "wg = corp_list.find_by_corp_code('00425351')\n",
    "reports = wg.search_filings(bgn_de='20220101', pblntf_detail_ty='a001')\n",
    "report = reports[0]\n",
    "xbrl = report.xbrl\n",
    "\n",
    "multi1 = xbrl.get_income_statement()[0].to_DataFrame()"
   ]
  },
  {
   "cell_type": "code",
   "execution_count": 29,
   "id": "2c0605ec-883d-4048-9815-e608a1d7ef83",
   "metadata": {
    "tags": []
   },
   "outputs": [],
   "source": [
    "# 지역별 업체수 시각화\n",
    "import re\n",
    "import seaborn as sns\n",
    "import matplotlib.pyplot as plt\n",
    "import matplotlib as mpl\n",
    "\n",
    "sns.set(font_scale=1.4)\n",
    "plt.rc('font', family='Malgun Gothic') # 글꼴 변경\n",
    "mpl.rcParams['axes.unicode_minus'] = False # 마이너스 기호 깨짐 문제 해결"
   ]
  },
  {
   "cell_type": "code",
   "execution_count": null,
   "id": "680c850b-7e34-4cc1-bbdb-2ac418cc5a18",
   "metadata": {},
   "outputs": [],
   "source": [
    "sns.lineplot(data = fs, x='업종')"
   ]
  },
  {
   "cell_type": "code",
   "execution_count": null,
   "id": "d7afe39a-2f8c-4e82-825a-6802f5a3b29e",
   "metadata": {
    "tags": []
   },
   "outputs": [],
   "source": [
    "df = pd.read_excel(r'C:\\Users\\BIG3-05\\Downloads\\20240219184842.xlsx')"
   ]
  },
  {
   "cell_type": "code",
   "execution_count": null,
   "id": "6cd0ac20-3847-461c-89b1-e502548792f3",
   "metadata": {
    "tags": []
   },
   "outputs": [],
   "source": [
    "# 온라인 매체를 이용한 학습(13세 이상 인구)\n",
    "df2 = pd.DataFrame({\n",
    "    '분야' :['학업 분야', '어학 분야', '정보화 분야', '학업 외 시험 준비 분야', '직장인 필수 교육 분야',\n",
    "       '인문, 고양, 취미 분야', '기타'],\n",
    "    '비중' : ['33.4',\t'25.7',\t'23.8',\t'27.9','45.1','37.7','0.9']\n",
    "    })\n",
    "# '비중' 열을 숫자형으로 변환\n",
    "df2['비중'] = df2['비중'].astype(float)\n",
    "plt.figure(figsize=(10, 6))\n",
    "plt.bar(df2['분야'], df2['비중'], color='blue')\n",
    "plt.title('분야별 비중')\n",
    "plt.xlabel('분야')\n",
    "plt.ylabel('비중')\n",
    "plt.xticks(rotation=45, ha='right')  # x축 눈금 레이블 회전\n",
    "plt.tight_layout()  # 레이아웃 조정\n",
    "plt.show()"
   ]
  },
  {
   "cell_type": "code",
   "execution_count": null,
   "id": "f40d1278-8fa6-49fc-949b-6abc0aa7188d",
   "metadata": {
    "tags": []
   },
   "outputs": [],
   "source": [
    "import plotly.express as px"
   ]
  },
  {
   "cell_type": "code",
   "execution_count": null,
   "id": "144323e9-051b-46ec-8ef7-887aa7d3ec4a",
   "metadata": {
    "tags": []
   },
   "outputs": [],
   "source": [
    "df2 = pd.DataFrame({\n",
    "    '분야' :['학업 분야', '어학 분야', '정보화 분야', '학업 외 시험 준비 분야', '직장인 필수 교육 분야',\n",
    "       '인문, 고양, 취미 분야', '기타'],\n",
    "    '비중' : ['33.4',\t'25.7',\t'23.8',\t'27.9','45.1','37.7','0.9']\n",
    "    })\n",
    "# '비중' 열을 숫자형으로 변환\n",
    "df2['비중'] = df2['비중'].astype(float)\n",
    "\n",
    "# 파이 차트 그리기\n",
    "fig = px.pie(df2, values='비중', names='분야', title='분야별 비중')\n",
    "fig.show()"
   ]
  },
  {
   "cell_type": "code",
   "execution_count": null,
   "id": "083dcdfd-6869-403a-a294-8e4de9394dc0",
   "metadata": {
    "tags": []
   },
   "outputs": [],
   "source": [
    "df3 = pd.read_excel('sa.xlsx', index_col= 0)"
   ]
  },
  {
   "cell_type": "code",
   "execution_count": null,
   "id": "ee264cb5-1a2f-4475-92c7-5de7df263657",
   "metadata": {
    "tags": []
   },
   "outputs": [],
   "source": [
    "df3.T"
   ]
  },
  {
   "cell_type": "code",
   "execution_count": null,
   "id": "19f1a5ec-5f45-4559-9801-b87d1339c322",
   "metadata": {
    "tags": []
   },
   "outputs": [],
   "source": [
    "df3 = pd.DataFrame({\n",
    "    '연령' : ['13∼19세', '20∼29세', '30∼39세', '40∼49세', '50∼59세', '60∼69세', '70∼79세',\n",
    "       '80세 이상'],\n",
    "    '만족도' :['7.8','14.6','10.3','10.3','10.3','8.0','5.6','4.9']})"
   ]
  },
  {
   "cell_type": "code",
   "execution_count": null,
   "id": "34df44eb-d104-4008-a981-58a7fe581a08",
   "metadata": {
    "tags": []
   },
   "outputs": [],
   "source": [
    "df3"
   ]
  },
  {
   "cell_type": "code",
   "execution_count": null,
   "id": "1a69fa75-d547-4b36-a015-d60da948213a",
   "metadata": {
    "tags": []
   },
   "outputs": [],
   "source": [
    "# 근로여건 만족도(직장내 교육훈련의 기회, 13세 이상 인구)\n",
    "df3['만족도'] = df3['만족도'].astype(float)\n",
    "plt.figure(figsize=(10, 6))\n",
    "plt.bar(df3['연령'], df3['만족도'], color='skyblue')\n",
    "plt.title('연령별 만족도')\n",
    "plt.xlabel('연령')\n",
    "plt.ylabel('만족도')\n",
    "plt.xticks(rotation=45, ha='right')  # x축 눈금 레이블 회전\n",
    "plt.tight_layout()  # 레이아웃 조정\n",
    "plt.show()"
   ]
  }
 ],
 "metadata": {
  "kernelspec": {
   "display_name": "Python 3 (ipykernel)",
   "language": "python",
   "name": "python3"
  },
  "language_info": {
   "codemirror_mode": {
    "name": "ipython",
    "version": 3
   },
   "file_extension": ".py",
   "mimetype": "text/x-python",
   "name": "python",
   "nbconvert_exporter": "python",
   "pygments_lexer": "ipython3",
   "version": "3.11.5"
  }
 },
 "nbformat": 4,
 "nbformat_minor": 5
}
