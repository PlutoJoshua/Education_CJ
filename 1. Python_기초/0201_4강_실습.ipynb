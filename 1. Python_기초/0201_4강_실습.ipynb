{
 "cells": [
  {
   "cell_type": "markdown",
   "id": "f113de8d",
   "metadata": {},
   "source": [
    "---\n",
    "# 실제 데이터를 가져다가 이리저리 만져본 넷째날  \n",
    "데이터는  \n",
    "\n",
    "**공공데이터포털**  \n",
    "https://www.data.go.kr/  \n",
    "\n",
    "여기서 많이 볼 수 있었다  \n",
    "교육쪽에 몸을 담고 있어서 였는지 관련 전공때문인지는 모르겠지만 직접 데이터를 만져보니 신기했음  \n",
    "\n",
    "---"
   ]
  },
  {
   "cell_type": "code",
   "execution_count": 1,
   "id": "ea0942e8",
   "metadata": {
    "tags": []
   },
   "outputs": [],
   "source": [
    "# pandas 라이브러리 불러오기\n",
    "import pandas as pd"
   ]
  },
  {
   "cell_type": "code",
   "execution_count": 4,
   "id": "2b049e2d",
   "metadata": {
    "tags": []
   },
   "outputs": [],
   "source": [
    "# 데이터 가져오기\n",
    "media = pd.read_csv('C:/Users/BIG3-05/시청자미디어재단_체험형미디어교육_20240105.csv', encoding = 'cp949')"
   ]
  },
  {
   "cell_type": "code",
   "execution_count": 5,
   "id": "50a4a6c3",
   "metadata": {
    "tags": []
   },
   "outputs": [
    {
     "data": {
      "text/html": [
       "<div>\n",
       "<style scoped>\n",
       "    .dataframe tbody tr th:only-of-type {\n",
       "        vertical-align: middle;\n",
       "    }\n",
       "\n",
       "    .dataframe tbody tr th {\n",
       "        vertical-align: top;\n",
       "    }\n",
       "\n",
       "    .dataframe thead th {\n",
       "        text-align: right;\n",
       "    }\n",
       "</style>\n",
       "<table border=\"1\" class=\"dataframe\">\n",
       "  <thead>\n",
       "    <tr style=\"text-align: right;\">\n",
       "      <th></th>\n",
       "      <th>센터명</th>\n",
       "      <th>강좌명</th>\n",
       "      <th>강사명</th>\n",
       "      <th>교육시작일자</th>\n",
       "      <th>교육종료일자</th>\n",
       "      <th>강좌내용</th>\n",
       "      <th>교육대상구분</th>\n",
       "      <th>교육방법구분</th>\n",
       "      <th>운영요일</th>\n",
       "      <th>강좌정원수</th>\n",
       "      <th>데이터기준일자</th>\n",
       "      <th>차수</th>\n",
       "    </tr>\n",
       "  </thead>\n",
       "  <tbody>\n",
       "    <tr>\n",
       "      <th>0</th>\n",
       "      <td>강원시청자미디어센터</td>\n",
       "      <td>TV 체험</td>\n",
       "      <td>홍진희</td>\n",
       "      <td>2024-01-25</td>\n",
       "      <td>2024-01-25</td>\n",
       "      <td>유아 대상 크로마키 체험</td>\n",
       "      <td>유아</td>\n",
       "      <td>오프라인</td>\n",
       "      <td>목</td>\n",
       "      <td>20.0</td>\n",
       "      <td>2023-12-28</td>\n",
       "      <td>1.0</td>\n",
       "    </tr>\n",
       "    <tr>\n",
       "      <th>1</th>\n",
       "      <td>세종시청자미디어센터</td>\n",
       "      <td>겨울방학 미디어 체험</td>\n",
       "      <td>미정</td>\n",
       "      <td>2024-01-22</td>\n",
       "      <td>2024-01-29</td>\n",
       "      <td>TV / 라디오 / 더빙 / 가족단위 체험</td>\n",
       "      <td>일반시민</td>\n",
       "      <td>오프라인</td>\n",
       "      <td>월</td>\n",
       "      <td>15.0</td>\n",
       "      <td>2024-01-04</td>\n",
       "      <td>1.0</td>\n",
       "    </tr>\n",
       "  </tbody>\n",
       "</table>\n",
       "</div>"
      ],
      "text/plain": [
       "          센터명          강좌명  강사명      교육시작일자      교육종료일자  \\\n",
       "0  강원시청자미디어센터        TV 체험  홍진희  2024-01-25  2024-01-25   \n",
       "1  세종시청자미디어센터  겨울방학 미디어 체험   미정  2024-01-22  2024-01-29   \n",
       "\n",
       "                      강좌내용 교육대상구분 교육방법구분 운영요일  강좌정원수     데이터기준일자   차수  \n",
       "0            유아 대상 크로마키 체험     유아   오프라인    목   20.0  2023-12-28  1.0  \n",
       "1  TV / 라디오 / 더빙 / 가족단위 체험   일반시민   오프라인    월   15.0  2024-01-04  1.0  "
      ]
     },
     "execution_count": 5,
     "metadata": {},
     "output_type": "execute_result"
    }
   ],
   "source": [
    "# 데이터 확인\n",
    "media.head(2)"
   ]
  },
  {
   "cell_type": "code",
   "execution_count": 6,
   "id": "f0d873f5",
   "metadata": {
    "tags": []
   },
   "outputs": [
    {
     "data": {
      "text/plain": [
       "0      강원시청자미디어센터\n",
       "1      세종시청자미디어센터\n",
       "2      세종시청자미디어센터\n",
       "3      세종시청자미디어센터\n",
       "4      세종시청자미디어센터\n",
       "          ...    \n",
       "148           NaN\n",
       "149           NaN\n",
       "150           NaN\n",
       "151           NaN\n",
       "152           NaN\n",
       "Name: 센터명, Length: 153, dtype: object"
      ]
     },
     "execution_count": 6,
     "metadata": {},
     "output_type": "execute_result"
    }
   ],
   "source": [
    "# 칼럼명으로 데이터 추출\n",
    "media['센터명']"
   ]
  },
  {
   "cell_type": "code",
   "execution_count": 7,
   "id": "3e37b7c6",
   "metadata": {
    "tags": []
   },
   "outputs": [
    {
     "data": {
      "text/plain": [
       "array(['강원시청자미디어센터', '세종시청자미디어센터', '충북시청자미디어센터', '서울시청자미디어센터', nan],\n",
       "      dtype=object)"
      ]
     },
     "execution_count": 7,
     "metadata": {},
     "output_type": "execute_result"
    }
   ],
   "source": [
    "# 들어있는 값의 종류 확인\n",
    "media['센터명'].unique()"
   ]
  },
  {
   "cell_type": "code",
   "execution_count": 11,
   "id": "0cac3190",
   "metadata": {
    "tags": []
   },
   "outputs": [],
   "source": [
    "# 결측치 제거\n",
    "# media.fillna(0)\n",
    "media.dropna(how = 'all', axis = 0, inplace =True) # 전부 결측치일 때,  axis = 0(row방향), axis = 1(column방향)"
   ]
  },
  {
   "cell_type": "code",
   "execution_count": 10,
   "id": "dffa891a",
   "metadata": {
    "tags": []
   },
   "outputs": [
    {
     "data": {
      "text/plain": [
       "0     강원\n",
       "1     세종\n",
       "2     세종\n",
       "3     세종\n",
       "4     세종\n",
       "5     세종\n",
       "6     세종\n",
       "7     충북\n",
       "8     충북\n",
       "9     충북\n",
       "10    충북\n",
       "11    충북\n",
       "12    서울\n",
       "Name: 센터명, dtype: object"
      ]
     },
     "execution_count": 10,
     "metadata": {},
     "output_type": "execute_result"
    }
   ],
   "source": [
    "# 센터명에서 지역 추출\n",
    "media['센터명'].apply(lambda x : x[:2]) #여기는 inplace 함수가 불가능 하므로 맨 앞에 media['센터명'] = 를 넣어야 함\n",
    "# 뒤에서 지우는 건 어떻게 하지?  --> 음수를 넣어주면 된다!"
   ]
  },
  {
   "cell_type": "code",
   "execution_count": 90,
   "id": "9763b477",
   "metadata": {},
   "outputs": [
    {
     "data": {
      "text/plain": [
       "array(['유아', '일반시민', '초등생 이상', '5~7세', '중등'], dtype=object)"
      ]
     },
     "execution_count": 90,
     "metadata": {},
     "output_type": "execute_result"
    }
   ],
   "source": [
    "media['교육대상구분'].unique()"
   ]
  },
  {
   "cell_type": "code",
   "execution_count": 91,
   "id": "56f3b353",
   "metadata": {},
   "outputs": [],
   "source": [
    "# 교육대상 grouping\n",
    "#유아 + 5 ~ 7세 = 미취학 아동 / 중등 / 일반시민 + 초등생 이상 = 일반시민 => 딕셔너리 사용해보기\n",
    "#유아 -> 미취학\n",
    "#5~7세 -> 미취학\n",
    "#일반시민 -> 일반시민\n",
    "#초등생 이상 -> 일반시민\n",
    "#중등 -> 중등"
   ]
  },
  {
   "cell_type": "code",
   "execution_count": 92,
   "id": "4a4db640",
   "metadata": {},
   "outputs": [],
   "source": [
    "translate = {'유아' : '미취학',\n",
    "'5~7세' : '미취학',\n",
    "'일반시민' :'일반시민',\n",
    "'초등생 이상' : '일반시민',\n",
    "'중등' :'중등'}"
   ]
  },
  {
   "cell_type": "code",
   "execution_count": 93,
   "id": "b50ef649",
   "metadata": {},
   "outputs": [],
   "source": [
    "media['교육대상구분'] = [translate[m] for m in media['교육대상구분']]"
   ]
  },
  {
   "cell_type": "code",
   "execution_count": 36,
   "id": "b07e3ac0",
   "metadata": {},
   "outputs": [
    {
     "data": {
      "text/plain": [
       "array(['미취학', '일반시민', '중등'], dtype=object)"
      ]
     },
     "execution_count": 36,
     "metadata": {},
     "output_type": "execute_result"
    }
   ],
   "source": [
    "media['교육대상구분'].unique()"
   ]
  },
  {
   "cell_type": "code",
   "execution_count": 42,
   "id": "01f1715d",
   "metadata": {},
   "outputs": [
    {
     "data": {
      "text/plain": [
       "True"
      ]
     },
     "execution_count": 42,
     "metadata": {},
     "output_type": "execute_result"
    }
   ],
   "source": [
    "#결측치는 float\n",
    "#연산을 하면 False로 반환(틀린 값을 냈기 때문에 float('nan') != float('nan') 는 True를 반환)\n",
    "#이런 특성을 이용해 결측치를 처리할 때 이를 이용해서 처리할 수 있음\n",
    "\n",
    "4 == 4"
   ]
  },
  {
   "cell_type": "code",
   "execution_count": 38,
   "id": "e18f55d2",
   "metadata": {},
   "outputs": [
    {
     "data": {
      "text/plain": [
       "False"
      ]
     },
     "execution_count": 38,
     "metadata": {},
     "output_type": "execute_result"
    }
   ],
   "source": [
    "4 !=4"
   ]
  },
  {
   "cell_type": "code",
   "execution_count": 39,
   "id": "4f8e7060",
   "metadata": {},
   "outputs": [
    {
     "data": {
      "text/plain": [
       "False"
      ]
     },
     "execution_count": 39,
     "metadata": {},
     "output_type": "execute_result"
    }
   ],
   "source": [
    "float('nan') == float('nan') "
   ]
  },
  {
   "cell_type": "code",
   "execution_count": 40,
   "id": "cc0bc6e8",
   "metadata": {},
   "outputs": [
    {
     "data": {
      "text/plain": [
       "True"
      ]
     },
     "execution_count": 40,
     "metadata": {},
     "output_type": "execute_result"
    }
   ],
   "source": [
    "float('nan') != float('nan')"
   ]
  },
  {
   "cell_type": "code",
   "execution_count": 97,
   "id": "eccd0944",
   "metadata": {},
   "outputs": [],
   "source": [
    "#날짜 처리가 가능한 형식으로 만들기\n",
    "from datetime import datetime"
   ]
  },
  {
   "cell_type": "code",
   "execution_count": 102,
   "id": "3e7fa263",
   "metadata": {},
   "outputs": [],
   "source": [
    "media['교육시작일자'] = media['교육시작일자'].apply(lambda x :datetime.strptime(x, '%Y-%m-%d'))\n",
    "media['교육종료일자'] = media['교육종료일자'].apply(lambda x :datetime.strptime(x, '%Y-%m-%d'))"
   ]
  },
  {
   "cell_type": "code",
   "execution_count": 116,
   "id": "f50e3ad0",
   "metadata": {},
   "outputs": [
    {
     "data": {
      "text/plain": [
       "0     0 days\n",
       "1     7 days\n",
       "2     7 days\n",
       "3     7 days\n",
       "4     0 days\n",
       "5     0 days\n",
       "6     0 days\n",
       "7    29 days\n",
       "8    30 days\n",
       "9    31 days\n",
       "10   32 days\n",
       "11   33 days\n",
       "12    0 days\n",
       "dtype: timedelta64[ns]"
      ]
     },
     "execution_count": 116,
     "metadata": {},
     "output_type": "execute_result"
    }
   ],
   "source": [
    "media['교육종료일자'] - media['교육시작일자']"
   ]
  },
  {
   "cell_type": "code",
   "execution_count": 119,
   "id": "c08c0959",
   "metadata": {},
   "outputs": [],
   "source": [
    "# 새로운 컬럼 추카하기\n",
    "media['교육진행기간'] = media['교육종료일자'] - media['교육시작일자']"
   ]
  },
  {
   "cell_type": "code",
   "execution_count": 120,
   "id": "6c4a5862",
   "metadata": {},
   "outputs": [],
   "source": [
    "#media['교육진행기간'].apply(lambda x :x.days + 1)"
   ]
  },
  {
   "cell_type": "code",
   "execution_count": 121,
   "id": "cc15878a",
   "metadata": {},
   "outputs": [],
   "source": [
    "media['교육진행기간'] = media['교육진행기간'].apply(lambda x :x + pd.Timedelta('1days')) #).days하면 정수로 반환\n",
    "# 년단위로 하고 싶으면 Timedelta 말고 다른 함수를 이용(Timedelta는 일, 시, 분, 초 기준)"
   ]
  },
  {
   "cell_type": "code",
   "execution_count": 122,
   "id": "b342ce0b",
   "metadata": {},
   "outputs": [
    {
     "data": {
      "text/html": [
       "<div>\n",
       "<style scoped>\n",
       "    .dataframe tbody tr th:only-of-type {\n",
       "        vertical-align: middle;\n",
       "    }\n",
       "\n",
       "    .dataframe tbody tr th {\n",
       "        vertical-align: top;\n",
       "    }\n",
       "\n",
       "    .dataframe thead th {\n",
       "        text-align: right;\n",
       "    }\n",
       "</style>\n",
       "<table border=\"1\" class=\"dataframe\">\n",
       "  <thead>\n",
       "    <tr style=\"text-align: right;\">\n",
       "      <th></th>\n",
       "      <th>센터명</th>\n",
       "      <th>강좌명</th>\n",
       "      <th>강사명</th>\n",
       "      <th>교육시작일자</th>\n",
       "      <th>교육종료일자</th>\n",
       "      <th>강좌내용</th>\n",
       "      <th>교육대상구분</th>\n",
       "      <th>교육방법구분</th>\n",
       "      <th>운영요일</th>\n",
       "      <th>강좌정원수</th>\n",
       "      <th>데이터기준일자</th>\n",
       "      <th>차수</th>\n",
       "      <th>교육진행기간</th>\n",
       "    </tr>\n",
       "  </thead>\n",
       "  <tbody>\n",
       "    <tr>\n",
       "      <th>0</th>\n",
       "      <td>강원시청자미디어센터</td>\n",
       "      <td>TV 체험</td>\n",
       "      <td>홍진희</td>\n",
       "      <td>2024-01-25</td>\n",
       "      <td>2024-01-25</td>\n",
       "      <td>유아 대상 크로마키 체험</td>\n",
       "      <td>미취학</td>\n",
       "      <td>오프라인</td>\n",
       "      <td>목</td>\n",
       "      <td>20.0</td>\n",
       "      <td>2023-12-28</td>\n",
       "      <td>1.0</td>\n",
       "      <td>1 days</td>\n",
       "    </tr>\n",
       "    <tr>\n",
       "      <th>1</th>\n",
       "      <td>세종시청자미디어센터</td>\n",
       "      <td>겨울방학 미디어 체험</td>\n",
       "      <td>미정</td>\n",
       "      <td>2024-01-22</td>\n",
       "      <td>2024-01-29</td>\n",
       "      <td>TV / 라디오 / 더빙 / 가족단위 체험</td>\n",
       "      <td>일반시민</td>\n",
       "      <td>오프라인</td>\n",
       "      <td>월</td>\n",
       "      <td>15.0</td>\n",
       "      <td>2024-01-04</td>\n",
       "      <td>1.0</td>\n",
       "      <td>8 days</td>\n",
       "    </tr>\n",
       "    <tr>\n",
       "      <th>2</th>\n",
       "      <td>세종시청자미디어센터</td>\n",
       "      <td>겨울방학 미디어 체험</td>\n",
       "      <td>미정</td>\n",
       "      <td>2024-01-23</td>\n",
       "      <td>2024-01-30</td>\n",
       "      <td>TV / 라디오 / 더빙 / 가족단위 체험</td>\n",
       "      <td>일반시민</td>\n",
       "      <td>오프라인</td>\n",
       "      <td>화</td>\n",
       "      <td>15.0</td>\n",
       "      <td>2024-01-04</td>\n",
       "      <td>1.0</td>\n",
       "      <td>8 days</td>\n",
       "    </tr>\n",
       "    <tr>\n",
       "      <th>3</th>\n",
       "      <td>세종시청자미디어센터</td>\n",
       "      <td>겨울방학 미디어 체험</td>\n",
       "      <td>미정</td>\n",
       "      <td>2024-01-24</td>\n",
       "      <td>2024-01-31</td>\n",
       "      <td>TV / 라디오 / 더빙 / 가족단위 체험</td>\n",
       "      <td>일반시민</td>\n",
       "      <td>오프라인</td>\n",
       "      <td>수</td>\n",
       "      <td>15.0</td>\n",
       "      <td>2024-01-04</td>\n",
       "      <td>1.0</td>\n",
       "      <td>8 days</td>\n",
       "    </tr>\n",
       "    <tr>\n",
       "      <th>4</th>\n",
       "      <td>세종시청자미디어센터</td>\n",
       "      <td>겨울방학 미디어 체험</td>\n",
       "      <td>미정</td>\n",
       "      <td>2024-01-25</td>\n",
       "      <td>2024-01-25</td>\n",
       "      <td>TV / 라디오 / 더빙 / 가족단위 체험</td>\n",
       "      <td>일반시민</td>\n",
       "      <td>오프라인</td>\n",
       "      <td>목</td>\n",
       "      <td>15.0</td>\n",
       "      <td>2024-01-04</td>\n",
       "      <td>1.0</td>\n",
       "      <td>1 days</td>\n",
       "    </tr>\n",
       "    <tr>\n",
       "      <th>5</th>\n",
       "      <td>세종시청자미디어센터</td>\n",
       "      <td>겨울방학 미디어 체험</td>\n",
       "      <td>미정</td>\n",
       "      <td>2024-01-26</td>\n",
       "      <td>2024-01-26</td>\n",
       "      <td>TV / 라디오 / 더빙 / 가족단위 체험</td>\n",
       "      <td>일반시민</td>\n",
       "      <td>오프라인</td>\n",
       "      <td>금</td>\n",
       "      <td>15.0</td>\n",
       "      <td>2024-01-04</td>\n",
       "      <td>1.0</td>\n",
       "      <td>1 days</td>\n",
       "    </tr>\n",
       "    <tr>\n",
       "      <th>6</th>\n",
       "      <td>세종시청자미디어센터</td>\n",
       "      <td>겨울방학 미디어 체험</td>\n",
       "      <td>미정</td>\n",
       "      <td>2024-01-27</td>\n",
       "      <td>2024-01-27</td>\n",
       "      <td>TV / 라디오 / 더빙 / 가족단위 체험</td>\n",
       "      <td>일반시민</td>\n",
       "      <td>오프라인</td>\n",
       "      <td>토</td>\n",
       "      <td>15.0</td>\n",
       "      <td>2024-01-04</td>\n",
       "      <td>1.0</td>\n",
       "      <td>1 days</td>\n",
       "    </tr>\n",
       "    <tr>\n",
       "      <th>7</th>\n",
       "      <td>충북시청자미디어센터</td>\n",
       "      <td>TV체험(뉴스체험)</td>\n",
       "      <td>미정</td>\n",
       "      <td>2024-01-02</td>\n",
       "      <td>2024-01-31</td>\n",
       "      <td>아나운서, 기자, 기상캐스터 등 역할을 나누어 뉴스 제작 과정을 체험해보는 프로그램</td>\n",
       "      <td>일반시민</td>\n",
       "      <td>오프라인</td>\n",
       "      <td>월,화,수,목,금,토</td>\n",
       "      <td>15.0</td>\n",
       "      <td>2024-01-05</td>\n",
       "      <td>1.0</td>\n",
       "      <td>30 days</td>\n",
       "    </tr>\n",
       "    <tr>\n",
       "      <th>8</th>\n",
       "      <td>충북시청자미디어센터</td>\n",
       "      <td>라디오체험(DJ체험)</td>\n",
       "      <td>미정</td>\n",
       "      <td>2024-01-02</td>\n",
       "      <td>2024-02-01</td>\n",
       "      <td>라디오 프로그램을 작가, DJ, 게스트가 되어 라디오 프로그램을 제작해보는 체험</td>\n",
       "      <td>일반시민</td>\n",
       "      <td>오프라인</td>\n",
       "      <td>월,화,수,목,금,토</td>\n",
       "      <td>15.0</td>\n",
       "      <td>2024-01-05</td>\n",
       "      <td>1.0</td>\n",
       "      <td>31 days</td>\n",
       "    </tr>\n",
       "    <tr>\n",
       "      <th>9</th>\n",
       "      <td>충북시청자미디어센터</td>\n",
       "      <td>유아 크로마키 체험</td>\n",
       "      <td>미정</td>\n",
       "      <td>2024-01-02</td>\n",
       "      <td>2024-02-02</td>\n",
       "      <td>유아 대상 크로마키를 통해 다양한 놀이를 해보는 체험</td>\n",
       "      <td>미취학</td>\n",
       "      <td>오프라인</td>\n",
       "      <td>월,화,수,목,금,토</td>\n",
       "      <td>15.0</td>\n",
       "      <td>2024-01-05</td>\n",
       "      <td>1.0</td>\n",
       "      <td>32 days</td>\n",
       "    </tr>\n",
       "    <tr>\n",
       "      <th>10</th>\n",
       "      <td>충북시청자미디어센터</td>\n",
       "      <td>AI 체험</td>\n",
       "      <td>미정</td>\n",
       "      <td>2024-01-02</td>\n",
       "      <td>2024-02-03</td>\n",
       "      <td>인공지능에 대해 이해하고 머신러닝을 여러 방법으로 알아보는 체험</td>\n",
       "      <td>일반시민</td>\n",
       "      <td>오프라인</td>\n",
       "      <td>월,화,수,목,금,토</td>\n",
       "      <td>15.0</td>\n",
       "      <td>2024-01-05</td>\n",
       "      <td>1.0</td>\n",
       "      <td>33 days</td>\n",
       "    </tr>\n",
       "    <tr>\n",
       "      <th>11</th>\n",
       "      <td>충북시청자미디어센터</td>\n",
       "      <td>라이브커머스체험</td>\n",
       "      <td>미정</td>\n",
       "      <td>2024-01-02</td>\n",
       "      <td>2024-02-04</td>\n",
       "      <td>라이브커머스의 이해 및 체험</td>\n",
       "      <td>일반시민</td>\n",
       "      <td>오프라인</td>\n",
       "      <td>월,화,수,목,금,토</td>\n",
       "      <td>15.0</td>\n",
       "      <td>2024-01-05</td>\n",
       "      <td>1.0</td>\n",
       "      <td>34 days</td>\n",
       "    </tr>\n",
       "    <tr>\n",
       "      <th>12</th>\n",
       "      <td>서울시청자미디어센터</td>\n",
       "      <td>성암여중 더빙체험</td>\n",
       "      <td>김도경</td>\n",
       "      <td>2024-01-05</td>\n",
       "      <td>2024-01-05</td>\n",
       "      <td>성암여중 더빙체험</td>\n",
       "      <td>중등</td>\n",
       "      <td>오프라인</td>\n",
       "      <td>금</td>\n",
       "      <td>10.0</td>\n",
       "      <td>2024-01-05</td>\n",
       "      <td>1.0</td>\n",
       "      <td>1 days</td>\n",
       "    </tr>\n",
       "  </tbody>\n",
       "</table>\n",
       "</div>"
      ],
      "text/plain": [
       "           센터명          강좌명  강사명     교육시작일자     교육종료일자  \\\n",
       "0   강원시청자미디어센터        TV 체험  홍진희 2024-01-25 2024-01-25   \n",
       "1   세종시청자미디어센터  겨울방학 미디어 체험   미정 2024-01-22 2024-01-29   \n",
       "2   세종시청자미디어센터  겨울방학 미디어 체험   미정 2024-01-23 2024-01-30   \n",
       "3   세종시청자미디어센터  겨울방학 미디어 체험   미정 2024-01-24 2024-01-31   \n",
       "4   세종시청자미디어센터  겨울방학 미디어 체험   미정 2024-01-25 2024-01-25   \n",
       "5   세종시청자미디어센터  겨울방학 미디어 체험   미정 2024-01-26 2024-01-26   \n",
       "6   세종시청자미디어센터  겨울방학 미디어 체험   미정 2024-01-27 2024-01-27   \n",
       "7   충북시청자미디어센터   TV체험(뉴스체험)   미정 2024-01-02 2024-01-31   \n",
       "8   충북시청자미디어센터  라디오체험(DJ체험)   미정 2024-01-02 2024-02-01   \n",
       "9   충북시청자미디어센터   유아 크로마키 체험   미정 2024-01-02 2024-02-02   \n",
       "10  충북시청자미디어센터        AI 체험   미정 2024-01-02 2024-02-03   \n",
       "11  충북시청자미디어센터     라이브커머스체험   미정 2024-01-02 2024-02-04   \n",
       "12  서울시청자미디어센터    성암여중 더빙체험  김도경 2024-01-05 2024-01-05   \n",
       "\n",
       "                                              강좌내용 교육대상구분 교육방법구분         운영요일  \\\n",
       "0                                    유아 대상 크로마키 체험    미취학   오프라인            목   \n",
       "1                          TV / 라디오 / 더빙 / 가족단위 체험   일반시민   오프라인            월   \n",
       "2                          TV / 라디오 / 더빙 / 가족단위 체험   일반시민   오프라인            화   \n",
       "3                          TV / 라디오 / 더빙 / 가족단위 체험   일반시민   오프라인            수   \n",
       "4                          TV / 라디오 / 더빙 / 가족단위 체험   일반시민   오프라인            목   \n",
       "5                          TV / 라디오 / 더빙 / 가족단위 체험   일반시민   오프라인            금   \n",
       "6                          TV / 라디오 / 더빙 / 가족단위 체험   일반시민   오프라인            토   \n",
       "7   아나운서, 기자, 기상캐스터 등 역할을 나누어 뉴스 제작 과정을 체험해보는 프로그램   일반시민   오프라인  월,화,수,목,금,토   \n",
       "8     라디오 프로그램을 작가, DJ, 게스트가 되어 라디오 프로그램을 제작해보는 체험   일반시민   오프라인  월,화,수,목,금,토   \n",
       "9                    유아 대상 크로마키를 통해 다양한 놀이를 해보는 체험    미취학   오프라인  월,화,수,목,금,토   \n",
       "10             인공지능에 대해 이해하고 머신러닝을 여러 방법으로 알아보는 체험   일반시민   오프라인  월,화,수,목,금,토   \n",
       "11                                 라이브커머스의 이해 및 체험   일반시민   오프라인  월,화,수,목,금,토   \n",
       "12                                       성암여중 더빙체험     중등   오프라인            금   \n",
       "\n",
       "    강좌정원수     데이터기준일자   차수  교육진행기간  \n",
       "0    20.0  2023-12-28  1.0  1 days  \n",
       "1    15.0  2024-01-04  1.0  8 days  \n",
       "2    15.0  2024-01-04  1.0  8 days  \n",
       "3    15.0  2024-01-04  1.0  8 days  \n",
       "4    15.0  2024-01-04  1.0  1 days  \n",
       "5    15.0  2024-01-04  1.0  1 days  \n",
       "6    15.0  2024-01-04  1.0  1 days  \n",
       "7    15.0  2024-01-05  1.0 30 days  \n",
       "8    15.0  2024-01-05  1.0 31 days  \n",
       "9    15.0  2024-01-05  1.0 32 days  \n",
       "10   15.0  2024-01-05  1.0 33 days  \n",
       "11   15.0  2024-01-05  1.0 34 days  \n",
       "12   10.0  2024-01-05  1.0  1 days  "
      ]
     },
     "execution_count": 122,
     "metadata": {},
     "output_type": "execute_result"
    }
   ],
   "source": [
    "media"
   ]
  },
  {
   "cell_type": "code",
   "execution_count": 123,
   "id": "17c5f20d",
   "metadata": {},
   "outputs": [
    {
     "data": {
      "text/plain": [
       "array(['유아 대상 크로마키 체험', 'TV / 라디오 / 더빙 / 가족단위 체험',\n",
       "       '아나운서, 기자, 기상캐스터 등 역할을 나누어 뉴스 제작 과정을 체험해보는 프로그램',\n",
       "       '라디오 프로그램을 작가, DJ, 게스트가 되어 라디오 프로그램을 제작해보는 체험',\n",
       "       '유아 대상 크로마키를 통해 다양한 놀이를 해보는 체험',\n",
       "       '인공지능에 대해 이해하고 머신러닝을 여러 방법으로 알아보는 체험', '라이브커머스의 이해 및 체험',\n",
       "       '성암여중 더빙체험'], dtype=object)"
      ]
     },
     "execution_count": 123,
     "metadata": {},
     "output_type": "execute_result"
    }
   ],
   "source": [
    "media['강좌내용'].unique()"
   ]
  },
  {
   "cell_type": "code",
   "execution_count": 137,
   "id": "782496e7",
   "metadata": {},
   "outputs": [],
   "source": [
    "#강좌내용을 비슷한 것끼리 묶어보자!\n",
    "def chk_cat(x):\n",
    "    if '더빙' in x:\n",
    "        return '더빙'\n",
    "    elif any([i in x for i in['뉴스','라디오','라이브커머스']]):\n",
    "        return '컨텐츠'\n",
    "    elif '크로마키' in x:\n",
    "        return '크로마키'\n",
    "    elif '인공지능' in x:\n",
    "        return '인공지능'\n",
    "    else:\n",
    "        return x"
   ]
  },
  {
   "cell_type": "code",
   "execution_count": 132,
   "id": "1b627fe2",
   "metadata": {},
   "outputs": [
    {
     "data": {
      "text/plain": [
       "False"
      ]
     },
     "execution_count": 132,
     "metadata": {},
     "output_type": "execute_result"
    }
   ],
   "source": [
    "all([False, True, True]) #하나라도 False면 False 반환\n",
    "any([False, True, True]) #하나라도 True면 Frue 반환"
   ]
  },
  {
   "cell_type": "code",
   "execution_count": 128,
   "id": "ec9a7347",
   "metadata": {},
   "outputs": [
    {
     "data": {
      "text/plain": [
       "0                                      유아 대상 크로마키 체험\n",
       "1                                                 더빙\n",
       "2                                                 더빙\n",
       "3                                                 더빙\n",
       "4                                                 더빙\n",
       "5                                                 더빙\n",
       "6                                                 더빙\n",
       "7     아나운서, 기자, 기상캐스터 등 역할을 나누어 뉴스 제작 과정을 체험해보는 프로그램\n",
       "8       라디오 프로그램을 작가, DJ, 게스트가 되어 라디오 프로그램을 제작해보는 체험\n",
       "9                      유아 대상 크로마키를 통해 다양한 놀이를 해보는 체험\n",
       "10               인공지능에 대해 이해하고 머신러닝을 여러 방법으로 알아보는 체험\n",
       "11                                   라이브커머스의 이해 및 체험\n",
       "12                                                더빙\n",
       "Name: 강좌내용, dtype: object"
      ]
     },
     "execution_count": 128,
     "metadata": {},
     "output_type": "execute_result"
    }
   ],
   "source": [
    "#  비슷한 데이터끼리 분류하기\n",
    "# '더빙' in'TV / 라디오 / 더빙 / 가족단위 체험',\n",
    "# media['강좌내용'].apply(lambda x : '더빙' if '더빙' in x else x)"
   ]
  },
  {
   "cell_type": "code",
   "execution_count": 138,
   "id": "2bb08a8c",
   "metadata": {},
   "outputs": [],
   "source": [
    "media['강좌내용'] = media['강좌내용'].apply(lambda x : chk_cat(x))"
   ]
  },
  {
   "cell_type": "code",
   "execution_count": 139,
   "id": "23354643",
   "metadata": {},
   "outputs": [
    {
     "data": {
      "text/html": [
       "<div>\n",
       "<style scoped>\n",
       "    .dataframe tbody tr th:only-of-type {\n",
       "        vertical-align: middle;\n",
       "    }\n",
       "\n",
       "    .dataframe tbody tr th {\n",
       "        vertical-align: top;\n",
       "    }\n",
       "\n",
       "    .dataframe thead th {\n",
       "        text-align: right;\n",
       "    }\n",
       "</style>\n",
       "<table border=\"1\" class=\"dataframe\">\n",
       "  <thead>\n",
       "    <tr style=\"text-align: right;\">\n",
       "      <th></th>\n",
       "      <th>센터명</th>\n",
       "      <th>강좌명</th>\n",
       "      <th>강사명</th>\n",
       "      <th>교육시작일자</th>\n",
       "      <th>교육종료일자</th>\n",
       "      <th>강좌내용</th>\n",
       "      <th>교육대상구분</th>\n",
       "      <th>교육방법구분</th>\n",
       "      <th>운영요일</th>\n",
       "      <th>강좌정원수</th>\n",
       "      <th>데이터기준일자</th>\n",
       "      <th>차수</th>\n",
       "      <th>교육진행기간</th>\n",
       "    </tr>\n",
       "  </thead>\n",
       "  <tbody>\n",
       "    <tr>\n",
       "      <th>0</th>\n",
       "      <td>강원시청자미디어센터</td>\n",
       "      <td>TV 체험</td>\n",
       "      <td>홍진희</td>\n",
       "      <td>2024-01-25</td>\n",
       "      <td>2024-01-25</td>\n",
       "      <td>크로마키</td>\n",
       "      <td>미취학</td>\n",
       "      <td>오프라인</td>\n",
       "      <td>목</td>\n",
       "      <td>20.0</td>\n",
       "      <td>2023-12-28</td>\n",
       "      <td>1.0</td>\n",
       "      <td>1 days</td>\n",
       "    </tr>\n",
       "    <tr>\n",
       "      <th>1</th>\n",
       "      <td>세종시청자미디어센터</td>\n",
       "      <td>겨울방학 미디어 체험</td>\n",
       "      <td>미정</td>\n",
       "      <td>2024-01-22</td>\n",
       "      <td>2024-01-29</td>\n",
       "      <td>더빙</td>\n",
       "      <td>일반시민</td>\n",
       "      <td>오프라인</td>\n",
       "      <td>월</td>\n",
       "      <td>15.0</td>\n",
       "      <td>2024-01-04</td>\n",
       "      <td>1.0</td>\n",
       "      <td>8 days</td>\n",
       "    </tr>\n",
       "    <tr>\n",
       "      <th>2</th>\n",
       "      <td>세종시청자미디어센터</td>\n",
       "      <td>겨울방학 미디어 체험</td>\n",
       "      <td>미정</td>\n",
       "      <td>2024-01-23</td>\n",
       "      <td>2024-01-30</td>\n",
       "      <td>더빙</td>\n",
       "      <td>일반시민</td>\n",
       "      <td>오프라인</td>\n",
       "      <td>화</td>\n",
       "      <td>15.0</td>\n",
       "      <td>2024-01-04</td>\n",
       "      <td>1.0</td>\n",
       "      <td>8 days</td>\n",
       "    </tr>\n",
       "    <tr>\n",
       "      <th>3</th>\n",
       "      <td>세종시청자미디어센터</td>\n",
       "      <td>겨울방학 미디어 체험</td>\n",
       "      <td>미정</td>\n",
       "      <td>2024-01-24</td>\n",
       "      <td>2024-01-31</td>\n",
       "      <td>더빙</td>\n",
       "      <td>일반시민</td>\n",
       "      <td>오프라인</td>\n",
       "      <td>수</td>\n",
       "      <td>15.0</td>\n",
       "      <td>2024-01-04</td>\n",
       "      <td>1.0</td>\n",
       "      <td>8 days</td>\n",
       "    </tr>\n",
       "    <tr>\n",
       "      <th>4</th>\n",
       "      <td>세종시청자미디어센터</td>\n",
       "      <td>겨울방학 미디어 체험</td>\n",
       "      <td>미정</td>\n",
       "      <td>2024-01-25</td>\n",
       "      <td>2024-01-25</td>\n",
       "      <td>더빙</td>\n",
       "      <td>일반시민</td>\n",
       "      <td>오프라인</td>\n",
       "      <td>목</td>\n",
       "      <td>15.0</td>\n",
       "      <td>2024-01-04</td>\n",
       "      <td>1.0</td>\n",
       "      <td>1 days</td>\n",
       "    </tr>\n",
       "    <tr>\n",
       "      <th>5</th>\n",
       "      <td>세종시청자미디어센터</td>\n",
       "      <td>겨울방학 미디어 체험</td>\n",
       "      <td>미정</td>\n",
       "      <td>2024-01-26</td>\n",
       "      <td>2024-01-26</td>\n",
       "      <td>더빙</td>\n",
       "      <td>일반시민</td>\n",
       "      <td>오프라인</td>\n",
       "      <td>금</td>\n",
       "      <td>15.0</td>\n",
       "      <td>2024-01-04</td>\n",
       "      <td>1.0</td>\n",
       "      <td>1 days</td>\n",
       "    </tr>\n",
       "    <tr>\n",
       "      <th>6</th>\n",
       "      <td>세종시청자미디어센터</td>\n",
       "      <td>겨울방학 미디어 체험</td>\n",
       "      <td>미정</td>\n",
       "      <td>2024-01-27</td>\n",
       "      <td>2024-01-27</td>\n",
       "      <td>더빙</td>\n",
       "      <td>일반시민</td>\n",
       "      <td>오프라인</td>\n",
       "      <td>토</td>\n",
       "      <td>15.0</td>\n",
       "      <td>2024-01-04</td>\n",
       "      <td>1.0</td>\n",
       "      <td>1 days</td>\n",
       "    </tr>\n",
       "    <tr>\n",
       "      <th>7</th>\n",
       "      <td>충북시청자미디어센터</td>\n",
       "      <td>TV체험(뉴스체험)</td>\n",
       "      <td>미정</td>\n",
       "      <td>2024-01-02</td>\n",
       "      <td>2024-01-31</td>\n",
       "      <td>컨텐츠</td>\n",
       "      <td>일반시민</td>\n",
       "      <td>오프라인</td>\n",
       "      <td>월,화,수,목,금,토</td>\n",
       "      <td>15.0</td>\n",
       "      <td>2024-01-05</td>\n",
       "      <td>1.0</td>\n",
       "      <td>30 days</td>\n",
       "    </tr>\n",
       "    <tr>\n",
       "      <th>8</th>\n",
       "      <td>충북시청자미디어센터</td>\n",
       "      <td>라디오체험(DJ체험)</td>\n",
       "      <td>미정</td>\n",
       "      <td>2024-01-02</td>\n",
       "      <td>2024-02-01</td>\n",
       "      <td>컨텐츠</td>\n",
       "      <td>일반시민</td>\n",
       "      <td>오프라인</td>\n",
       "      <td>월,화,수,목,금,토</td>\n",
       "      <td>15.0</td>\n",
       "      <td>2024-01-05</td>\n",
       "      <td>1.0</td>\n",
       "      <td>31 days</td>\n",
       "    </tr>\n",
       "    <tr>\n",
       "      <th>9</th>\n",
       "      <td>충북시청자미디어센터</td>\n",
       "      <td>유아 크로마키 체험</td>\n",
       "      <td>미정</td>\n",
       "      <td>2024-01-02</td>\n",
       "      <td>2024-02-02</td>\n",
       "      <td>크로마키</td>\n",
       "      <td>미취학</td>\n",
       "      <td>오프라인</td>\n",
       "      <td>월,화,수,목,금,토</td>\n",
       "      <td>15.0</td>\n",
       "      <td>2024-01-05</td>\n",
       "      <td>1.0</td>\n",
       "      <td>32 days</td>\n",
       "    </tr>\n",
       "    <tr>\n",
       "      <th>10</th>\n",
       "      <td>충북시청자미디어센터</td>\n",
       "      <td>AI 체험</td>\n",
       "      <td>미정</td>\n",
       "      <td>2024-01-02</td>\n",
       "      <td>2024-02-03</td>\n",
       "      <td>인공지능</td>\n",
       "      <td>일반시민</td>\n",
       "      <td>오프라인</td>\n",
       "      <td>월,화,수,목,금,토</td>\n",
       "      <td>15.0</td>\n",
       "      <td>2024-01-05</td>\n",
       "      <td>1.0</td>\n",
       "      <td>33 days</td>\n",
       "    </tr>\n",
       "    <tr>\n",
       "      <th>11</th>\n",
       "      <td>충북시청자미디어센터</td>\n",
       "      <td>라이브커머스체험</td>\n",
       "      <td>미정</td>\n",
       "      <td>2024-01-02</td>\n",
       "      <td>2024-02-04</td>\n",
       "      <td>컨텐츠</td>\n",
       "      <td>일반시민</td>\n",
       "      <td>오프라인</td>\n",
       "      <td>월,화,수,목,금,토</td>\n",
       "      <td>15.0</td>\n",
       "      <td>2024-01-05</td>\n",
       "      <td>1.0</td>\n",
       "      <td>34 days</td>\n",
       "    </tr>\n",
       "    <tr>\n",
       "      <th>12</th>\n",
       "      <td>서울시청자미디어센터</td>\n",
       "      <td>성암여중 더빙체험</td>\n",
       "      <td>김도경</td>\n",
       "      <td>2024-01-05</td>\n",
       "      <td>2024-01-05</td>\n",
       "      <td>더빙</td>\n",
       "      <td>중등</td>\n",
       "      <td>오프라인</td>\n",
       "      <td>금</td>\n",
       "      <td>10.0</td>\n",
       "      <td>2024-01-05</td>\n",
       "      <td>1.0</td>\n",
       "      <td>1 days</td>\n",
       "    </tr>\n",
       "  </tbody>\n",
       "</table>\n",
       "</div>"
      ],
      "text/plain": [
       "           센터명          강좌명  강사명     교육시작일자     교육종료일자  강좌내용 교육대상구분 교육방법구분  \\\n",
       "0   강원시청자미디어센터        TV 체험  홍진희 2024-01-25 2024-01-25  크로마키    미취학   오프라인   \n",
       "1   세종시청자미디어센터  겨울방학 미디어 체험   미정 2024-01-22 2024-01-29    더빙   일반시민   오프라인   \n",
       "2   세종시청자미디어센터  겨울방학 미디어 체험   미정 2024-01-23 2024-01-30    더빙   일반시민   오프라인   \n",
       "3   세종시청자미디어센터  겨울방학 미디어 체험   미정 2024-01-24 2024-01-31    더빙   일반시민   오프라인   \n",
       "4   세종시청자미디어센터  겨울방학 미디어 체험   미정 2024-01-25 2024-01-25    더빙   일반시민   오프라인   \n",
       "5   세종시청자미디어센터  겨울방학 미디어 체험   미정 2024-01-26 2024-01-26    더빙   일반시민   오프라인   \n",
       "6   세종시청자미디어센터  겨울방학 미디어 체험   미정 2024-01-27 2024-01-27    더빙   일반시민   오프라인   \n",
       "7   충북시청자미디어센터   TV체험(뉴스체험)   미정 2024-01-02 2024-01-31   컨텐츠   일반시민   오프라인   \n",
       "8   충북시청자미디어센터  라디오체험(DJ체험)   미정 2024-01-02 2024-02-01   컨텐츠   일반시민   오프라인   \n",
       "9   충북시청자미디어센터   유아 크로마키 체험   미정 2024-01-02 2024-02-02  크로마키    미취학   오프라인   \n",
       "10  충북시청자미디어센터        AI 체험   미정 2024-01-02 2024-02-03  인공지능   일반시민   오프라인   \n",
       "11  충북시청자미디어센터     라이브커머스체험   미정 2024-01-02 2024-02-04   컨텐츠   일반시민   오프라인   \n",
       "12  서울시청자미디어센터    성암여중 더빙체험  김도경 2024-01-05 2024-01-05    더빙     중등   오프라인   \n",
       "\n",
       "           운영요일  강좌정원수     데이터기준일자   차수  교육진행기간  \n",
       "0             목   20.0  2023-12-28  1.0  1 days  \n",
       "1             월   15.0  2024-01-04  1.0  8 days  \n",
       "2             화   15.0  2024-01-04  1.0  8 days  \n",
       "3             수   15.0  2024-01-04  1.0  8 days  \n",
       "4             목   15.0  2024-01-04  1.0  1 days  \n",
       "5             금   15.0  2024-01-04  1.0  1 days  \n",
       "6             토   15.0  2024-01-04  1.0  1 days  \n",
       "7   월,화,수,목,금,토   15.0  2024-01-05  1.0 30 days  \n",
       "8   월,화,수,목,금,토   15.0  2024-01-05  1.0 31 days  \n",
       "9   월,화,수,목,금,토   15.0  2024-01-05  1.0 32 days  \n",
       "10  월,화,수,목,금,토   15.0  2024-01-05  1.0 33 days  \n",
       "11  월,화,수,목,금,토   15.0  2024-01-05  1.0 34 days  \n",
       "12            금   10.0  2024-01-05  1.0  1 days  "
      ]
     },
     "execution_count": 139,
     "metadata": {},
     "output_type": "execute_result"
    }
   ],
   "source": [
    "media"
   ]
  },
  {
   "cell_type": "code",
   "execution_count": null,
   "id": "f6e3b469",
   "metadata": {},
   "outputs": [],
   "source": [
    "# 실제 데이터를 받아보고 분류하고 그룹화 시키는 일에 대해 당연한 사실이 아니고 유의미하게 충분히 고민하고 데이터를 바꿔야 함\n",
    "# 실제 업무 시에는 코드를 내가 필요한 기능에 대한 코드를 달달 외우고 있지 않다!\n",
    "# 그런게 있다는 사실은 알고 있음\n",
    "# 모르면 물어보자... 모르는게 문제가 아니고 독단적으로 진행하다가 사고칠 일이 문제다"
   ]
  },
  {
   "cell_type": "code",
   "execution_count": null,
   "id": "50961c6d",
   "metadata": {},
   "outputs": [],
   "source": [
    "#인덱싱, 슬라이싱, 판다스, 데이터프레임, 함수, 시각화"
   ]
  }
 ],
 "metadata": {
  "kernelspec": {
   "display_name": "Python 3 (ipykernel)",
   "language": "python",
   "name": "python3"
  },
  "language_info": {
   "codemirror_mode": {
    "name": "ipython",
    "version": 3
   },
   "file_extension": ".py",
   "mimetype": "text/x-python",
   "name": "python",
   "nbconvert_exporter": "python",
   "pygments_lexer": "ipython3",
   "version": "3.11.5"
  }
 },
 "nbformat": 4,
 "nbformat_minor": 5
}
