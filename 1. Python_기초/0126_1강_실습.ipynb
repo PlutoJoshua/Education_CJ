{
 "cells": [
  {
   "cell_type": "markdown",
   "id": "02de58cc",
   "metadata": {},
   "source": [
    "---\n",
    "# 다시보니 기억이 새록새록한 첫 날 강의 자료 입니다!\n",
    "나도 hello world 출력했ㄷ ㅏ ~ \n",
    "\n",
    "---"
   ]
  },
  {
   "cell_type": "code",
   "execution_count": 1,
   "id": "4229c58e",
   "metadata": {},
   "outputs": [
    {
     "name": "stdout",
     "output_type": "stream",
     "text": [
      "hello, world!\n"
     ]
    }
   ],
   "source": [
    "print('hello, world!')"
   ]
  },
  {
   "cell_type": "markdown",
   "id": "4de3055d",
   "metadata": {},
   "source": [
    "---\n",
    "# 마크다운 언어로 글 양식 맞추기\n",
    "* 리스트업 가능\n",
    "1. 숫자 매기기\n",
    "2. 그렇답니다"
   ]
  },
  {
   "cell_type": "raw",
   "id": "913f6127",
   "metadata": {},
   "source": [
    "여기는 메모여서 실행 안됨"
   ]
  },
  {
   "cell_type": "markdown",
   "id": "05e71e00",
   "metadata": {
    "vscode": {
     "languageId": "raw"
    }
   },
   "source": [
    "---\n",
    "## 문자열과 숫자 다뤄보기\n",
    "\n",
    "---"
   ]
  },
  {
   "cell_type": "code",
   "execution_count": 3,
   "id": "0d4a21d2",
   "metadata": {},
   "outputs": [
    {
     "data": {
      "text/plain": [
       "'가나다 ABC'"
      ]
     },
     "execution_count": 3,
     "metadata": {},
     "output_type": "execute_result"
    }
   ],
   "source": [
    "'가나다' + ' ' + 'ABC' # 문자 덧셈(정확히는 이어 붙이기) 가능"
   ]
  },
  {
   "cell_type": "code",
   "execution_count": 4,
   "id": "34a0c82b",
   "metadata": {},
   "outputs": [
    {
     "data": {
      "text/plain": [
       "'가나다가나다가나다'"
      ]
     },
     "execution_count": 4,
     "metadata": {},
     "output_type": "execute_result"
    }
   ],
   "source": [
    "('가나다') * 3 # 곱셈도 가능!"
   ]
  },
  {
   "cell_type": "code",
   "execution_count": 2,
   "id": "5a16864f",
   "metadata": {},
   "outputs": [
    {
     "ename": "TypeError",
     "evalue": "unsupported operand type(s) for -: 'str' and 'str'",
     "output_type": "error",
     "traceback": [
      "\u001b[1;31m---------------------------------------------------------------------------\u001b[0m",
      "\u001b[1;31mTypeError\u001b[0m                                 Traceback (most recent call last)",
      "Cell \u001b[1;32mIn[2], line 1\u001b[0m\n\u001b[1;32m----> 1\u001b[0m \u001b[38;5;124m'\u001b[39m\u001b[38;5;124m가나다\u001b[39m\u001b[38;5;124m'\u001b[39m\u001b[38;5;241m-\u001b[39m\u001b[38;5;124m'\u001b[39m\u001b[38;5;124mABC\u001b[39m\u001b[38;5;124m'\u001b[39m\n",
      "\u001b[1;31mTypeError\u001b[0m: unsupported operand type(s) for -: 'str' and 'str'"
     ]
    }
   ],
   "source": [
    "'가나다'-'ABC' # 문자 뺄셈 연산 불가"
   ]
  },
  {
   "cell_type": "code",
   "execution_count": 5,
   "id": "0c4cb339",
   "metadata": {},
   "outputs": [
    {
     "ename": "TypeError",
     "evalue": "unsupported operand type(s) for /: 'str' and 'int'",
     "output_type": "error",
     "traceback": [
      "\u001b[1;31m---------------------------------------------------------------------------\u001b[0m",
      "\u001b[1;31mTypeError\u001b[0m                                 Traceback (most recent call last)",
      "Cell \u001b[1;32mIn[5], line 1\u001b[0m\n\u001b[1;32m----> 1\u001b[0m \u001b[38;5;124m'\u001b[39m\u001b[38;5;124m가나다\u001b[39m\u001b[38;5;124m'\u001b[39m \u001b[38;5;241m/\u001b[39m \u001b[38;5;241m3\u001b[39m\n",
      "\u001b[1;31mTypeError\u001b[0m: unsupported operand type(s) for /: 'str' and 'int'"
     ]
    }
   ],
   "source": [
    "'가나다' / 3 #나누기는 불가능!"
   ]
  },
  {
   "cell_type": "code",
   "execution_count": 6,
   "id": "2356d589",
   "metadata": {},
   "outputs": [
    {
     "data": {
      "text/plain": [
       "[1, 2, 3, 4, 5, 6]"
      ]
     },
     "execution_count": 6,
     "metadata": {},
     "output_type": "execute_result"
    }
   ],
   "source": [
    "[1,2] + [3, 4, 5, 6]"
   ]
  },
  {
   "cell_type": "code",
   "execution_count": 7,
   "id": "dc6ce6ca",
   "metadata": {},
   "outputs": [
    {
     "data": {
      "text/plain": [
       "(4, 5, 6, 'ㄱ', 'ㄴ')"
      ]
     },
     "execution_count": 7,
     "metadata": {},
     "output_type": "execute_result"
    }
   ],
   "source": [
    "(4,5,6) + ('ㄱ','ㄴ')"
   ]
  },
  {
   "cell_type": "code",
   "execution_count": 11,
   "id": "11a0b5b5",
   "metadata": {},
   "outputs": [
    {
     "ename": "TypeError",
     "evalue": "unsupported operand type(s) for +: 'set' and 'set'",
     "output_type": "error",
     "traceback": [
      "\u001b[1;31m---------------------------------------------------------------------------\u001b[0m",
      "\u001b[1;31mTypeError\u001b[0m                                 Traceback (most recent call last)",
      "Cell \u001b[1;32mIn[11], line 1\u001b[0m\n\u001b[1;32m----> 1\u001b[0m {\u001b[38;5;241m4\u001b[39m, \u001b[38;5;241m5\u001b[39m} \u001b[38;5;241m+\u001b[39m {\u001b[38;5;124m'\u001b[39m\u001b[38;5;124mㄱ\u001b[39m\u001b[38;5;124m'\u001b[39m, \u001b[38;5;124m'\u001b[39m\u001b[38;5;124mㄴ\u001b[39m\u001b[38;5;124m'\u001b[39m}\n",
      "\u001b[1;31mTypeError\u001b[0m: unsupported operand type(s) for +: 'set' and 'set'"
     ]
    }
   ],
   "source": [
    "{4, 5} + {'ㄱ', 'ㄴ'} # set 형식은 연산 불가"
   ]
  },
  {
   "cell_type": "code",
   "execution_count": 9,
   "id": "00e9ebc8",
   "metadata": {},
   "outputs": [
    {
     "data": {
      "text/plain": [
       "'HELLOHELLOrrr'"
      ]
     },
     "execution_count": 9,
     "metadata": {},
     "output_type": "execute_result"
    }
   ],
   "source": [
    "'HELLO'*2 + 'r'*3"
   ]
  },
  {
   "cell_type": "code",
   "execution_count": 10,
   "id": "cb2822b9",
   "metadata": {},
   "outputs": [
    {
     "data": {
      "text/plain": [
       "'hellohellohello123'"
      ]
     },
     "execution_count": 10,
     "metadata": {},
     "output_type": "execute_result"
    }
   ],
   "source": [
    "'hello'*3 + '123'"
   ]
  },
  {
   "cell_type": "code",
   "execution_count": 29,
   "id": "b0c3d253",
   "metadata": {
    "scrolled": true
   },
   "outputs": [
    {
     "ename": "TypeError",
     "evalue": "unsupported operand type(s) for -: 'list' and 'list'",
     "output_type": "error",
     "traceback": [
      "\u001b[1;31m---------------------------------------------------------------------------\u001b[0m",
      "\u001b[1;31mTypeError\u001b[0m                                 Traceback (most recent call last)",
      "Cell \u001b[1;32mIn[29], line 1\u001b[0m\n\u001b[1;32m----> 1\u001b[0m [\u001b[38;5;241m1\u001b[39m,\u001b[38;5;241m2\u001b[39m]\u001b[38;5;241m-\u001b[39m[\u001b[38;5;241m1\u001b[39m]\n",
      "\u001b[1;31mTypeError\u001b[0m: unsupported operand type(s) for -: 'list' and 'list'"
     ]
    }
   ],
   "source": [
    "[1,2]-[1]"
   ]
  },
  {
   "cell_type": "markdown",
   "id": "98688c5b",
   "metadata": {},
   "source": [
    "---\n",
    "### 변수에 대해서\n",
    "\n",
    "---"
   ]
  },
  {
   "cell_type": "code",
   "execution_count": 12,
   "id": "aafd5835",
   "metadata": {},
   "outputs": [],
   "source": [
    "x=123\n",
    "y=456"
   ]
  },
  {
   "cell_type": "code",
   "execution_count": 13,
   "id": "a41ec600",
   "metadata": {},
   "outputs": [
    {
     "data": {
      "text/plain": [
       "123"
      ]
     },
     "execution_count": 13,
     "metadata": {},
     "output_type": "execute_result"
    }
   ],
   "source": [
    "x+10\n",
    "x"
   ]
  },
  {
   "cell_type": "code",
   "execution_count": 15,
   "id": "7f64184b",
   "metadata": {},
   "outputs": [
    {
     "data": {
      "text/plain": [
       "143"
      ]
     },
     "execution_count": 15,
     "metadata": {},
     "output_type": "execute_result"
    }
   ],
   "source": [
    "x=x+10\n",
    "x"
   ]
  },
  {
   "cell_type": "markdown",
   "id": "b56080d7",
   "metadata": {},
   "source": [
    "---"
   ]
  },
  {
   "cell_type": "code",
   "execution_count": 22,
   "id": "df08908e",
   "metadata": {},
   "outputs": [],
   "source": [
    "a=40\n",
    "b=40"
   ]
  },
  {
   "cell_type": "code",
   "execution_count": 23,
   "id": "9cfcd18b",
   "metadata": {},
   "outputs": [
    {
     "data": {
      "text/plain": [
       "40"
      ]
     },
     "execution_count": 23,
     "metadata": {},
     "output_type": "execute_result"
    }
   ],
   "source": [
    "a"
   ]
  },
  {
   "cell_type": "code",
   "execution_count": 19,
   "id": "307f8b22",
   "metadata": {},
   "outputs": [
    {
     "data": {
      "text/plain": [
       "40"
      ]
     },
     "execution_count": 19,
     "metadata": {},
     "output_type": "execute_result"
    }
   ],
   "source": [
    "b"
   ]
  },
  {
   "cell_type": "code",
   "execution_count": 24,
   "id": "1762f12a",
   "metadata": {},
   "outputs": [
    {
     "data": {
      "text/plain": [
       "50"
      ]
     },
     "execution_count": 24,
     "metadata": {},
     "output_type": "execute_result"
    }
   ],
   "source": [
    "a+=10\n",
    "a"
   ]
  },
  {
   "cell_type": "markdown",
   "id": "4c6b51c1",
   "metadata": {},
   "source": [
    "---"
   ]
  },
  {
   "cell_type": "code",
   "execution_count": 25,
   "id": "02052bc6",
   "metadata": {},
   "outputs": [],
   "source": [
    "q=[1,2,3]"
   ]
  },
  {
   "cell_type": "code",
   "execution_count": 26,
   "id": "5afeb355",
   "metadata": {},
   "outputs": [],
   "source": [
    "w=q"
   ]
  },
  {
   "cell_type": "code",
   "execution_count": 27,
   "id": "64aed856",
   "metadata": {},
   "outputs": [
    {
     "data": {
      "text/plain": [
       "[1, 2, 3]"
      ]
     },
     "execution_count": 27,
     "metadata": {},
     "output_type": "execute_result"
    }
   ],
   "source": [
    "q"
   ]
  },
  {
   "cell_type": "code",
   "execution_count": 28,
   "id": "1c4115ed",
   "metadata": {},
   "outputs": [
    {
     "data": {
      "text/plain": [
       "[1, 2, 3]"
      ]
     },
     "execution_count": 28,
     "metadata": {},
     "output_type": "execute_result"
    }
   ],
   "source": [
    "w"
   ]
  },
  {
   "cell_type": "code",
   "execution_count": 29,
   "id": "eb001831",
   "metadata": {},
   "outputs": [],
   "source": [
    "q[1]=a"
   ]
  },
  {
   "cell_type": "code",
   "execution_count": 31,
   "id": "49821532",
   "metadata": {},
   "outputs": [
    {
     "data": {
      "text/plain": [
       "[1, 50, 3]"
      ]
     },
     "execution_count": 31,
     "metadata": {},
     "output_type": "execute_result"
    }
   ],
   "source": [
    "q #위에 선언한 a로 값이 변경되었음"
   ]
  },
  {
   "cell_type": "code",
   "execution_count": 32,
   "id": "b515dfbd",
   "metadata": {},
   "outputs": [
    {
     "data": {
      "text/plain": [
       "[1, 50, 3]"
      ]
     },
     "execution_count": 32,
     "metadata": {},
     "output_type": "execute_result"
    }
   ],
   "source": [
    "w # w=q이기 때문에 함께 변경"
   ]
  },
  {
   "cell_type": "code",
   "execution_count": 33,
   "id": "c5ba3183",
   "metadata": {},
   "outputs": [],
   "source": [
    "w= q.copy() # 얕은 복사"
   ]
  },
  {
   "cell_type": "code",
   "execution_count": 34,
   "id": "e0c51d20",
   "metadata": {},
   "outputs": [
    {
     "data": {
      "text/plain": [
       "[1, 50, 3]"
      ]
     },
     "execution_count": 34,
     "metadata": {},
     "output_type": "execute_result"
    }
   ],
   "source": [
    "q"
   ]
  },
  {
   "cell_type": "code",
   "execution_count": 35,
   "id": "9303a38c",
   "metadata": {},
   "outputs": [
    {
     "data": {
      "text/plain": [
       "[1, 50, 3]"
      ]
     },
     "execution_count": 35,
     "metadata": {},
     "output_type": "execute_result"
    }
   ],
   "source": [
    "w"
   ]
  },
  {
   "cell_type": "code",
   "execution_count": 36,
   "id": "4bdab40b",
   "metadata": {},
   "outputs": [],
   "source": [
    "q[1] = 0"
   ]
  },
  {
   "cell_type": "code",
   "execution_count": 37,
   "id": "fde73b81",
   "metadata": {},
   "outputs": [
    {
     "data": {
      "text/plain": [
       "[1, 0, 3]"
      ]
     },
     "execution_count": 37,
     "metadata": {},
     "output_type": "execute_result"
    }
   ],
   "source": [
    "q"
   ]
  },
  {
   "cell_type": "code",
   "execution_count": 39,
   "id": "95fbb314",
   "metadata": {},
   "outputs": [
    {
     "data": {
      "text/plain": [
       "[1, 50, 3]"
      ]
     },
     "execution_count": 39,
     "metadata": {},
     "output_type": "execute_result"
    }
   ],
   "source": [
    "w # copy를 해놨기 때문에 w값은 변하지 않는다"
   ]
  },
  {
   "cell_type": "markdown",
   "id": "be260da4",
   "metadata": {},
   "source": [
    "---"
   ]
  },
  {
   "cell_type": "markdown",
   "id": "0b5982e0",
   "metadata": {},
   "source": [
    "int 타입의 객체는 copy() 메서드를 가지고 있지 않음. copy() 메서드는 주로 리스트, 딕셔너리와 같은 mutable한 객체에 사용"
   ]
  },
  {
   "cell_type": "code",
   "execution_count": 40,
   "id": "ee5f0b3f",
   "metadata": {},
   "outputs": [
    {
     "ename": "AttributeError",
     "evalue": "'int' object has no attribute 'copy'",
     "output_type": "error",
     "traceback": [
      "\u001b[1;31m---------------------------------------------------------------------------\u001b[0m",
      "\u001b[1;31mAttributeError\u001b[0m                            Traceback (most recent call last)",
      "Cell \u001b[1;32mIn[40], line 1\u001b[0m\n\u001b[1;32m----> 1\u001b[0m y\u001b[38;5;241m=\u001b[39mx\u001b[38;5;241m.\u001b[39mcopy()\n",
      "\u001b[1;31mAttributeError\u001b[0m: 'int' object has no attribute 'copy'"
     ]
    }
   ],
   "source": [
    "y=x.copy()"
   ]
  },
  {
   "cell_type": "markdown",
   "id": "0dcf85bd",
   "metadata": {},
   "source": [
    "---\n",
    "### 문자열의 세계로 ~\n",
    "- print\n",
    "- split\n",
    "- join\n",
    "- replace\n",
    "---"
   ]
  },
  {
   "cell_type": "code",
   "execution_count": 42,
   "id": "4680bfbc",
   "metadata": {},
   "outputs": [
    {
     "name": "stdout",
     "output_type": "stream",
     "text": [
      "helloworld"
     ]
    }
   ],
   "source": [
    "print('hello', end = 'world')"
   ]
  },
  {
   "cell_type": "code",
   "execution_count": 41,
   "id": "b119a7c0",
   "metadata": {},
   "outputs": [
    {
     "data": {
      "text/plain": [
       "['rabbit ', ' banana']"
      ]
     },
     "execution_count": 41,
     "metadata": {},
     "output_type": "execute_result"
    }
   ],
   "source": [
    "'rabbit and banana'.split('and') # 문장 나누기"
   ]
  },
  {
   "cell_type": "code",
   "execution_count": 70,
   "id": "e06253db",
   "metadata": {},
   "outputs": [
    {
     "data": {
      "text/plain": [
       "['rabbit ', ' banana ', ' apple']"
      ]
     },
     "execution_count": 70,
     "metadata": {},
     "output_type": "execute_result"
    }
   ],
   "source": [
    "'rabbit and banana and apple'.split('and')"
   ]
  },
  {
   "cell_type": "code",
   "execution_count": 71,
   "id": "50e6e257",
   "metadata": {},
   "outputs": [
    {
     "data": {
      "text/plain": [
       "['rabbit ', ' banana or apple']"
      ]
     },
     "execution_count": 71,
     "metadata": {},
     "output_type": "execute_result"
    }
   ],
   "source": [
    "'rabbit and banana or apple'.split('and')"
   ]
  },
  {
   "cell_type": "code",
   "execution_count": 45,
   "id": "e1d5859d",
   "metadata": {},
   "outputs": [
    {
     "ename": "TypeError",
     "evalue": "'str' object cannot be interpreted as an integer",
     "output_type": "error",
     "traceback": [
      "\u001b[1;31m---------------------------------------------------------------------------\u001b[0m",
      "\u001b[1;31mTypeError\u001b[0m                                 Traceback (most recent call last)",
      "Cell \u001b[1;32mIn[45], line 1\u001b[0m\n\u001b[1;32m----> 1\u001b[0m \u001b[38;5;124m'\u001b[39m\u001b[38;5;124mrabbit and banana or apple\u001b[39m\u001b[38;5;124m'\u001b[39m\u001b[38;5;241m.\u001b[39msplit(\u001b[38;5;124m'\u001b[39m\u001b[38;5;124mand\u001b[39m\u001b[38;5;124m'\u001b[39m,\u001b[38;5;124m'\u001b[39m\u001b[38;5;124mor\u001b[39m\u001b[38;5;124m'\u001b[39m)\n",
      "\u001b[1;31mTypeError\u001b[0m: 'str' object cannot be interpreted as an integer"
     ]
    }
   ],
   "source": [
    "'rabbit and banana or apple'.split('and','or') # 두 개는 못합니다 ~ ㅜ"
   ]
  },
  {
   "cell_type": "code",
   "execution_count": 43,
   "id": "8f86ae3c",
   "metadata": {},
   "outputs": [
    {
     "data": {
      "text/plain": [
       "'rabbit and banana'"
      ]
     },
     "execution_count": 43,
     "metadata": {},
     "output_type": "execute_result"
    }
   ],
   "source": [
    "'and'.join(['rabbit ', ' banana']) # 문장 잇기"
   ]
  },
  {
   "cell_type": "code",
   "execution_count": 46,
   "id": "dc49fccb",
   "metadata": {},
   "outputs": [
    {
     "data": {
      "text/plain": [
       "'rabbit and banana and apple'"
      ]
     },
     "execution_count": 46,
     "metadata": {},
     "output_type": "execute_result"
    }
   ],
   "source": [
    "'and'.join(['rabbit ', ' banana ', ' apple'])"
   ]
  },
  {
   "cell_type": "code",
   "execution_count": 44,
   "id": "b3e29fbb",
   "metadata": {},
   "outputs": [
    {
     "data": {
      "text/plain": [
       "'rabbit AND banana'"
      ]
     },
     "execution_count": 44,
     "metadata": {},
     "output_type": "execute_result"
    }
   ],
   "source": [
    "'rabbit and banana'.replace('and','AND') # 문장 내 내용 바꾸기"
   ]
  },
  {
   "cell_type": "markdown",
   "id": "973c8e84",
   "metadata": {},
   "source": [
    "---\n",
    "문장 내용 바꾸기 심화\n",
    "- strip\n",
    "- lstrip\n",
    "- replace\n",
    "---"
   ]
  },
  {
   "cell_type": "code",
   "execution_count": 76,
   "id": "55553cb8",
   "metadata": {},
   "outputs": [
    {
     "data": {
      "text/plain": [
       "'HELLO'"
      ]
     },
     "execution_count": 76,
     "metadata": {},
     "output_type": "execute_result"
    }
   ],
   "source": [
    "'xoxoxoHELLOxoxoxo'.strip('xo')"
   ]
  },
  {
   "cell_type": "code",
   "execution_count": 80,
   "id": "cd1d9ccb",
   "metadata": {},
   "outputs": [
    {
     "data": {
      "text/plain": [
       "'1xoHELLOxoxoxo'"
      ]
     },
     "execution_count": 80,
     "metadata": {},
     "output_type": "execute_result"
    }
   ],
   "source": [
    "'xoxo1xoHELLOxoxoxo'.lstrip('xo')"
   ]
  },
  {
   "cell_type": "code",
   "execution_count": 79,
   "id": "e349153e",
   "metadata": {},
   "outputs": [
    {
     "data": {
      "text/plain": [
       "'xoxoxoHELLO'"
      ]
     },
     "execution_count": 79,
     "metadata": {},
     "output_type": "execute_result"
    }
   ],
   "source": [
    "'xoxoxoHELLOxoxoxo'.rstrip('xo')"
   ]
  },
  {
   "cell_type": "code",
   "execution_count": 83,
   "id": "735c5ebe",
   "metadata": {},
   "outputs": [
    {
     "data": {
      "text/plain": [
       "'HELLOHELLOHELLO'"
      ]
     },
     "execution_count": 83,
     "metadata": {},
     "output_type": "execute_result"
    }
   ],
   "source": [
    "'xoxoxoHELLOxoxoHELLOxoxoxoxoHELLOxoxoxo'.replace('xo','')"
   ]
  },
  {
   "cell_type": "code",
   "execution_count": 89,
   "id": "225e25cb",
   "metadata": {},
   "outputs": [
    {
     "data": {
      "text/plain": [
       "'HELLO'"
      ]
     },
     "execution_count": 89,
     "metadata": {},
     "output_type": "execute_result"
    }
   ],
   "source": [
    "(('xo1xoHExoxLLOxoxo'.replace('o','')).replace('1','').replace('x',''))"
   ]
  },
  {
   "cell_type": "code",
   "execution_count": 100,
   "id": "1c90453a",
   "metadata": {
    "scrolled": true
   },
   "outputs": [
    {
     "data": {
      "text/plain": [
       "'HELLO'"
      ]
     },
     "execution_count": 100,
     "metadata": {},
     "output_type": "execute_result"
    }
   ],
   "source": [
    "'xo1xoHExoxoLLOxoxo'.replace('xo','').replace('1','')"
   ]
  },
  {
   "cell_type": "code",
   "execution_count": 102,
   "id": "53007c39",
   "metadata": {},
   "outputs": [
    {
     "data": {
      "text/plain": [
       "'HELLO'"
      ]
     },
     "execution_count": 102,
     "metadata": {},
     "output_type": "execute_result"
    }
   ],
   "source": [
    "'xo1xoHExoxoLLOxoxo'.strip('xo1').replace('xo','')"
   ]
  },
  {
   "cell_type": "markdown",
   "id": "6088f23e",
   "metadata": {},
   "source": [
    "---\n",
    "여러가지 발생할 수 있는 에러들 \n",
    "\n",
    "---"
   ]
  },
  {
   "cell_type": "code",
   "execution_count": 105,
   "id": "bc583fa4",
   "metadata": {},
   "outputs": [
    {
     "ename": "ZeroDivisionError",
     "evalue": "division by zero",
     "output_type": "error",
     "traceback": [
      "\u001b[1;31m---------------------------------------------------------------------------\u001b[0m",
      "\u001b[1;31mZeroDivisionError\u001b[0m                         Traceback (most recent call last)",
      "Cell \u001b[1;32mIn[105], line 3\u001b[0m\n\u001b[0;32m      1\u001b[0m \u001b[38;5;241m1324\u001b[39m\u001b[38;5;241m+\u001b[39m\u001b[38;5;241m15234\u001b[39m\n\u001b[0;32m      2\u001b[0m \u001b[38;5;241m34433\u001b[39m\u001b[38;5;241m/\u001b[39m\u001b[38;5;241m3243\u001b[39m\n\u001b[1;32m----> 3\u001b[0m \u001b[38;5;241m4\u001b[39m\u001b[38;5;241m/\u001b[39m\u001b[38;5;241m0\u001b[39m\n",
      "\u001b[1;31mZeroDivisionError\u001b[0m: division by zero"
     ]
    }
   ],
   "source": [
    "1324+15234\n",
    "34433/3243\n",
    "4/0 # 0으로 나누려고 하면 에러남"
   ]
  },
  {
   "cell_type": "code",
   "execution_count": 106,
   "id": "da178fec",
   "metadata": {},
   "outputs": [
    {
     "ename": "SyntaxError",
     "evalue": "invalid syntax (782626641.py, line 1)",
     "output_type": "error",
     "traceback": [
      "\u001b[1;36m  Cell \u001b[1;32mIn[106], line 1\u001b[1;36m\u001b[0m\n\u001b[1;33m    '123'456'789'\u001b[0m\n\u001b[1;37m         ^\u001b[0m\n\u001b[1;31mSyntaxError\u001b[0m\u001b[1;31m:\u001b[0m invalid syntax\n"
     ]
    }
   ],
   "source": [
    "'123'456'789'"
   ]
  },
  {
   "cell_type": "code",
   "execution_count": 107,
   "id": "69b3458e",
   "metadata": {},
   "outputs": [
    {
     "ename": "SyntaxError",
     "evalue": "incomplete input (3317618375.py, line 1)",
     "output_type": "error",
     "traceback": [
      "\u001b[1;36m  Cell \u001b[1;32mIn[107], line 1\u001b[1;36m\u001b[0m\n\u001b[1;33m    print(12345\u001b[0m\n\u001b[1;37m               ^\u001b[0m\n\u001b[1;31mSyntaxError\u001b[0m\u001b[1;31m:\u001b[0m incomplete input\n"
     ]
    }
   ],
   "source": [
    "print(12345"
   ]
  },
  {
   "cell_type": "markdown",
   "id": "8755b19c",
   "metadata": {},
   "source": [
    "---\n",
    "'re'를 사용한 정규화\n",
    "- sub\n",
    "- match\n",
    "- search\n",
    "- findall\n",
    "- finditer\n",
    "---"
   ]
  },
  {
   "cell_type": "code",
   "execution_count": 47,
   "id": "086860f3",
   "metadata": {},
   "outputs": [
    {
     "name": "stdout",
     "output_type": "stream",
     "text": [
      "['rabbit ', ' banana ', ' apple']\n"
     ]
    }
   ],
   "source": [
    "import re\n",
    "\n",
    "input_str = 'rabbit and banana or apple'\n",
    "result = re.split(r'\\band\\b|\\bor\\b', input_str)\n",
    "print(result)\n"
   ]
  },
  {
   "cell_type": "code",
   "execution_count": 48,
   "id": "048da6fc",
   "metadata": {},
   "outputs": [
    {
     "data": {
      "text/plain": [
       "'Ant'"
      ]
     },
     "execution_count": 48,
     "metadata": {},
     "output_type": "execute_result"
    }
   ],
   "source": [
    "re.sub('a','A','ant')"
   ]
  },
  {
   "cell_type": "code",
   "execution_count": 49,
   "id": "eddaf030",
   "metadata": {},
   "outputs": [
    {
     "data": {
      "text/plain": [
       "'***-****-****'"
      ]
     },
     "execution_count": 49,
     "metadata": {},
     "output_type": "execute_result"
    }
   ],
   "source": [
    "re.sub('\\d','*','010-0000-0000')"
   ]
  },
  {
   "cell_type": "code",
   "execution_count": 121,
   "id": "953c890a",
   "metadata": {},
   "outputs": [
    {
     "data": {
      "text/plain": [
       "'*******'"
      ]
     },
     "execution_count": 121,
     "metadata": {},
     "output_type": "execute_result"
    }
   ],
   "source": [
    "re.sub('\\S','*','홍길동1233')"
   ]
  },
  {
   "cell_type": "code",
   "execution_count": 123,
   "id": "8e8ed596",
   "metadata": {},
   "outputs": [
    {
     "data": {
      "text/plain": [
       "'***1233'"
      ]
     },
     "execution_count": 123,
     "metadata": {},
     "output_type": "execute_result"
    }
   ],
   "source": [
    "re.sub('\\D','*','홍길동1233')"
   ]
  },
  {
   "cell_type": "code",
   "execution_count": 3,
   "id": "bc34c782",
   "metadata": {
    "tags": []
   },
   "outputs": [
    {
     "data": {
      "text/plain": [
       "<re.Match object; span=(0, 5), match='HELLO'>"
      ]
     },
     "execution_count": 3,
     "metadata": {},
     "output_type": "execute_result"
    }
   ],
   "source": [
    "re.match('HELLO','HELLO123##*')"
   ]
  },
  {
   "cell_type": "code",
   "execution_count": 137,
   "id": "4392c007",
   "metadata": {},
   "outputs": [
    {
     "data": {
      "text/plain": [
       "<re.Match object; span=(2, 3), match='L'>"
      ]
     },
     "execution_count": 137,
     "metadata": {},
     "output_type": "execute_result"
    }
   ],
   "source": [
    "re.search('L','HELLO1231^')"
   ]
  },
  {
   "cell_type": "code",
   "execution_count": 4,
   "id": "c0733363",
   "metadata": {
    "tags": []
   },
   "outputs": [
    {
     "data": {
      "text/plain": [
       "['']"
      ]
     },
     "execution_count": 4,
     "metadata": {},
     "output_type": "execute_result"
    }
   ],
   "source": [
    "re.findall('$','ddar$%^!1')"
   ]
  },
  {
   "cell_type": "code",
   "execution_count": 5,
   "id": "fcdbef9f",
   "metadata": {
    "tags": []
   },
   "outputs": [
    {
     "data": {
      "text/plain": [
       "['']"
      ]
     },
     "execution_count": 5,
     "metadata": {},
     "output_type": "execute_result"
    }
   ],
   "source": [
    "re.findall('$','ddar$w')"
   ]
  },
  {
   "cell_type": "code",
   "execution_count": 6,
   "id": "57cdd634",
   "metadata": {
    "tags": []
   },
   "outputs": [
    {
     "data": {
      "text/plain": [
       "['&', '&']"
      ]
     },
     "execution_count": 6,
     "metadata": {},
     "output_type": "execute_result"
    }
   ],
   "source": [
    "re.findall('&','HELLO123&&*')"
   ]
  },
  {
   "cell_type": "code",
   "execution_count": 7,
   "id": "94f1c3f7",
   "metadata": {
    "tags": []
   },
   "outputs": [
    {
     "data": {
      "text/plain": [
       "<callable_iterator at 0x1b00d79e5f0>"
      ]
     },
     "execution_count": 7,
     "metadata": {},
     "output_type": "execute_result"
    }
   ],
   "source": [
    "re.finditer('\\w{2}','HELLO123&&*')"
   ]
  },
  {
   "cell_type": "code",
   "execution_count": 145,
   "id": "41d9b209",
   "metadata": {},
   "outputs": [],
   "source": [
    "str1 = 'hello~ 000000python'\n",
    "str2 = 'hello~ 321562python'\n",
    "str3 = 'hello~ 321-562python'"
   ]
  },
  {
   "cell_type": "code",
   "execution_count": 192,
   "id": "8a1f7748",
   "metadata": {},
   "outputs": [
    {
     "data": {
      "text/plain": [
       "['321', '562']"
      ]
     },
     "execution_count": 192,
     "metadata": {},
     "output_type": "execute_result"
    }
   ],
   "source": [
    "re.findall('\\d\\d\\d',str3)"
   ]
  },
  {
   "cell_type": "code",
   "execution_count": 191,
   "id": "37bba1df",
   "metadata": {},
   "outputs": [
    {
     "data": {
      "text/plain": [
       "'hello~ 123456python'"
      ]
     },
     "execution_count": 191,
     "metadata": {},
     "output_type": "execute_result"
    }
   ],
   "source": [
    "re.sub('000000','123456',str1)"
   ]
  },
  {
   "cell_type": "code",
   "execution_count": 190,
   "id": "c14a8b01",
   "metadata": {},
   "outputs": [
    {
     "data": {
      "text/plain": [
       "'hello~ 123456python'"
      ]
     },
     "execution_count": 190,
     "metadata": {},
     "output_type": "execute_result"
    }
   ],
   "source": [
    "re.sub('\\d\\d\\d\\d\\d\\d','123456',str1)"
   ]
  },
  {
   "cell_type": "code",
   "execution_count": 193,
   "id": "8534bea2",
   "metadata": {},
   "outputs": [
    {
     "data": {
      "text/plain": [
       "'hello~ 123456python'"
      ]
     },
     "execution_count": 193,
     "metadata": {},
     "output_type": "execute_result"
    }
   ],
   "source": [
    "re.sub('\\d+','123456',str1)"
   ]
  },
  {
   "cell_type": "code",
   "execution_count": 194,
   "id": "71b336f9",
   "metadata": {},
   "outputs": [
    {
     "data": {
      "text/plain": [
       "'hello~ 123456python'"
      ]
     },
     "execution_count": 194,
     "metadata": {},
     "output_type": "execute_result"
    }
   ],
   "source": [
    "re.sub('\\d\\d\\d\\d\\d\\d','123456',str2)"
   ]
  },
  {
   "cell_type": "code",
   "execution_count": 195,
   "id": "86ea4d2d",
   "metadata": {},
   "outputs": [],
   "source": [
    "str4 = 'hello~ 00000000000python'"
   ]
  },
  {
   "cell_type": "code",
   "execution_count": 197,
   "id": "7623b4eb",
   "metadata": {},
   "outputs": [
    {
     "data": {
      "text/plain": [
       "'hello~ 123456python'"
      ]
     },
     "execution_count": 197,
     "metadata": {},
     "output_type": "execute_result"
    }
   ],
   "source": [
    "re.sub('\\d+','123456',str4)"
   ]
  },
  {
   "cell_type": "code",
   "execution_count": 210,
   "id": "c4a85075",
   "metadata": {},
   "outputs": [
    {
     "data": {
      "text/plain": [
       "'hello~ 00python'"
      ]
     },
     "execution_count": 210,
     "metadata": {},
     "output_type": "execute_result"
    }
   ],
   "source": [
    "re.sub('\\d\\d+','00','hello~ 123python')"
   ]
  },
  {
   "cell_type": "markdown",
   "id": "3c091105",
   "metadata": {},
   "source": [
    "---\n",
    "try - except 문\n",
    "try를 시도하고,  \n",
    "예외사항이 있으면 except 이하 처리  \n",
    "\n",
    "---"
   ]
  },
  {
   "cell_type": "code",
   "execution_count": 113,
   "id": "cf613d6e",
   "metadata": {},
   "outputs": [
    {
     "name": "stdout",
     "output_type": "stream",
     "text": [
      "!inf\n"
     ]
    }
   ],
   "source": [
    "try:\n",
    "    print(123/0)\n",
    "    \n",
    "except:\n",
    "        print('!inf')"
   ]
  },
  {
   "cell_type": "markdown",
   "id": "1473e685",
   "metadata": {},
   "source": [
    "---\n",
    "파이썬 규칙\n",
    "- '와 '''\n",
    "- 개행문자\n",
    "- 따옴표 안에 따옴표 쓰기\n",
    "- 이스케이프 문자\n",
    "---"
   ]
  },
  {
   "cell_type": "code",
   "execution_count": 211,
   "id": "81fc9dad",
   "metadata": {},
   "outputs": [
    {
     "ename": "SyntaxError",
     "evalue": "unterminated string literal (detected at line 1) (1269194752.py, line 1)",
     "output_type": "error",
     "traceback": [
      "\u001b[1;36m  Cell \u001b[1;32mIn[211], line 1\u001b[1;36m\u001b[0m\n\u001b[1;33m    '안녕\u001b[0m\n\u001b[1;37m    ^\u001b[0m\n\u001b[1;31mSyntaxError\u001b[0m\u001b[1;31m:\u001b[0m unterminated string literal (detected at line 1)\n"
     ]
    }
   ],
   "source": [
    "'안녕\n",
    "하세요'"
   ]
  },
  {
   "cell_type": "code",
   "execution_count": 214,
   "id": "ace14d50",
   "metadata": {},
   "outputs": [
    {
     "name": "stdout",
     "output_type": "stream",
     "text": [
      "안녕\n",
      "하세요\n"
     ]
    }
   ],
   "source": [
    "print('안녕\\n하세요')"
   ]
  },
  {
   "cell_type": "code",
   "execution_count": 216,
   "id": "e463b875",
   "metadata": {},
   "outputs": [
    {
     "name": "stdout",
     "output_type": "stream",
     "text": [
      "안녕\n",
      "하세요\n"
     ]
    }
   ],
   "source": [
    "print('''안녕\n",
    "하세요''')"
   ]
  },
  {
   "cell_type": "code",
   "execution_count": 217,
   "id": "ec064f29",
   "metadata": {},
   "outputs": [
    {
     "name": "stdout",
     "output_type": "stream",
     "text": [
      "안녕\n",
      "여러분\n"
     ]
    }
   ],
   "source": [
    "print('안녕\\n하세요\\r여러분')"
   ]
  },
  {
   "cell_type": "code",
   "execution_count": 218,
   "id": "61a808a3",
   "metadata": {},
   "outputs": [
    {
     "name": "stdout",
     "output_type": "stream",
     "text": [
      "안녕\n",
      "하세요\n",
      "여러분\n"
     ]
    }
   ],
   "source": [
    "print('안녕\\n하세요\\n\\r여러분')"
   ]
  },
  {
   "cell_type": "code",
   "execution_count": 220,
   "id": "fba48dcc",
   "metadata": {},
   "outputs": [
    {
     "ename": "SyntaxError",
     "evalue": "unterminated string literal (detected at line 1) (2774195124.py, line 1)",
     "output_type": "error",
     "traceback": [
      "\u001b[1;36m  Cell \u001b[1;32mIn[220], line 1\u001b[1;36m\u001b[0m\n\u001b[1;33m    '여기 사이에 따옴표가' 들어갔으면 좋겠다'\u001b[0m\n\u001b[1;37m                           ^\u001b[0m\n\u001b[1;31mSyntaxError\u001b[0m\u001b[1;31m:\u001b[0m unterminated string literal (detected at line 1)\n"
     ]
    }
   ],
   "source": [
    "'여기 사이에 따옴표가' 들어갔으면 좋겠다'"
   ]
  },
  {
   "cell_type": "code",
   "execution_count": 349,
   "id": "6ea2f415",
   "metadata": {},
   "outputs": [
    {
     "data": {
      "text/plain": [
       "\"여기 사이에 따옴표가' 들어갔으면 좋겠다\""
      ]
     },
     "execution_count": 349,
     "metadata": {},
     "output_type": "execute_result"
    }
   ],
   "source": [
    "'여기 사이에 따옴표가\\' 들어갔으면 좋겠다'"
   ]
  },
  {
   "cell_type": "code",
   "execution_count": 350,
   "id": "5f7ea6ee",
   "metadata": {},
   "outputs": [
    {
     "data": {
      "text/plain": [
       "'여기 사이에 따옴표가\" 들어갔으면 좋겠다'"
      ]
     },
     "execution_count": 350,
     "metadata": {},
     "output_type": "execute_result"
    }
   ],
   "source": [
    "'여기 사이에 따옴표가\" 들어갔으면 좋겠다'"
   ]
  },
  {
   "cell_type": "code",
   "execution_count": 351,
   "id": "8d14e367",
   "metadata": {},
   "outputs": [
    {
     "name": "stdout",
     "output_type": "stream",
     "text": [
      "파이썬-이스케이프-문자-실습\n",
      "파이썬\n",
      "이스케\n",
      "이프문\n",
      "자실습"
     ]
    }
   ],
   "source": [
    "print('파이썬-이스케이프-문자-실습\\n',end = '파이썬\\n이스케\\n이프문\\n자실습')"
   ]
  },
  {
   "cell_type": "code",
   "execution_count": 352,
   "id": "c26e70d7",
   "metadata": {},
   "outputs": [
    {
     "name": "stdout",
     "output_type": "stream",
     "text": [
      "파이썬\n",
      "이스케\n",
      "이프문\n",
      "자실습\n"
     ]
    }
   ],
   "source": [
    "print('파이썬\\n이스케\\n이프문\\n자실습')"
   ]
  },
  {
   "cell_type": "code",
   "execution_count": 353,
   "id": "3ff8e44b",
   "metadata": {
    "scrolled": true
   },
   "outputs": [
    {
     "name": "stdout",
     "output_type": "stream",
     "text": [
      "파이썬\t이스케이프\t문자\t실습\n"
     ]
    }
   ],
   "source": [
    "print('파이썬\\t이스케이프\\t문자\\t실습')"
   ]
  },
  {
   "cell_type": "code",
   "execution_count": 354,
   "id": "347e5906",
   "metadata": {
    "scrolled": true
   },
   "outputs": [
    {
     "name": "stdout",
     "output_type": "stream",
     "text": [
      "파이썬\n",
      "이스케\n",
      "이프문\n",
      "자실습\n"
     ]
    }
   ],
   "source": [
    "print('''파이썬\n",
    "이스케\n",
    "이프문\n",
    "자실습''')"
   ]
  },
  {
   "cell_type": "code",
   "execution_count": 355,
   "id": "ebf56597",
   "metadata": {},
   "outputs": [],
   "source": [
    "txt = '파이썬오늘은\\t문자열을\\t배웠고,\\t그\\t지식을\\t이용해서\\t문자열\\t수정을\\t해\\t봅시다.\\n파이썬'"
   ]
  },
  {
   "cell_type": "code",
   "execution_count": 356,
   "id": "b6c8d99b",
   "metadata": {},
   "outputs": [
    {
     "name": "stdout",
     "output_type": "stream",
     "text": [
      "파이썬오늘은문자열을배웠고그지식을이용해서문자열수정을해봅시다파이썬\n"
     ]
    }
   ],
   "source": [
    "print(txt.replace('\\t','').replace('\\n','').replace(',','').replace('.',''))"
   ]
  },
  {
   "cell_type": "code",
   "execution_count": 357,
   "id": "db17b975",
   "metadata": {},
   "outputs": [
    {
     "name": "stdout",
     "output_type": "stream",
     "text": [
      "파이썬오늘은문자열을배웠고그지식을이용해서문자열수정을해봅시다파이썬\n"
     ]
    }
   ],
   "source": [
    "print(re.sub('[^가-힣]','',txt))"
   ]
  },
  {
   "cell_type": "code",
   "execution_count": 358,
   "id": "a20e5665",
   "metadata": {},
   "outputs": [],
   "source": [
    "txt2 = txt.replace('\\t','').replace('\\n','')"
   ]
  },
  {
   "cell_type": "code",
   "execution_count": 373,
   "id": "93303e2c",
   "metadata": {},
   "outputs": [
    {
     "name": "stdout",
     "output_type": "stream",
     "text": [
      "파이썬오늘은문자열을배웠고,그지식을이용해서문자열수정을해봅시다.파이썬\n"
     ]
    }
   ],
   "source": [
    "print(txt2)"
   ]
  },
  {
   "cell_type": "code",
   "execution_count": 359,
   "id": "8942c6f5",
   "metadata": {},
   "outputs": [
    {
     "name": "stdout",
     "output_type": "stream",
     "text": [
      "파이썬오늘은문자열을배웠고,\n",
      "그지식을이용해서문자열수정을해봅시다.파이썬\n"
     ]
    }
   ],
   "source": [
    "print('파이썬오늘은문자열을배웠고,\\n그지식을이용해서문자열수정을해봅시다.파이썬')"
   ]
  },
  {
   "cell_type": "code",
   "execution_count": 360,
   "id": "d5db8569",
   "metadata": {},
   "outputs": [],
   "source": [
    "txt3 = txt2.replace('파이썬','')"
   ]
  },
  {
   "cell_type": "code",
   "execution_count": 361,
   "id": "3ed2a894",
   "metadata": {},
   "outputs": [
    {
     "name": "stdout",
     "output_type": "stream",
     "text": [
      "오늘은문자열을배웠고,그지식을이용해서문자열수정을해봅시다.\n"
     ]
    }
   ],
   "source": [
    "print(re.sub('파이썬','',txt2))"
   ]
  },
  {
   "cell_type": "code",
   "execution_count": 362,
   "id": "b1566033",
   "metadata": {},
   "outputs": [
    {
     "name": "stdout",
     "output_type": "stream",
     "text": [
      "오늘은문자열을배웠고,그지식을이용해서문자열수정을해봅시다.\n"
     ]
    }
   ],
   "source": [
    "print(txt3)"
   ]
  },
  {
   "cell_type": "code",
   "execution_count": 363,
   "id": "3b3472c5",
   "metadata": {},
   "outputs": [
    {
     "data": {
      "text/plain": [
       "'오늘은 문자열을 배웠고, 그 지식을 이용해서 문자열 수정을 해 봅시다.'"
      ]
     },
     "execution_count": 363,
     "metadata": {},
     "output_type": "execute_result"
    }
   ],
   "source": [
    "txt.replace('\\t',' ').replace('파이썬','').replace(\"\\n\",'')"
   ]
  },
  {
   "cell_type": "code",
   "execution_count": 364,
   "id": "218ddc80",
   "metadata": {
    "scrolled": true
   },
   "outputs": [
    {
     "name": "stdout",
     "output_type": "stream",
     "text": [
      "오늘은%\t문자열을%\t배웠고,\n",
      "%그%\t지식을%\t이용해서%\t문자열%\t수정을%\t해%\t봅시다.\n"
     ]
    }
   ],
   "source": [
    "print('오늘은%\\t문자열을%\\t배웠고,\\n%그%\\t지식을%\\t이용해서%\\t문자열%\\t수정을%\\t해%\\t봅시다.')"
   ]
  }
 ],
 "metadata": {
  "kernelspec": {
   "display_name": "Python 3 (ipykernel)",
   "language": "python",
   "name": "python3"
  },
  "language_info": {
   "codemirror_mode": {
    "name": "ipython",
    "version": 3
   },
   "file_extension": ".py",
   "mimetype": "text/x-python",
   "name": "python",
   "nbconvert_exporter": "python",
   "pygments_lexer": "ipython3",
   "version": "3.11.5"
  }
 },
 "nbformat": 4,
 "nbformat_minor": 5
}
