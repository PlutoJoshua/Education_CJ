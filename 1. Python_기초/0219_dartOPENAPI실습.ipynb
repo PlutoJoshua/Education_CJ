{
 "cells": [
  {
   "cell_type": "markdown",
   "id": "38f64fda",
   "metadata": {},
   "source": [
    "---\n",
    "# dart_open_API 실습 파일\n",
    "\n",
    "---"
   ]
  },
  {
   "cell_type": "code",
   "execution_count": 1,
   "id": "5e0c2c72-934e-4034-8d74-379b3cbf38e5",
   "metadata": {
    "tags": []
   },
   "outputs": [],
   "source": [
    "import dart_fss as dart"
   ]
  },
  {
   "cell_type": "code",
   "execution_count": 2,
   "id": "e8fe6787-38c9-464c-ac4c-494b73194851",
   "metadata": {
    "tags": []
   },
   "outputs": [
    {
     "data": {
      "text/plain": [
       "'57707998b56f7e2006a1beb82e70d0b513881949'"
      ]
     },
     "execution_count": 2,
     "metadata": {},
     "output_type": "execute_result"
    }
   ],
   "source": [
    "# Open DART API KEY 설정\n",
    "api_key='57707998b56f7e2006a1beb82e70d0b513881949'\n",
    "dart.set_api_key(api_key=api_key)"
   ]
  },
  {
   "cell_type": "code",
   "execution_count": 3,
   "id": "1c8fdb3e-f018-4e8b-b0ab-93189ccc58f3",
   "metadata": {
    "tags": []
   },
   "outputs": [
    {
     "data": {
      "application/vnd.jupyter.widget-view+json": {
       "model_id": "05476d6822104dc4a5fc86b0a1455331",
       "version_major": 2,
       "version_minor": 0
      },
      "text/plain": [
       "Output()"
      ]
     },
     "metadata": {},
     "output_type": "display_data"
    },
    {
     "data": {
      "application/vnd.jupyter.widget-view+json": {
       "model_id": "efc3b112920242048828bda00b2981c5",
       "version_major": 2,
       "version_minor": 0
      },
      "text/plain": [
       "Output()"
      ]
     },
     "metadata": {},
     "output_type": "display_data"
    },
    {
     "data": {
      "application/vnd.jupyter.widget-view+json": {
       "model_id": "b8cdd839bc014325a53007b4bb827f54",
       "version_major": 2,
       "version_minor": 0
      },
      "text/plain": [
       "Output()"
      ]
     },
     "metadata": {},
     "output_type": "display_data"
    }
   ],
   "source": [
    "# DART 에 공시된 회사 리스트 불러오기\n",
    "corp_list = dart.get_corp_list()"
   ]
  },
  {
   "cell_type": "code",
   "execution_count": 4,
   "id": "16d1c50c-8f15-4ef2-99d4-0fcfa5c88df4",
   "metadata": {
    "tags": []
   },
   "outputs": [
    {
     "data": {
      "text/plain": [
       "Number of companies: 106249"
      ]
     },
     "execution_count": 4,
     "metadata": {},
     "output_type": "execute_result"
    }
   ],
   "source": [
    "corp_list"
   ]
  },
  {
   "cell_type": "code",
   "execution_count": 5,
   "id": "0971ffe2-4972-45c5-b93f-6117aec200bb",
   "metadata": {
    "tags": []
   },
   "outputs": [],
   "source": [
    "# 삼성전자 검색\n",
    "samsung = corp_list.find_by_corp_name('삼성전자', exactly=True)[0]"
   ]
  },
  {
   "cell_type": "code",
   "execution_count": 6,
   "id": "66b98a35-d5e8-4904-96dc-7afdc85180eb",
   "metadata": {
    "tags": []
   },
   "outputs": [
    {
     "data": {
      "text/html": [
       "\n",
       "    <style scoped>\n",
       "        .dart-table tbody tr th {\n",
       "            vertical-align: top;\n",
       "            text-overflow: ellipsis;\n",
       "        }\n",
       "        .dart-table thead th {\n",
       "            text-align: right;\n",
       "            text-overflow: ellipsis;\n",
       "        }\n",
       "    </style>\n",
       "    <table border=\"1\" class=\"dart-table\"><thead><tr style=\"text-align: right;\"><th>Label</th><th>Data</th></tr></thead><tbody><tr><th>corp_code</th><td>00126380</td></tr><tr><th>corp_name</th><td>삼성전자</td></tr><tr><th>stock_code</th><td>005930</td></tr><tr><th>modify_date</th><td>20230110</td></tr><tr><th>sector</th><td>통신 및 방송 장비 제조업</td></tr><tr><th>product</th><td>통신 및 방송 장비 제조(무선) 제품, 반도체 제조(메모리) 제품,  전자부품 제조(디스플레이) 제품, 영상 및 음향기기 제조(영상기기) 제품 등</td></tr><tr><th>corp_cls</th><td>Y</td></tr></tbody></table>"
      ],
      "text/plain": [
       "[00126380]삼성전자"
      ]
     },
     "execution_count": 6,
     "metadata": {},
     "output_type": "execute_result"
    }
   ],
   "source": [
    "samsung"
   ]
  },
  {
   "cell_type": "code",
   "execution_count": 7,
   "id": "07552fc8-039d-4e15-bf04-dbf9bde2ba41",
   "metadata": {
    "tags": []
   },
   "outputs": [
    {
     "data": {
      "application/vnd.jupyter.widget-view+json": {
       "model_id": "0687d2cd01224a33bc46bfaa42f3aa70",
       "version_major": 2,
       "version_minor": 0
      },
      "text/plain": [
       "Annual reports:   0%|          | 0/3 [00:00<?, ?report/s]"
      ]
     },
     "metadata": {},
     "output_type": "display_data"
    },
    {
     "name": "stderr",
     "output_type": "stream",
     "text": [
      "Exception in thread Thread-10 (_readerthread):\n",
      "Traceback (most recent call last):\n",
      "  File \"c:\\ProgramData\\anaconda3\\Lib\\threading.py\", line 1038, in _bootstrap_inner\n",
      "    self.run()\n",
      "  File \"c:\\ProgramData\\anaconda3\\Lib\\threading.py\", line 975, in run\n",
      "    self._target(*self._args, **self._kwargs)\n",
      "  File \"c:\\ProgramData\\anaconda3\\Lib\\subprocess.py\", line 1597, in _readerthread\n",
      "    buffer.append(fh.read())\n",
      "                  ^^^^^^^^^\n",
      "  File \"<frozen codecs>\", line 322, in decode\n",
      "UnicodeDecodeError: 'utf-8' codec can't decode byte 0xc0 in position 6: invalid start byte\n"
     ]
    }
   ],
   "source": [
    "# 2012년부터 연간 연결재무제표 불러오기\n",
    "fs = samsung.extract_fs(bgn_de='20220101')"
   ]
  },
  {
   "cell_type": "code",
   "execution_count": 8,
   "id": "5b59c624-92d7-4ce8-abe0-130417c0c1d1",
   "metadata": {
    "tags": []
   },
   "outputs": [
    {
     "data": {
      "text/html": [
       "\n",
       "    <style scoped>\n",
       "        .dart-table tbody tr th {\n",
       "            vertical-align: top;\n",
       "            text-overflow: ellipsis;\n",
       "        }\n",
       "        .dart-table thead th {\n",
       "            text-align: right;\n",
       "            text-overflow: ellipsis;\n",
       "        }\n",
       "    </style>\n",
       "    <table border=\"1\" class=\"dart-table\"><thead><tr style=\"text-align: right;\"><th>Label</th><th>Data</th></tr></thead><tbody><tr><th>corp_code</th><td>00126380</td></tr><tr><th>bgn_de</th><td>20220101</td></tr><tr><th>end_de</th><td>None</td></tr><tr><th>separate</th><td>False</td></tr><tr><th>report_tp</th><td>annual</td></tr><tr><th>lang</th><td>ko</td></tr><tr><th>separator</th><td>True</td></tr><tr><th>financial statement</th><td><table style=\"width:100%\"><thead><tr><th width=\"20\">No.</th><th>title</th></tr></thead><tbody><tr><th width=\"20\">0</th><td>[D210000] 재무상태표, 유동/비유동법 - 연결 | Statement of financial position, current/non-current - Consolidated financial statements (Unit: KRW)</td></tr><tr><th width=\"20\">1</th><td>[D310000] 손익계산서, 기능별 분류 - 연결 | Income statement, by function of expense - Consolidated financial statements (Unit: KRW)</td></tr><tr><th width=\"20\">2</th><td>[D410000] 포괄손익계산서, 세후로 표시된 OCI 구성요소 - 연결 | Statement of comprehensive income - Consolidated financial statements (Unit: KRW)</td></tr><tr><th width=\"20\">3</th><td>[D520000] 현금흐름표, 간접법 - 연결 | Statement of cash flows, indirect method - Consolidated financial statements (Unit: KRW)</td></tr></tbody></table></td></tr></tbody></table>"
      ],
      "text/plain": [
       "{'bgn_de': '20220101',\n",
       " 'corp_code': '00126380',\n",
       " 'end_de': None,\n",
       " 'financial statement': [{'title': '[D210000] 재무상태표, 유동/비유동법 - 연결 | Statement '\n",
       "                                   'of financial position, current/non-current '\n",
       "                                   '- Consolidated financial statements (Unit: '\n",
       "                                   'KRW)'},\n",
       "                         {'title': '[D310000] 손익계산서, 기능별 분류 - 연결 | Income '\n",
       "                                   'statement, by function of expense - '\n",
       "                                   'Consolidated financial statements (Unit: '\n",
       "                                   'KRW)'},\n",
       "                         {'title': '[D410000] 포괄손익계산서, 세후로 표시된 OCI 구성요소 - 연결 | '\n",
       "                                   'Statement of comprehensive income - '\n",
       "                                   'Consolidated financial statements (Unit: '\n",
       "                                   'KRW)'},\n",
       "                         {'title': '[D520000] 현금흐름표, 간접법 - 연결 | Statement of '\n",
       "                                   'cash flows, indirect method - Consolidated '\n",
       "                                   'financial statements (Unit: KRW)'}],\n",
       " 'lang': 'ko',\n",
       " 'report_tp': 'annual',\n",
       " 'separate': False,\n",
       " 'separator': True}"
      ]
     },
     "execution_count": 8,
     "metadata": {},
     "output_type": "execute_result"
    }
   ],
   "source": [
    "fs"
   ]
  },
  {
   "cell_type": "code",
   "execution_count": null,
   "id": "8d712ccc-e575-4a27-99bd-44fdab8a6545",
   "metadata": {},
   "outputs": [],
   "source": [
    "# 재무제표 검색 결과를 엑셀파일로 저장 ( 기본저장위치: 실행폴더/fsdata )\n",
    "# fs.save()"
   ]
  },
  {
   "cell_type": "markdown",
   "id": "3b9e2cf0-8ed8-420c-a9f6-3353ed46468b",
   "metadata": {},
   "source": [
    "코스닥(KOSDAQ): 한국 증권거래소(KRX)에서 운영하는 코스닥 시장은 기술 중심 기업이나 신생 기업을 중심으로 하는 주식시장입니다. 코스닥은 코스피와는 별도로 운영되며, 코스닥 상장 기업들은 기술 혁신이나 성장 가능성을 보여주는 기업들이 많습니다.  \n",
    "\n",
    "코스피(KOSPI): 코스피는 한국 증권거래소(KRX)에서 운영하는 대표적인 주식시장으로, 대부분의 대기업과 중소기업이 상장되어 있는 시장입니다. 코스피 시장은 한국 경제의 주요 지표 중 하나로 여겨지며, 많은 국내외 투자자들이 코스피 지수를 참고하여 투자 결정을 내립니다.  \n",
    "\n",
    "코넥스(KONEX): 코넥스는 한국 증권거래소(KRX)에서 운영하는 중소·벤처 기업을 위한 시장으로, 기존의 코스닥이나 코스피 시장에 상장하기 어려운 중소기업들을 지원하기 위해 개설되었습니다. 코넥스는 기술 혁신이나 산업 발전에 기여할 수 있는 기업들을 대상으로 합니다.  "
   ]
  },
  {
   "cell_type": "code",
   "execution_count": 9,
   "id": "a8474497-c7ca-41b4-a2b1-607d417b1e2f",
   "metadata": {
    "tags": []
   },
   "outputs": [
    {
     "data": {
      "text/plain": [
       "['1차 비철금속 제조업',\n",
       " '1차 철강 제조업',\n",
       " '가구 제조업',\n",
       " '가전제품 및 정보통신장비 소매업',\n",
       " '가정용 기기 제조업',\n",
       " '가죽, 가방 및 유사제품 제조업',\n",
       " '개인 및 가정용품 임대업',\n",
       " '건물 건설업',\n",
       " '건물설비 설치 공사업',\n",
       " '건축기술, 엔지니어링 및 관련 기술 서비스업',\n",
       " '건축자재, 철물 및 난방장치 도매업',\n",
       " '경비, 경호 및 탐정업',\n",
       " '고무제품 제조업',\n",
       " '곡물가공품, 전분 및 전분제품 제조업',\n",
       " '골판지, 종이 상자 및 종이용기 제조업',\n",
       " '과실, 채소 가공 및 저장 처리업',\n",
       " '광고업',\n",
       " '교육지원 서비스업',\n",
       " '구조용 금속제품, 탱크 및 증기발생기 제조업',\n",
       " '귀금속 및 장신용품 제조업',\n",
       " '그외 기타 개인 서비스업',\n",
       " '그외 기타 운송장비 제조업',\n",
       " '그외 기타 전문, 과학 및 기술 서비스업',\n",
       " '그외 기타 제품 제조업',\n",
       " '금속 주조업',\n",
       " '금융 지원 서비스업',\n",
       " '기계장비 및 관련 물품 도매업',\n",
       " '기록매체 복제업',\n",
       " '기반조성 및 시설물 축조관련 전문공사업',\n",
       " '기초 의약물질 및 생물학적 제제 제조업',\n",
       " '기초 화학물질 제조업',\n",
       " '기타 과학기술 서비스업',\n",
       " '기타 교육기관',\n",
       " '기타 금속 가공제품 제조업',\n",
       " '기타 금융업',\n",
       " '기타 비금속 광물제품 제조업',\n",
       " '기타 비금속광물 광업',\n",
       " '기타 사업지원 서비스업',\n",
       " '기타 상품 전문 소매업',\n",
       " '기타 생활용품 소매업',\n",
       " '기타 섬유제품 제조업',\n",
       " '기타 식품 제조업',\n",
       " '기타 운송관련 서비스업',\n",
       " '기타 전기장비 제조업',\n",
       " '기타 전문 도매업',\n",
       " '기타 전문 서비스업',\n",
       " '기타 정보 서비스업',\n",
       " '기타 종이 및 판지 제품 제조업',\n",
       " '기타 화학제품 제조업',\n",
       " '나무제품 제조업',\n",
       " '낙농제품 및 식용빙과류 제조업',\n",
       " '내화, 비내화 요업제품 제조업',\n",
       " '담배 제조업',\n",
       " '도로 화물 운송업',\n",
       " '도축, 육류 가공 및 저장 처리업',\n",
       " '동물용 사료 및 조제식품 제조업',\n",
       " '마그네틱 및 광학 매체 제조업',\n",
       " '무기 및 총포탄 제조업',\n",
       " '무점포 소매업',\n",
       " '반도체 제조업',\n",
       " '방적 및 가공사 제조업',\n",
       " '보험 및 연금관련 서비스업',\n",
       " '보험업',\n",
       " '봉제의복 제조업',\n",
       " '부동산 관련 서비스업',\n",
       " '부동산 임대 및 공급업',\n",
       " '비료, 농약 및 살균, 살충제 제조업',\n",
       " '비알코올음료 및 얼음 제조업',\n",
       " '사업시설 유지·관리 서비스업',\n",
       " '사진장비 및 광학기기 제조업',\n",
       " '산업용 기계 및 장비 임대업',\n",
       " '산업용 농·축산물 및 동·식물 도매업',\n",
       " '상품 종합 도매업',\n",
       " '상품 중개업',\n",
       " '생활용품 도매업',\n",
       " '서적, 잡지 및 기타 인쇄물 출판업',\n",
       " '석유 정제품 제조업',\n",
       " '선박 및 보트 건조업',\n",
       " '섬유, 의복, 신발 및 가죽제품 소매업',\n",
       " '섬유제품 염색, 정리 및 마무리 가공업',\n",
       " '소프트웨어 개발 및 공급업',\n",
       " '수산물 가공 및 저장 처리업',\n",
       " '스포츠 서비스업',\n",
       " '시멘트, 석회, 플라스터 및 그 제품 제조업',\n",
       " '시장조사 및 여론조사업',\n",
       " '신발 및 신발 부분품 제조업',\n",
       " '신탁업 및 집합투자업',\n",
       " '실내건축 및 건축마무리 공사업',\n",
       " '악기 제조업',\n",
       " '알코올음료 제조업',\n",
       " '어로 어업',\n",
       " '여행사 및 기타 여행보조 서비스업',\n",
       " '연료 소매업',\n",
       " '연료용 가스 제조 및 배관공급업',\n",
       " '영상 및 음향기기 제조업',\n",
       " '영화, 비디오물, 방송프로그램 제작 및 배급업',\n",
       " '오디오물 출판 및 원판 녹음업',\n",
       " '운동 및 경기용구 제조업',\n",
       " '운송장비 임대업',\n",
       " '유리 및 유리제품 제조업',\n",
       " '유원지 및 기타 오락관련 서비스업',\n",
       " '육상 여객 운송업',\n",
       " '은행 및 저축기관',\n",
       " '음·식료품 및 담배 도매업',\n",
       " '음·식료품 및 담배 소매업',\n",
       " '음식점업',\n",
       " '의료용 기기 제조업',\n",
       " '의료용품 및 기타 의약 관련제품 제조업',\n",
       " '의복 액세서리 제조업',\n",
       " '의약품 제조업',\n",
       " '인쇄 및 인쇄관련 산업',\n",
       " '인형,장난감 및 오락용품 제조업',\n",
       " '일반 교습 학원',\n",
       " '일반 목적용 기계 제조업',\n",
       " '일반 및 생활 숙박시설 운영업',\n",
       " '일차전지 및 축전지 제조업',\n",
       " '자동차 부품 및 내장품 판매업',\n",
       " '자동차 신품 부품 제조업',\n",
       " '자동차 재제조 부품 제조업',\n",
       " '자동차 차체 및 트레일러 제조업',\n",
       " '자동차 판매업',\n",
       " '자동차용 엔진 및 자동차 제조업',\n",
       " '자료처리, 호스팅, 포털 및 기타 인터넷 정보매개 서비스업',\n",
       " '자연과학 및 공학 연구개발업',\n",
       " '작물 재배업',\n",
       " '재 보험업',\n",
       " '전구 및 조명장치 제조업',\n",
       " '전기 및 통신 공사업',\n",
       " '전기 통신업',\n",
       " '전기업',\n",
       " '전동기, 발전기 및 전기 변환 · 공급 · 제어 장치 제조업',\n",
       " '전문디자인업',\n",
       " '전자부품 제조업',\n",
       " '절연선 및 케이블 제조업',\n",
       " '제재 및 목재 가공업',\n",
       " '종합 소매업',\n",
       " '증기, 냉·온수 및 공기조절 공급업',\n",
       " '직물직조 및 직물제품 제조업',\n",
       " '창작 및 예술관련 서비스업',\n",
       " '철도장비 제조업',\n",
       " '초등 교육기관',\n",
       " '측정, 시험, 항해, 제어 및 기타 정밀기기 제조업; 광학기기 제외',\n",
       " '컴퓨터 및 주변장치 제조업',\n",
       " '컴퓨터 프로그래밍, 시스템 통합 및 관리업',\n",
       " '텔레비전 방송업',\n",
       " '토목 건설업',\n",
       " '통신 및 방송 장비 제조업',\n",
       " '특수 목적용 기계 제조업',\n",
       " '펄프, 종이 및 판지 제조업',\n",
       " '편조원단 제조업',\n",
       " '편조의복 제조업',\n",
       " '폐기물 처리업',\n",
       " '플라스틱제품 제조업',\n",
       " '합성고무 및 플라스틱 물질 제조업',\n",
       " '항공 여객 운송업',\n",
       " '항공기,우주선 및 부품 제조업',\n",
       " '해상 운송업',\n",
       " '해체, 선별 및 원료 재생업',\n",
       " '화학섬유 제조업',\n",
       " '회사 본부 및 경영 컨설팅 서비스업']"
      ]
     },
     "execution_count": 9,
     "metadata": {},
     "output_type": "execute_result"
    }
   ],
   "source": [
    "corp_list.sectors"
   ]
  },
  {
   "cell_type": "code",
   "execution_count": 10,
   "id": "be4135c3-b993-4f80-8b5c-5ab0203a352c",
   "metadata": {
    "tags": []
   },
   "outputs": [
    {
     "data": {
      "text/html": [
       "\n",
       "    <style scoped>\n",
       "        .dart-table tbody tr th {\n",
       "            vertical-align: top;\n",
       "            text-overflow: ellipsis;\n",
       "        }\n",
       "        .dart-table thead th {\n",
       "            text-align: right;\n",
       "            text-overflow: ellipsis;\n",
       "        }\n",
       "    </style>\n",
       "    <table border=\"1\" class=\"dart-table\"><thead><tr style=\"text-align: right;\"><th>Label</th><th>Data</th></tr></thead><tbody><tr><th>corp_code</th><td>00343163</td></tr><tr><th>corp_name</th><td>한라스페코중공업</td></tr><tr><th>stock_code</th><td>None</td></tr><tr><th>modify_date</th><td>20170630</td></tr></tbody></table>"
      ],
      "text/plain": [
       "[00343163]한라스페코중공업"
      ]
     },
     "execution_count": 10,
     "metadata": {},
     "output_type": "execute_result"
    }
   ],
   "source": [
    "corp_list[100]"
   ]
  },
  {
   "cell_type": "code",
   "execution_count": null,
   "id": "6b9fc2a2-ba34-4ec5-b5d4-eeb571465f27",
   "metadata": {
    "tags": []
   },
   "outputs": [],
   "source": [
    "corp_list.find_by_name('삼성') # 삼성이라는 이름이 없어서 오류남"
   ]
  },
  {
   "cell_type": "code",
   "execution_count": 12,
   "id": "6ff5b807-3745-4ae3-8a4f-445b9899b7c0",
   "metadata": {
    "tags": []
   },
   "outputs": [],
   "source": [
    "edu = corp_list.find_by_product('교육')"
   ]
  },
  {
   "cell_type": "code",
   "execution_count": 13,
   "id": "09520280-6e69-49aa-88f7-f02112346579",
   "metadata": {
    "tags": []
   },
   "outputs": [],
   "source": [
    "import pandas as pd"
   ]
  },
  {
   "cell_type": "code",
   "execution_count": 14,
   "id": "b84ea286-75dc-4e06-9902-909214444e1e",
   "metadata": {
    "tags": []
   },
   "outputs": [],
   "source": [
    "dict_temp = edu[0].to_dict()"
   ]
  },
  {
   "cell_type": "code",
   "execution_count": 15,
   "id": "561fd860-0287-4745-9710-3c2010c8b28b",
   "metadata": {
    "tags": []
   },
   "outputs": [],
   "source": [
    "df_temp = pd.DataFrame()\n",
    "\n",
    "for c in edu:\n",
    "    dict_temp = c.to_dict()\n",
    "    df_temp2 = pd.DataFrame.from_dict(dict_temp, orient='index').T\n",
    "    \n",
    "    df_temp = pd.concat([df_temp, df_temp2])"
   ]
  },
  {
   "cell_type": "markdown",
   "id": "4c2300fc-b847-4e8b-96f4-fe228bb4a1a2",
   "metadata": {},
   "source": [
    "df_temp = pd.DataFrame() : 빈 데이터프레임 생성.  \n",
    "\n",
    "for c in edu: : 'edu'라는 데이터 구조를 반복. 이것은 'edu'에 있는 각 요소를 'c'라는 변수에 할당.  \n",
    "\n",
    "dict_temp = c.to_dict() : 'c'라는 객체를 딕셔너리 형태로 변환하여 'dict_temp'에 저장.  \n",
    "\n",
    "df_temp2 = pd.DataFrame.from_dict(dict_temp, orient='index').T : 'dict_temp' 딕셔너리를 데이터프레임으로 변환. 'orient' 매개변수가 'index'로 설정되어 있으므로 딕셔너리의 키는 행 인덱스. '.T'를 사용하여 행과 열을 전환.  \n",
    "\n",
    "df_temp = pd.concat([df_temp, df_temp2]) : 새로운 데이터프레임 'df_temp2'를 기존의 'df_temp' 데이터프레임과 연결(concatenate). 여기서 'concat'은 데이터프레임을 수직으로 결합하는 함수. 따라서 이 작업은 'df_temp'에 'df_temp2'를 추가하는 것.  \n",
    "\n",
    "이 코드의 목적은 'edu'에 있는 데이터를 데이터프레임 형태로 변환하여 'df_temp'에 하나의 데이터프레임으로 모으는 것.  "
   ]
  },
  {
   "cell_type": "code",
   "execution_count": 16,
   "id": "5893b6bd-f520-4dd8-94f2-73d1fa118ac2",
   "metadata": {
    "tags": []
   },
   "outputs": [
    {
     "data": {
      "text/html": [
       "<div>\n",
       "<style scoped>\n",
       "    .dataframe tbody tr th:only-of-type {\n",
       "        vertical-align: middle;\n",
       "    }\n",
       "\n",
       "    .dataframe tbody tr th {\n",
       "        vertical-align: top;\n",
       "    }\n",
       "\n",
       "    .dataframe thead th {\n",
       "        text-align: right;\n",
       "    }\n",
       "</style>\n",
       "<table border=\"1\" class=\"dataframe\">\n",
       "  <thead>\n",
       "    <tr style=\"text-align: right;\">\n",
       "      <th></th>\n",
       "      <th>corp_code</th>\n",
       "      <th>corp_name</th>\n",
       "      <th>stock_code</th>\n",
       "      <th>modify_date</th>\n",
       "      <th>sector</th>\n",
       "      <th>product</th>\n",
       "      <th>corp_cls</th>\n",
       "      <th>trading_halt</th>\n",
       "      <th>issue</th>\n",
       "    </tr>\n",
       "  </thead>\n",
       "  <tbody>\n",
       "    <tr>\n",
       "      <th>0</th>\n",
       "      <td>01290248</td>\n",
       "      <td>스코넥</td>\n",
       "      <td>276040</td>\n",
       "      <td>20220224</td>\n",
       "      <td>소프트웨어 개발 및 공급업</td>\n",
       "      <td>XR 교육/훈련 시스템, VR 게임 콘텐츠 등</td>\n",
       "      <td>K</td>\n",
       "      <td>NaN</td>\n",
       "      <td>NaN</td>\n",
       "    </tr>\n",
       "    <tr>\n",
       "      <th>0</th>\n",
       "      <td>00307222</td>\n",
       "      <td>YBM넷</td>\n",
       "      <td>057030</td>\n",
       "      <td>20221219</td>\n",
       "      <td>교육지원 서비스업</td>\n",
       "      <td>온라인교육, 수수료수입 등</td>\n",
       "      <td>K</td>\n",
       "      <td>NaN</td>\n",
       "      <td>NaN</td>\n",
       "    </tr>\n",
       "    <tr>\n",
       "      <th>0</th>\n",
       "      <td>01063990</td>\n",
       "      <td>로보로보</td>\n",
       "      <td>215100</td>\n",
       "      <td>20230220</td>\n",
       "      <td>기타 전기장비 제조업</td>\n",
       "      <td>교육용로봇</td>\n",
       "      <td>K</td>\n",
       "      <td>NaN</td>\n",
       "      <td>NaN</td>\n",
       "    </tr>\n",
       "    <tr>\n",
       "      <th>0</th>\n",
       "      <td>00287788</td>\n",
       "      <td>정상제이엘에스</td>\n",
       "      <td>040420</td>\n",
       "      <td>20221202</td>\n",
       "      <td>일반 교습 학원</td>\n",
       "      <td>어학교육업</td>\n",
       "      <td>K</td>\n",
       "      <td>NaN</td>\n",
       "      <td>NaN</td>\n",
       "    </tr>\n",
       "    <tr>\n",
       "      <th>0</th>\n",
       "      <td>00398808</td>\n",
       "      <td>디지털대성</td>\n",
       "      <td>068930</td>\n",
       "      <td>20230223</td>\n",
       "      <td>일반 교습 학원</td>\n",
       "      <td>대성N스쿨 (교육 프랜차이즈)</td>\n",
       "      <td>K</td>\n",
       "      <td>NaN</td>\n",
       "      <td>NaN</td>\n",
       "    </tr>\n",
       "    <tr>\n",
       "      <th>0</th>\n",
       "      <td>00231691</td>\n",
       "      <td>판타지오</td>\n",
       "      <td>032800</td>\n",
       "      <td>20230109</td>\n",
       "      <td>창작 및 예술관련 서비스업</td>\n",
       "      <td>교육서비스</td>\n",
       "      <td>K</td>\n",
       "      <td>NaN</td>\n",
       "      <td>NaN</td>\n",
       "    </tr>\n",
       "    <tr>\n",
       "      <th>0</th>\n",
       "      <td>00531078</td>\n",
       "      <td>유비온</td>\n",
       "      <td>084440</td>\n",
       "      <td>20221128</td>\n",
       "      <td>소프트웨어 개발 및 공급업</td>\n",
       "      <td>학습관리시스템 등 에듀테크 플랫폼 (코스모스) 및 교육서비스</td>\n",
       "      <td>K</td>\n",
       "      <td>NaN</td>\n",
       "      <td>NaN</td>\n",
       "    </tr>\n",
       "    <tr>\n",
       "      <th>0</th>\n",
       "      <td>01110076</td>\n",
       "      <td>비유테크놀러지</td>\n",
       "      <td>230980</td>\n",
       "      <td>20231103</td>\n",
       "      <td>소프트웨어 개발 및 공급업</td>\n",
       "      <td>VR기반 교육훈련용솔루션</td>\n",
       "      <td>K</td>\n",
       "      <td>True</td>\n",
       "      <td>상장적격성 실질심사 대상(사유발생)</td>\n",
       "    </tr>\n",
       "    <tr>\n",
       "      <th>0</th>\n",
       "      <td>00425351</td>\n",
       "      <td>멀티캠퍼스</td>\n",
       "      <td>067280</td>\n",
       "      <td>20230316</td>\n",
       "      <td>기타 교육기관</td>\n",
       "      <td>성인/기업전문 교육서비스</td>\n",
       "      <td>K</td>\n",
       "      <td>NaN</td>\n",
       "      <td>NaN</td>\n",
       "    </tr>\n",
       "    <tr>\n",
       "      <th>0</th>\n",
       "      <td>00134176</td>\n",
       "      <td>세우글로벌</td>\n",
       "      <td>013000</td>\n",
       "      <td>20231122</td>\n",
       "      <td>기타 전문 도매업</td>\n",
       "      <td>화공약품.엔지니어링 플라스틱,페놀계제품,석유화학제품 판매/철재가구,사무목재가구 제조...</td>\n",
       "      <td>Y</td>\n",
       "      <td>NaN</td>\n",
       "      <td>NaN</td>\n",
       "    </tr>\n",
       "    <tr>\n",
       "      <th>0</th>\n",
       "      <td>00143651</td>\n",
       "      <td>웅진</td>\n",
       "      <td>016880</td>\n",
       "      <td>20230327</td>\n",
       "      <td>회사 본부 및 경영 컨설팅 서비스업</td>\n",
       "      <td>교육서비스(웅진아이큐,중.고교학습,어린이마을),도서,잡지 출판/부동산 임대/인터넷관련사업</td>\n",
       "      <td>Y</td>\n",
       "      <td>NaN</td>\n",
       "      <td>NaN</td>\n",
       "    </tr>\n",
       "    <tr>\n",
       "      <th>0</th>\n",
       "      <td>00348292</td>\n",
       "      <td>한빛소프트</td>\n",
       "      <td>047080</td>\n",
       "      <td>20230530</td>\n",
       "      <td>소프트웨어 개발 및 공급업</td>\n",
       "      <td>게임(스타크래프트 등), 교육, 솔루션</td>\n",
       "      <td>K</td>\n",
       "      <td>NaN</td>\n",
       "      <td>NaN</td>\n",
       "    </tr>\n",
       "    <tr>\n",
       "      <th>0</th>\n",
       "      <td>00876209</td>\n",
       "      <td>미래엔에듀파트너</td>\n",
       "      <td>208890</td>\n",
       "      <td>20240305</td>\n",
       "      <td>교육지원 서비스업</td>\n",
       "      <td>방과후 교육</td>\n",
       "      <td>N</td>\n",
       "      <td>NaN</td>\n",
       "      <td>NaN</td>\n",
       "    </tr>\n",
       "    <tr>\n",
       "      <th>0</th>\n",
       "      <td>00160588</td>\n",
       "      <td>한화</td>\n",
       "      <td>000880</td>\n",
       "      <td>20230503</td>\n",
       "      <td>기타 화학제품 제조업</td>\n",
       "      <td>화약,화공품,자동선반류,공작기계 제조,전자교환기,건설,정보통신,종합무역/임직원 및 ...</td>\n",
       "      <td>Y</td>\n",
       "      <td>NaN</td>\n",
       "      <td>NaN</td>\n",
       "    </tr>\n",
       "  </tbody>\n",
       "</table>\n",
       "</div>"
      ],
      "text/plain": [
       "  corp_code corp_name stock_code modify_date               sector  \\\n",
       "0  01290248       스코넥     276040    20220224       소프트웨어 개발 및 공급업   \n",
       "0  00307222      YBM넷     057030    20221219            교육지원 서비스업   \n",
       "0  01063990      로보로보     215100    20230220          기타 전기장비 제조업   \n",
       "0  00287788   정상제이엘에스     040420    20221202             일반 교습 학원   \n",
       "0  00398808     디지털대성     068930    20230223             일반 교습 학원   \n",
       "0  00231691      판타지오     032800    20230109       창작 및 예술관련 서비스업   \n",
       "0  00531078       유비온     084440    20221128       소프트웨어 개발 및 공급업   \n",
       "0  01110076   비유테크놀러지     230980    20231103       소프트웨어 개발 및 공급업   \n",
       "0  00425351     멀티캠퍼스     067280    20230316              기타 교육기관   \n",
       "0  00134176     세우글로벌     013000    20231122            기타 전문 도매업   \n",
       "0  00143651        웅진     016880    20230327  회사 본부 및 경영 컨설팅 서비스업   \n",
       "0  00348292     한빛소프트     047080    20230530       소프트웨어 개발 및 공급업   \n",
       "0  00876209  미래엔에듀파트너     208890    20240305            교육지원 서비스업   \n",
       "0  00160588        한화     000880    20230503          기타 화학제품 제조업   \n",
       "\n",
       "                                             product corp_cls trading_halt  \\\n",
       "0                          XR 교육/훈련 시스템, VR 게임 콘텐츠 등        K          NaN   \n",
       "0                                     온라인교육, 수수료수입 등        K          NaN   \n",
       "0                                              교육용로봇        K          NaN   \n",
       "0                                              어학교육업        K          NaN   \n",
       "0                                   대성N스쿨 (교육 프랜차이즈)        K          NaN   \n",
       "0                                              교육서비스        K          NaN   \n",
       "0                  학습관리시스템 등 에듀테크 플랫폼 (코스모스) 및 교육서비스        K          NaN   \n",
       "0                                      VR기반 교육훈련용솔루션        K         True   \n",
       "0                                      성인/기업전문 교육서비스        K          NaN   \n",
       "0  화공약품.엔지니어링 플라스틱,페놀계제품,석유화학제품 판매/철재가구,사무목재가구 제조...        Y          NaN   \n",
       "0  교육서비스(웅진아이큐,중.고교학습,어린이마을),도서,잡지 출판/부동산 임대/인터넷관련사업        Y          NaN   \n",
       "0                              게임(스타크래프트 등), 교육, 솔루션        K          NaN   \n",
       "0                                             방과후 교육        N          NaN   \n",
       "0  화약,화공품,자동선반류,공작기계 제조,전자교환기,건설,정보통신,종합무역/임직원 및 ...        Y          NaN   \n",
       "\n",
       "                 issue  \n",
       "0                  NaN  \n",
       "0                  NaN  \n",
       "0                  NaN  \n",
       "0                  NaN  \n",
       "0                  NaN  \n",
       "0                  NaN  \n",
       "0                  NaN  \n",
       "0  상장적격성 실질심사 대상(사유발생)  \n",
       "0                  NaN  \n",
       "0                  NaN  \n",
       "0                  NaN  \n",
       "0                  NaN  \n",
       "0                  NaN  \n",
       "0                  NaN  "
      ]
     },
     "execution_count": 16,
     "metadata": {},
     "output_type": "execute_result"
    }
   ],
   "source": [
    "df_temp"
   ]
  },
  {
   "cell_type": "code",
   "execution_count": 17,
   "id": "976084c5-5c96-4379-9dcf-f17b5191c709",
   "metadata": {
    "tags": []
   },
   "outputs": [
    {
     "data": {
      "text/plain": [
       "['1차 비철금속 제조업',\n",
       " '1차 철강 제조업',\n",
       " '가구 제조업',\n",
       " '가전제품 및 정보통신장비 소매업',\n",
       " '가정용 기기 제조업',\n",
       " '가죽, 가방 및 유사제품 제조업',\n",
       " '개인 및 가정용품 임대업',\n",
       " '건물 건설업',\n",
       " '건물설비 설치 공사업',\n",
       " '건축기술, 엔지니어링 및 관련 기술 서비스업',\n",
       " '건축자재, 철물 및 난방장치 도매업',\n",
       " '경비, 경호 및 탐정업',\n",
       " '고무제품 제조업',\n",
       " '곡물가공품, 전분 및 전분제품 제조업',\n",
       " '골판지, 종이 상자 및 종이용기 제조업',\n",
       " '과실, 채소 가공 및 저장 처리업',\n",
       " '광고업',\n",
       " '교육지원 서비스업',\n",
       " '구조용 금속제품, 탱크 및 증기발생기 제조업',\n",
       " '귀금속 및 장신용품 제조업',\n",
       " '그외 기타 개인 서비스업',\n",
       " '그외 기타 운송장비 제조업',\n",
       " '그외 기타 전문, 과학 및 기술 서비스업',\n",
       " '그외 기타 제품 제조업',\n",
       " '금속 주조업',\n",
       " '금융 지원 서비스업',\n",
       " '기계장비 및 관련 물품 도매업',\n",
       " '기록매체 복제업',\n",
       " '기반조성 및 시설물 축조관련 전문공사업',\n",
       " '기초 의약물질 및 생물학적 제제 제조업',\n",
       " '기초 화학물질 제조업',\n",
       " '기타 과학기술 서비스업',\n",
       " '기타 교육기관',\n",
       " '기타 금속 가공제품 제조업',\n",
       " '기타 금융업',\n",
       " '기타 비금속 광물제품 제조업',\n",
       " '기타 비금속광물 광업',\n",
       " '기타 사업지원 서비스업',\n",
       " '기타 상품 전문 소매업',\n",
       " '기타 생활용품 소매업',\n",
       " '기타 섬유제품 제조업',\n",
       " '기타 식품 제조업',\n",
       " '기타 운송관련 서비스업',\n",
       " '기타 전기장비 제조업',\n",
       " '기타 전문 도매업',\n",
       " '기타 전문 서비스업',\n",
       " '기타 정보 서비스업',\n",
       " '기타 종이 및 판지 제품 제조업',\n",
       " '기타 화학제품 제조업',\n",
       " '나무제품 제조업',\n",
       " '낙농제품 및 식용빙과류 제조업',\n",
       " '내화, 비내화 요업제품 제조업',\n",
       " '담배 제조업',\n",
       " '도로 화물 운송업',\n",
       " '도축, 육류 가공 및 저장 처리업',\n",
       " '동물용 사료 및 조제식품 제조업',\n",
       " '마그네틱 및 광학 매체 제조업',\n",
       " '무기 및 총포탄 제조업',\n",
       " '무점포 소매업',\n",
       " '반도체 제조업',\n",
       " '방적 및 가공사 제조업',\n",
       " '보험 및 연금관련 서비스업',\n",
       " '보험업',\n",
       " '봉제의복 제조업',\n",
       " '부동산 관련 서비스업',\n",
       " '부동산 임대 및 공급업',\n",
       " '비료, 농약 및 살균, 살충제 제조업',\n",
       " '비알코올음료 및 얼음 제조업',\n",
       " '사업시설 유지·관리 서비스업',\n",
       " '사진장비 및 광학기기 제조업',\n",
       " '산업용 기계 및 장비 임대업',\n",
       " '산업용 농·축산물 및 동·식물 도매업',\n",
       " '상품 종합 도매업',\n",
       " '상품 중개업',\n",
       " '생활용품 도매업',\n",
       " '서적, 잡지 및 기타 인쇄물 출판업',\n",
       " '석유 정제품 제조업',\n",
       " '선박 및 보트 건조업',\n",
       " '섬유, 의복, 신발 및 가죽제품 소매업',\n",
       " '섬유제품 염색, 정리 및 마무리 가공업',\n",
       " '소프트웨어 개발 및 공급업',\n",
       " '수산물 가공 및 저장 처리업',\n",
       " '스포츠 서비스업',\n",
       " '시멘트, 석회, 플라스터 및 그 제품 제조업',\n",
       " '시장조사 및 여론조사업',\n",
       " '신발 및 신발 부분품 제조업',\n",
       " '신탁업 및 집합투자업',\n",
       " '실내건축 및 건축마무리 공사업',\n",
       " '악기 제조업',\n",
       " '알코올음료 제조업',\n",
       " '어로 어업',\n",
       " '여행사 및 기타 여행보조 서비스업',\n",
       " '연료 소매업',\n",
       " '연료용 가스 제조 및 배관공급업',\n",
       " '영상 및 음향기기 제조업',\n",
       " '영화, 비디오물, 방송프로그램 제작 및 배급업',\n",
       " '오디오물 출판 및 원판 녹음업',\n",
       " '운동 및 경기용구 제조업',\n",
       " '운송장비 임대업',\n",
       " '유리 및 유리제품 제조업',\n",
       " '유원지 및 기타 오락관련 서비스업',\n",
       " '육상 여객 운송업',\n",
       " '은행 및 저축기관',\n",
       " '음·식료품 및 담배 도매업',\n",
       " '음·식료품 및 담배 소매업',\n",
       " '음식점업',\n",
       " '의료용 기기 제조업',\n",
       " '의료용품 및 기타 의약 관련제품 제조업',\n",
       " '의복 액세서리 제조업',\n",
       " '의약품 제조업',\n",
       " '인쇄 및 인쇄관련 산업',\n",
       " '인형,장난감 및 오락용품 제조업',\n",
       " '일반 교습 학원',\n",
       " '일반 목적용 기계 제조업',\n",
       " '일반 및 생활 숙박시설 운영업',\n",
       " '일차전지 및 축전지 제조업',\n",
       " '자동차 부품 및 내장품 판매업',\n",
       " '자동차 신품 부품 제조업',\n",
       " '자동차 재제조 부품 제조업',\n",
       " '자동차 차체 및 트레일러 제조업',\n",
       " '자동차 판매업',\n",
       " '자동차용 엔진 및 자동차 제조업',\n",
       " '자료처리, 호스팅, 포털 및 기타 인터넷 정보매개 서비스업',\n",
       " '자연과학 및 공학 연구개발업',\n",
       " '작물 재배업',\n",
       " '재 보험업',\n",
       " '전구 및 조명장치 제조업',\n",
       " '전기 및 통신 공사업',\n",
       " '전기 통신업',\n",
       " '전기업',\n",
       " '전동기, 발전기 및 전기 변환 · 공급 · 제어 장치 제조업',\n",
       " '전문디자인업',\n",
       " '전자부품 제조업',\n",
       " '절연선 및 케이블 제조업',\n",
       " '제재 및 목재 가공업',\n",
       " '종합 소매업',\n",
       " '증기, 냉·온수 및 공기조절 공급업',\n",
       " '직물직조 및 직물제품 제조업',\n",
       " '창작 및 예술관련 서비스업',\n",
       " '철도장비 제조업',\n",
       " '초등 교육기관',\n",
       " '측정, 시험, 항해, 제어 및 기타 정밀기기 제조업; 광학기기 제외',\n",
       " '컴퓨터 및 주변장치 제조업',\n",
       " '컴퓨터 프로그래밍, 시스템 통합 및 관리업',\n",
       " '텔레비전 방송업',\n",
       " '토목 건설업',\n",
       " '통신 및 방송 장비 제조업',\n",
       " '특수 목적용 기계 제조업',\n",
       " '펄프, 종이 및 판지 제조업',\n",
       " '편조원단 제조업',\n",
       " '편조의복 제조업',\n",
       " '폐기물 처리업',\n",
       " '플라스틱제품 제조업',\n",
       " '합성고무 및 플라스틱 물질 제조업',\n",
       " '항공 여객 운송업',\n",
       " '항공기,우주선 및 부품 제조업',\n",
       " '해상 운송업',\n",
       " '해체, 선별 및 원료 재생업',\n",
       " '화학섬유 제조업',\n",
       " '회사 본부 및 경영 컨설팅 서비스업']"
      ]
     },
     "execution_count": 17,
     "metadata": {},
     "output_type": "execute_result"
    }
   ],
   "source": [
    "# 기업 정보 조회\n",
    "corp_list.sectors"
   ]
  },
  {
   "cell_type": "code",
   "execution_count": 18,
   "id": "a41d7f2e-600e-4f70-a90d-b25eb4c088d9",
   "metadata": {
    "tags": []
   },
   "outputs": [],
   "source": [
    "# 일반 교습학원을 기준으로 정보 저장하기\n",
    "edu_list = corp_list.find_by_sector('일반 교습 학원')"
   ]
  },
  {
   "cell_type": "code",
   "execution_count": 19,
   "id": "2ba8919d-e8d7-4199-b634-4925cb8ae8b1",
   "metadata": {
    "tags": []
   },
   "outputs": [],
   "source": [
    "find_list = []\n",
    "\n",
    "for e in edu_list:\n",
    "    find_list.append([e.corp_name, e.corp_code])"
   ]
  },
  {
   "cell_type": "code",
   "execution_count": 20,
   "id": "1a75f3aa-a8a7-4b7d-871b-548e9b1e895a",
   "metadata": {
    "tags": []
   },
   "outputs": [
    {
     "data": {
      "text/plain": [
       "[['메가스터디교육', '01074862'],\n",
       " ['정상제이엘에스', '00287788'],\n",
       " ['디지털대성', '00398808'],\n",
       " ['크레버스', '00525882'],\n",
       " ['아이비김영', '01414422'],\n",
       " ['메가엠디', '00807555']]"
      ]
     },
     "execution_count": 20,
     "metadata": {},
     "output_type": "execute_result"
    }
   ],
   "source": [
    "find_list"
   ]
  },
  {
   "cell_type": "markdown",
   "id": "d6dfb495-0ba7-4fa1-8c04-fa20e903113f",
   "metadata": {
    "tags": []
   },
   "source": [
    "temp = dart.api.filings.get_corp_info('00307222')\n",
    "각 회사의 고유 코드를 들고와야 함"
   ]
  },
  {
   "cell_type": "markdown",
   "id": "902314bf-43d6-4a78-a857-b5b12868f565",
   "metadata": {
    "tags": []
   },
   "source": [
    "edu_temp = pd.DataFrame.from_dict(temp, orient='index').T"
   ]
  },
  {
   "cell_type": "markdown",
   "id": "5d139baf-43fb-44f5-9f52-818bac7d166b",
   "metadata": {
    "tags": []
   },
   "source": [
    "edu_df = pd.concat([edu_df, edu_temp])"
   ]
  },
  {
   "cell_type": "code",
   "execution_count": 21,
   "id": "8be9ce56-03b3-49cc-b2a6-89479bb3572a",
   "metadata": {
    "tags": []
   },
   "outputs": [],
   "source": [
    "edu_df = pd.DataFrame()"
   ]
  },
  {
   "cell_type": "code",
   "execution_count": 22,
   "id": "4515ee4b-b017-4cb9-9ba0-99449d23218b",
   "metadata": {
    "tags": []
   },
   "outputs": [],
   "source": [
    "for e in find_list:\n",
    "    e_num = e[1]\n",
    "    temp = dart.api.filings.get_corp_info(e_num)\n",
    "    edu_temp = pd.DataFrame.from_dict(temp, orient='index').T\n",
    "    edu_df = pd.concat([edu_df, edu_temp])"
   ]
  },
  {
   "cell_type": "code",
   "execution_count": 24,
   "id": "0a32a55c-90d4-4ef8-9b9a-653cc92b81f0",
   "metadata": {
    "tags": []
   },
   "outputs": [
    {
     "data": {
      "text/html": [
       "<div>\n",
       "<style scoped>\n",
       "    .dataframe tbody tr th:only-of-type {\n",
       "        vertical-align: middle;\n",
       "    }\n",
       "\n",
       "    .dataframe tbody tr th {\n",
       "        vertical-align: top;\n",
       "    }\n",
       "\n",
       "    .dataframe thead th {\n",
       "        text-align: right;\n",
       "    }\n",
       "</style>\n",
       "<table border=\"1\" class=\"dataframe\">\n",
       "  <thead>\n",
       "    <tr style=\"text-align: right;\">\n",
       "      <th></th>\n",
       "      <th>status</th>\n",
       "      <th>message</th>\n",
       "      <th>corp_code</th>\n",
       "      <th>corp_name</th>\n",
       "      <th>corp_name_eng</th>\n",
       "      <th>stock_name</th>\n",
       "      <th>stock_code</th>\n",
       "      <th>ceo_nm</th>\n",
       "      <th>corp_cls</th>\n",
       "      <th>jurir_no</th>\n",
       "      <th>bizr_no</th>\n",
       "      <th>adres</th>\n",
       "      <th>hm_url</th>\n",
       "      <th>ir_url</th>\n",
       "      <th>phn_no</th>\n",
       "      <th>fax_no</th>\n",
       "      <th>induty_code</th>\n",
       "      <th>est_dt</th>\n",
       "      <th>acc_mt</th>\n",
       "    </tr>\n",
       "  </thead>\n",
       "  <tbody>\n",
       "    <tr>\n",
       "      <th>0</th>\n",
       "      <td>000</td>\n",
       "      <td>정상</td>\n",
       "      <td>01074862</td>\n",
       "      <td>메가스터디교육(주)</td>\n",
       "      <td>MegaStudyEdu Co. Ltd</td>\n",
       "      <td>메가스터디교육</td>\n",
       "      <td>215200</td>\n",
       "      <td>손성은</td>\n",
       "      <td>K</td>\n",
       "      <td>1101115685966</td>\n",
       "      <td>7808700034</td>\n",
       "      <td>서울특별시 서초구 효령로 321 덕원빌딩</td>\n",
       "      <td>www.megastudy.net</td>\n",
       "      <td></td>\n",
       "      <td>02-3489-8200</td>\n",
       "      <td>02)3489-8640</td>\n",
       "      <td>85503</td>\n",
       "      <td>20000712</td>\n",
       "      <td>12</td>\n",
       "    </tr>\n",
       "    <tr>\n",
       "      <th>0</th>\n",
       "      <td>000</td>\n",
       "      <td>정상</td>\n",
       "      <td>00287788</td>\n",
       "      <td>(주)정상제이엘에스</td>\n",
       "      <td>JLS CO.,LTD.</td>\n",
       "      <td>정상제이엘에스</td>\n",
       "      <td>040420</td>\n",
       "      <td>박정흠</td>\n",
       "      <td>K</td>\n",
       "      <td>1243110039762</td>\n",
       "      <td>1308142974</td>\n",
       "      <td>서울특별시 강남구  영동대로 229</td>\n",
       "      <td>www.gojls.com</td>\n",
       "      <td></td>\n",
       "      <td>02-3413-9100</td>\n",
       "      <td>02-563-1757</td>\n",
       "      <td>8550</td>\n",
       "      <td>19930731</td>\n",
       "      <td>12</td>\n",
       "    </tr>\n",
       "    <tr>\n",
       "      <th>0</th>\n",
       "      <td>000</td>\n",
       "      <td>정상</td>\n",
       "      <td>00398808</td>\n",
       "      <td>(주)디지털대성</td>\n",
       "      <td>Digital Daesung Co., Ltd.</td>\n",
       "      <td>디지털대성</td>\n",
       "      <td>068930</td>\n",
       "      <td>김희선</td>\n",
       "      <td>K</td>\n",
       "      <td>1101111902835</td>\n",
       "      <td>1148196124</td>\n",
       "      <td>서울특별시 서초구  방배로 181 단우빌딩</td>\n",
       "      <td>www.digitaldaesung.com</td>\n",
       "      <td></td>\n",
       "      <td>(02)2104-8600</td>\n",
       "      <td>(02)597-3731</td>\n",
       "      <td>855</td>\n",
       "      <td>20000310</td>\n",
       "      <td>12</td>\n",
       "    </tr>\n",
       "    <tr>\n",
       "      <th>0</th>\n",
       "      <td>000</td>\n",
       "      <td>정상</td>\n",
       "      <td>00525882</td>\n",
       "      <td>(주)크레버스</td>\n",
       "      <td>Creverse, Inc.</td>\n",
       "      <td>크레버스</td>\n",
       "      <td>096240</td>\n",
       "      <td>이동훈, 김형준 (각자대표)</td>\n",
       "      <td>K</td>\n",
       "      <td>1101112541575</td>\n",
       "      <td>2118716710</td>\n",
       "      <td>서울특별시 강남구 테헤란로 521 파르나스타워 21층</td>\n",
       "      <td>creverse.com</td>\n",
       "      <td></td>\n",
       "      <td>02-3429-9407</td>\n",
       "      <td>02-3454-9449</td>\n",
       "      <td>855</td>\n",
       "      <td>20020605</td>\n",
       "      <td>12</td>\n",
       "    </tr>\n",
       "    <tr>\n",
       "      <th>0</th>\n",
       "      <td>000</td>\n",
       "      <td>정상</td>\n",
       "      <td>01414422</td>\n",
       "      <td>(주)아이비김영</td>\n",
       "      <td>IBKIMYOUNG CO.,LTD.</td>\n",
       "      <td>아이비김영</td>\n",
       "      <td>339950</td>\n",
       "      <td>김석철</td>\n",
       "      <td>K</td>\n",
       "      <td>1101117257507</td>\n",
       "      <td>1208827562</td>\n",
       "      <td>서울특별시 서초구 강남대로 279 4,5층(서초동, 백향빌딩)</td>\n",
       "      <td>www.kimyoung.co.kr</td>\n",
       "      <td></td>\n",
       "      <td>02-3456-8013</td>\n",
       "      <td>02-599-5611</td>\n",
       "      <td>85503</td>\n",
       "      <td>20191011</td>\n",
       "      <td>12</td>\n",
       "    </tr>\n",
       "  </tbody>\n",
       "</table>\n",
       "</div>"
      ],
      "text/plain": [
       "  status message corp_code   corp_name              corp_name_eng stock_name  \\\n",
       "0    000      정상  01074862  메가스터디교육(주)       MegaStudyEdu Co. Ltd    메가스터디교육   \n",
       "0    000      정상  00287788  (주)정상제이엘에스               JLS CO.,LTD.    정상제이엘에스   \n",
       "0    000      정상  00398808    (주)디지털대성  Digital Daesung Co., Ltd.      디지털대성   \n",
       "0    000      정상  00525882     (주)크레버스             Creverse, Inc.       크레버스   \n",
       "0    000      정상  01414422    (주)아이비김영        IBKIMYOUNG CO.,LTD.      아이비김영   \n",
       "\n",
       "  stock_code           ceo_nm corp_cls       jurir_no     bizr_no  \\\n",
       "0     215200              손성은        K  1101115685966  7808700034   \n",
       "0     040420              박정흠        K  1243110039762  1308142974   \n",
       "0     068930              김희선        K  1101111902835  1148196124   \n",
       "0     096240  이동훈, 김형준 (각자대표)        K  1101112541575  2118716710   \n",
       "0     339950              김석철        K  1101117257507  1208827562   \n",
       "\n",
       "                                adres                  hm_url ir_url  \\\n",
       "0              서울특별시 서초구 효령로 321 덕원빌딩       www.megastudy.net          \n",
       "0                 서울특별시 강남구  영동대로 229           www.gojls.com          \n",
       "0             서울특별시 서초구  방배로 181 단우빌딩  www.digitaldaesung.com          \n",
       "0       서울특별시 강남구 테헤란로 521 파르나스타워 21층            creverse.com          \n",
       "0  서울특별시 서초구 강남대로 279 4,5층(서초동, 백향빌딩)      www.kimyoung.co.kr          \n",
       "\n",
       "          phn_no        fax_no induty_code    est_dt acc_mt  \n",
       "0   02-3489-8200  02)3489-8640       85503  20000712     12  \n",
       "0   02-3413-9100   02-563-1757        8550  19930731     12  \n",
       "0  (02)2104-8600  (02)597-3731         855  20000310     12  \n",
       "0   02-3429-9407  02-3454-9449         855  20020605     12  \n",
       "0   02-3456-8013   02-599-5611       85503  20191011     12  "
      ]
     },
     "execution_count": 24,
     "metadata": {},
     "output_type": "execute_result"
    }
   ],
   "source": [
    "edu_df.head()"
   ]
  },
  {
   "cell_type": "markdown",
   "id": "64e0fa54-5424-4440-95fb-b4c4811d63d0",
   "metadata": {},
   "source": [
    "이 코드는 'edu_df' 데이터프레임의 열 이름을 바꾸기 위한 것으로 보입니다. 'col_name'이라는 데이터프레임이 있고, 이 데이터프레임은 '응답키'와 '명칭' 열을 가지고 있습니다. '응답키'는 'edu_df'의 열 이름과 대응되며, '명칭'은 새로운 열 이름으로 사용됩니다.\n",
    "\n",
    "코드는 다음과 같은 작업을 수행합니다:\n",
    "\n",
    "'new_columns'라는 빈 리스트를 만듭니다.\n",
    "'edu_df' 데이터프레임의 각 열 이름에 대해 반복합니다.\n",
    "해당 열 이름이 'col_name'의 '응답키'에 있는지 확인합니다.\n",
    "'응답키'가 있으면 해당하는 '명칭'을 찾습니다.\n",
    "'new_columns' 리스트에 새로운 열 이름을 추가합니다. 만약 '응답키'에 해당하는 '명칭'이 없을 경우에는 그대로 열 이름을 유지합니다."
   ]
  },
  {
   "cell_type": "code",
   "execution_count": 25,
   "id": "f4c8ef22-9792-4f5f-92c2-07e18a6a7d66",
   "metadata": {
    "tags": []
   },
   "outputs": [
    {
     "data": {
      "text/plain": [
       "Index(['status', 'message', 'corp_code', 'corp_name', 'corp_name_eng',\n",
       "       'stock_name', 'stock_code', 'ceo_nm', 'corp_cls', 'jurir_no', 'bizr_no',\n",
       "       'adres', 'hm_url', 'ir_url', 'phn_no', 'fax_no', 'induty_code',\n",
       "       'est_dt', 'acc_mt'],\n",
       "      dtype='object')"
      ]
     },
     "execution_count": 25,
     "metadata": {},
     "output_type": "execute_result"
    }
   ],
   "source": [
    "edu_df.columns\n",
    "# openAPI - 개발가이드 - 공시정보 - 응답 결과"
   ]
  },
  {
   "cell_type": "code",
   "execution_count": 26,
   "id": "c991f1a3-2816-4b79-a025-6878e0d54718",
   "metadata": {
    "tags": []
   },
   "outputs": [],
   "source": [
    "col_name = pd.read_csv('./dart_info.csv', encoding='cp949')"
   ]
  },
  {
   "cell_type": "code",
   "execution_count": 27,
   "id": "d82dca72-9fd8-4238-a54c-dcf827981249",
   "metadata": {
    "tags": []
   },
   "outputs": [],
   "source": [
    "# print(col_name[col_name['응답키'] == c]['명칭'])\n",
    "\n",
    "new_columns = []\n",
    "\n",
    "for c in edu_df.columns:\n",
    "    try:\n",
    "        m = col_name['응답키'] == c\n",
    "        new_c = col_name[m]['명칭'].iloc[0]\n",
    "        new_columns.append(new_c)\n",
    "    except:\n",
    "        new_columns.append(c)"
   ]
  },
  {
   "cell_type": "code",
   "execution_count": 28,
   "id": "e198df8a-8207-42a5-86b1-26cd3c79221d",
   "metadata": {
    "tags": []
   },
   "outputs": [
    {
     "data": {
      "text/plain": [
       "['에러 및 정보 코드',\n",
       " '에러 및 정보 메시지',\n",
       " 'corp_code',\n",
       " '정식명칭',\n",
       " '영문명칭',\n",
       " '종목명(상장사) 또는 약식명칭(기타법인)',\n",
       " '상장회사인 경우 주식의 종목코드',\n",
       " '대표자명',\n",
       " '법인구분',\n",
       " '법인등록번호',\n",
       " '사업자등록번호',\n",
       " '주소',\n",
       " '홈페이지',\n",
       " 'IR홈페이지',\n",
       " '전화번호',\n",
       " '팩스번호',\n",
       " '업종코드',\n",
       " '설립일(YYYYMMDD)',\n",
       " '결산월(MM)']"
      ]
     },
     "execution_count": 28,
     "metadata": {},
     "output_type": "execute_result"
    }
   ],
   "source": [
    "new_columns"
   ]
  },
  {
   "cell_type": "code",
   "execution_count": 29,
   "id": "7c1a2438-97ca-4445-8524-230e5b766dea",
   "metadata": {
    "tags": []
   },
   "outputs": [],
   "source": [
    "edu_df.columns = new_columns"
   ]
  },
  {
   "cell_type": "code",
   "execution_count": 31,
   "id": "191c596a-c545-4a60-9091-2e261439fe54",
   "metadata": {
    "tags": []
   },
   "outputs": [],
   "source": [
    "# 지역별 업체수 시각화\n",
    "import re\n",
    "import seaborn as sns\n",
    "import matplotlib.pyplot as plt\n",
    "import matplotlib as mpl\n",
    "\n",
    "sns.set(font_scale=1.4)\n",
    "plt.rc('font', family='Malgun Gothic') # 글꼴 변경\n",
    "mpl.rcParams['axes.unicode_minus'] = False # 마이너스 기호 깨짐 문제 해결"
   ]
  },
  {
   "cell_type": "code",
   "execution_count": 32,
   "id": "8192d9ad-3ca1-4540-bfa9-f5a8e32261a4",
   "metadata": {
    "tags": []
   },
   "outputs": [],
   "source": [
    "#지역(구) 정보 추출\n",
    "edu_df['지역(구)'] = edu_df['주소'].apply(lambda x : re.findall('[가-힣]+구', x)[0])"
   ]
  },
  {
   "cell_type": "code",
   "execution_count": 33,
   "id": "4840c781-e4e6-4de9-941f-4a420d79c361",
   "metadata": {
    "tags": []
   },
   "outputs": [
    {
     "data": {
      "text/plain": [
       "['서초구']"
      ]
     },
     "execution_count": 33,
     "metadata": {},
     "output_type": "execute_result"
    }
   ],
   "source": [
    "re.findall('[가-힣]+구', '서울특별시 서초구 효령로 321 덕원빌딩')"
   ]
  },
  {
   "cell_type": "code",
   "execution_count": 34,
   "id": "4d8d4437-b9b5-48aa-910f-b59904c66f8a",
   "metadata": {
    "tags": []
   },
   "outputs": [
    {
     "name": "stderr",
     "output_type": "stream",
     "text": [
      "c:\\ProgramData\\anaconda3\\Lib\\site-packages\\seaborn\\_oldcore.py:1498: FutureWarning: is_categorical_dtype is deprecated and will be removed in a future version. Use isinstance(dtype, CategoricalDtype) instead\n",
      "  if pd.api.types.is_categorical_dtype(vector):\n",
      "c:\\ProgramData\\anaconda3\\Lib\\site-packages\\seaborn\\_oldcore.py:1498: FutureWarning: is_categorical_dtype is deprecated and will be removed in a future version. Use isinstance(dtype, CategoricalDtype) instead\n",
      "  if pd.api.types.is_categorical_dtype(vector):\n",
      "c:\\ProgramData\\anaconda3\\Lib\\site-packages\\seaborn\\_oldcore.py:1119: FutureWarning: use_inf_as_na option is deprecated and will be removed in a future version. Convert inf values to NaN before operating instead.\n",
      "  with pd.option_context('mode.use_inf_as_na', True):\n"
     ]
    },
    {
     "data": {
      "image/png": "[encoded data removed]",
      "text/plain": [
       "<Figure size 640x480 with 1 Axes>"
      ]
     },
     "metadata": {},
     "output_type": "display_data"
    }
   ],
   "source": [
    "sns.histplot(data = edu_df, x='지역(구)')\n",
    "plt.title('지역별 업체 수')\n",
    "plt.show()"
   ]
  },
  {
   "cell_type": "code",
   "execution_count": 35,
   "id": "b95e2cff-e885-4d81-b978-962c87a8c952",
   "metadata": {
    "tags": []
   },
   "outputs": [],
   "source": [
    "code = pd.read_csv('./업종코드.csv', index_col=0)"
   ]
  },
  {
   "cell_type": "code",
   "execution_count": 36,
   "id": "c34c6a34-eab8-462b-8b15-b3df063ce467",
   "metadata": {
    "tags": []
   },
   "outputs": [],
   "source": [
    "# 업종 코드를 업종명으로 전환\n",
    "new_code = []\n",
    "\n",
    "for e in edu_df['업종코드']:\n",
    "    try:\n",
    "        new_code.append(code.loc[int(e),'업종명'])\n",
    "    except:\n",
    "        new_code.append(f'기타({e})')"
   ]
  },
  {
   "cell_type": "code",
   "execution_count": 37,
   "id": "a2b1ac70-aafd-4b71-96d0-87a2aadf6d04",
   "metadata": {
    "tags": []
   },
   "outputs": [],
   "source": [
    "edu_df['업종'] = new_code"
   ]
  },
  {
   "cell_type": "code",
   "execution_count": 38,
   "id": "50681614-808e-4a0b-ad65-29c8f2ef4126",
   "metadata": {
    "tags": []
   },
   "outputs": [
    {
     "name": "stderr",
     "output_type": "stream",
     "text": [
      "c:\\ProgramData\\anaconda3\\Lib\\site-packages\\seaborn\\_oldcore.py:1498: FutureWarning: is_categorical_dtype is deprecated and will be removed in a future version. Use isinstance(dtype, CategoricalDtype) instead\n",
      "  if pd.api.types.is_categorical_dtype(vector):\n",
      "c:\\ProgramData\\anaconda3\\Lib\\site-packages\\seaborn\\_oldcore.py:1498: FutureWarning: is_categorical_dtype is deprecated and will be removed in a future version. Use isinstance(dtype, CategoricalDtype) instead\n",
      "  if pd.api.types.is_categorical_dtype(vector):\n"
     ]
    },
    {
     "name": "stderr",
     "output_type": "stream",
     "text": [
      "c:\\ProgramData\\anaconda3\\Lib\\site-packages\\seaborn\\_oldcore.py:1119: FutureWarning: use_inf_as_na option is deprecated and will be removed in a future version. Convert inf values to NaN before operating instead.\n",
      "  with pd.option_context('mode.use_inf_as_na', True):\n"
     ]
    },
    {
     "data": {
      "text/plain": [
       "<Axes: xlabel='업종', ylabel='Count'>"
      ]
     },
     "execution_count": 38,
     "metadata": {},
     "output_type": "execute_result"
    },
    {
     "data": {
      "image/png": "[encoded data removed]",
      "text/plain": [
       "<Figure size 640x480 with 1 Axes>"
      ]
     },
     "metadata": {},
     "output_type": "display_data"
    }
   ],
   "source": [
    "# 업종 정보 시각화\n",
    "sns.histplot(data = edu_df, x='업종')"
   ]
  }
 ],
 "metadata": {
  "kernelspec": {
   "display_name": "Python 3 (ipykernel)",
   "language": "python",
   "name": "python3"
  },
  "language_info": {
   "codemirror_mode": {
    "name": "ipython",
    "version": 3
   },
   "file_extension": ".py",
   "mimetype": "text/x-python",
   "name": "python",
   "nbconvert_exporter": "python",
   "pygments_lexer": "ipython3",
   "version": "3.11.5"
  }
 },
 "nbformat": 4,
 "nbformat_minor": 5
}
