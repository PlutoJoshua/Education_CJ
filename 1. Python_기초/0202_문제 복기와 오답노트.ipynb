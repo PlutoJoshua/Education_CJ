{
 "cells": [
  {
   "cell_type": "markdown",
   "id": "7892c8c1",
   "metadata": {},
   "source": [
    "---\n",
    "# 오늘은 코딩 테스트를 본 날 !!\n",
    "\n",
    "- 오픈북이었다....\n",
    "- 다 써서 제출하지 못했다...\n",
    "- 하지만 최대한 써서 내려고 했다 !\n",
    "- 피드백을 살벌하게 받았다\n",
    "- 처참하게 망한 시험은 보기 싫지만 실력 증진을 위해 바로 복기 했다\n",
    "---"
   ]
  },
  {
   "cell_type": "code",
   "execution_count": 1,
   "id": "9e190509-6c06-4260-afdd-19d522e15da5",
   "metadata": {},
   "outputs": [],
   "source": [
    "# 문제 1\n",
    "# 본인 이름\n",
    "#가로 70cm, 높이 144cm의 직각삼각형이 있을 때, 빗변의 길이를 구하라"
   ]
  },
  {
   "cell_type": "markdown",
   "id": "febedc0a-c148-4850-8e31-4e16df815a76",
   "metadata": {},
   "source": [
    "-> 가로와 세로를 변수로 저장하고 빗변의 길이를 구하는 식을 정리한다\n",
    "\n",
    "직각 삼각형 빗변의 길이 구하기\n",
    "\n",
    " c = (a ** 2 + b ** 2) ** 0.5  // 루트 a제곱 + b제곱\n"
   ]
  },
  {
   "cell_type": "code",
   "execution_count": 2,
   "id": "2362807e-009a-4bea-975d-c20fac0c24b9",
   "metadata": {
    "tags": []
   },
   "outputs": [],
   "source": [
    "# 몰랐던 내용\n",
    "# 빗변의 길이 구하는 공식\n",
    "# 루트를 표현하는 방법 ( ** 0.5 )"
   ]
  },
  {
   "cell_type": "code",
   "execution_count": 3,
   "id": "97898bdf-8873-4480-af36-0fb02793bea5",
   "metadata": {
    "tags": []
   },
   "outputs": [],
   "source": [
    "a = 70\n",
    "b = 144\n",
    "\n",
    "x = (a ** 2 + b ** 2) ** 0.5"
   ]
  },
  {
   "cell_type": "code",
   "execution_count": 4,
   "id": "0cdad8ee-d867-46d3-b04e-da6152bdeec4",
   "metadata": {
    "tags": []
   },
   "outputs": [
    {
     "data": {
      "text/plain": [
       "160.11246047700348"
      ]
     },
     "execution_count": 4,
     "metadata": {},
     "output_type": "execute_result"
    }
   ],
   "source": [
    "x"
   ]
  },
  {
   "cell_type": "code",
   "execution_count": 5,
   "id": "67568173-65f3-4f88-9d57-0c449c7b49d3",
   "metadata": {},
   "outputs": [],
   "source": [
    "# 문제 2\n",
    "# a = 55.994이고, b = -75일 때, a를 일의 자릿수까지 반올림한 숫자와, b의 절댓값 중 큰 것을 구하라"
   ]
  },
  {
   "cell_type": "code",
   "execution_count": 6,
   "id": "417ed6e7-2ff0-4411-90f4-9d32ed308271",
   "metadata": {
    "tags": []
   },
   "outputs": [],
   "source": [
    "# 몰랐던 내용\n",
    "# round, abs 함수\n",
    "# 바로 생각나지 않는 if 구성"
   ]
  },
  {
   "cell_type": "code",
   "execution_count": 7,
   "id": "279de8f4-62cc-4fec-8e38-28eba61c3eb7",
   "metadata": {
    "tags": []
   },
   "outputs": [
    {
     "name": "stdout",
     "output_type": "stream",
     "text": [
      "-75\n"
     ]
    }
   ],
   "source": [
    "a = 55.994\n",
    "b = -75\n",
    "\n",
    "aa = round(a,0)\n",
    "bb = abs(b)\n",
    "\n",
    "if aa > bb:\n",
    "    print(a)\n",
    "else:\n",
    "    print(b)"
   ]
  },
  {
   "cell_type": "code",
   "execution_count": 8,
   "id": "0627a5d8-27ef-4cd4-89b5-7b5557511623",
   "metadata": {
    "tags": []
   },
   "outputs": [
    {
     "data": {
      "text/plain": [
       "56.0"
      ]
     },
     "execution_count": 8,
     "metadata": {},
     "output_type": "execute_result"
    }
   ],
   "source": [
    "aa"
   ]
  },
  {
   "cell_type": "code",
   "execution_count": 9,
   "id": "d2938018-206d-4844-bc1c-c7c159ad0b32",
   "metadata": {
    "tags": []
   },
   "outputs": [
    {
     "data": {
      "text/plain": [
       "75"
      ]
     },
     "execution_count": 9,
     "metadata": {},
     "output_type": "execute_result"
    }
   ],
   "source": [
    "bb"
   ]
  },
  {
   "cell_type": "code",
   "execution_count": 10,
   "id": "573437df-399a-441e-b093-13501caca298",
   "metadata": {
    "tags": []
   },
   "outputs": [],
   "source": [
    "# 문제 3\n",
    "#lorem의 400번째 자리 글자를 출력하라"
   ]
  },
  {
   "cell_type": "code",
   "execution_count": 11,
   "id": "a59573e8-0be2-435d-9d76-69b118f141a5",
   "metadata": {
    "tags": []
   },
   "outputs": [],
   "source": [
    "lorem = '''There are many variations of passages of Lorem Ipsum available, but the majority have suffered alteration in some form, by injected humour, or randomised words which don't look even slightly believable. If you are going to use a passage of Lorem Ipsum, you need to be sure there isn't anything embarrassing hidden in the middle of text. All the Lorem Ipsum generators on the Internet tend to repeat predefined chunks as necessary, making this the first true generator on the Internet. It uses a dictionary of over 200 Latin words, combined with a handful of model sentence structures, to generate Lorem Ipsum which looks reasonable. The generated Lorem Ipsum is therefore always free from repetition, injected humour, or non-characteristic words etc.'''"
   ]
  },
  {
   "cell_type": "code",
   "execution_count": 12,
   "id": "e8d64461-c32b-4bec-ae0e-5935df6d509d",
   "metadata": {
    "tags": []
   },
   "outputs": [],
   "source": [
    "# 몰랐던 내용\n",
    "# 바로 떠오르지 않는 해결 방법\n",
    "# 한 글자만 가져오는 방법(슬라이싱을 완벽히 숙지를 못했다. 하면 할수록 헷갈려 ㅠ)"
   ]
  },
  {
   "cell_type": "code",
   "execution_count": 13,
   "id": "6bccb011-3151-49dc-b5c7-6a85b74aff68",
   "metadata": {
    "tags": []
   },
   "outputs": [
    {
     "data": {
      "text/plain": [
       "'p'"
      ]
     },
     "execution_count": 13,
     "metadata": {},
     "output_type": "execute_result"
    }
   ],
   "source": [
    "lorem[399]"
   ]
  },
  {
   "cell_type": "code",
   "execution_count": 14,
   "id": "034a4285-3a7f-4acb-9e3b-e8f038342440",
   "metadata": {
    "tags": []
   },
   "outputs": [],
   "source": [
    "# 문제 4\n",
    "# lorem의 뒤에서 3번째부터 뒤에서 99번째까지의 글자를 순서대로 출력하라"
   ]
  },
  {
   "cell_type": "code",
   "execution_count": 15,
   "id": "8d57bfee-1417-415a-b89d-64a48246588a",
   "metadata": {
    "tags": []
   },
   "outputs": [],
   "source": [
    "# 몰랐던 내용\n",
    "# 보통 n번째 -1 이어서 99가 아니라 100이었는데.... 그냥 생각없이 99를 넣었다\n",
    "# 순서대로 - 라는 의미가 역순 그대로 출력하라는 건가? 아니면 다시 원래대로 가져오라는 건가>"
   ]
  },
  {
   "cell_type": "code",
   "execution_count": 16,
   "id": "ad7b5005-cf7a-4b54-9ae2-028f49aa4180",
   "metadata": {
    "tags": []
   },
   "outputs": [
    {
     "data": {
      "text/plain": [
       "'m Ipsum is therefore always free from repetition, injected humour, or non-characteristic words et'"
      ]
     },
     "execution_count": 16,
     "metadata": {},
     "output_type": "execute_result"
    }
   ],
   "source": [
    "ss = lorem[-3:-100:-1]\n",
    "ss[::-1]"
   ]
  },
  {
   "cell_type": "code",
   "execution_count": 17,
   "id": "4300c937-6c40-4359-8206-78ff0f74e7e9",
   "metadata": {
    "tags": []
   },
   "outputs": [],
   "source": [
    "#문제 5\n",
    "#lorem의 글자 중 27번째 글자를 대문자로 바꾸어라"
   ]
  },
  {
   "cell_type": "code",
   "execution_count": 18,
   "id": "6b7af43b-59b0-488b-a5d7-64e68e9ad2bc",
   "metadata": {
    "tags": []
   },
   "outputs": [],
   "source": [
    "#몰랐던 내용\n",
    "# 바로바로 떠오르지 않는 함수\n",
    "#re를 써야하나? 내장함수를 써야하나? 감이 잘 안잡힘"
   ]
  },
  {
   "cell_type": "code",
   "execution_count": 19,
   "id": "d46607e5-1bda-4b10-a176-f895f9c89893",
   "metadata": {
    "tags": []
   },
   "outputs": [],
   "source": [
    "ch = lorem[:25] + ' O' + lorem[27:] # 0부터 26번째 문자까지 가져옴 + ' O' 집어넣음 + 28번째 문자 가져오기"
   ]
  },
  {
   "cell_type": "code",
   "execution_count": 20,
   "id": "d825ad6f-c45a-4301-97d3-deecfd678b8c",
   "metadata": {
    "tags": []
   },
   "outputs": [
    {
     "data": {
      "text/plain": [
       "\"There are many variations Of passages of Lorem Ipsum available, but the majority have suffered alteration in some form, by injected humour, or randomised words which don't look even slightly believable. If you are going to use a passage of Lorem Ipsum, you need to be sure there isn't anything embarrassing hidden in the middle of text. All the Lorem Ipsum generators on the Internet tend to repeat predefined chunks as necessary, making this the first true generator on the Internet. It uses a dictionary of over 200 Latin words, combined with a handful of model sentence structures, to generate Lorem Ipsum which looks reasonable. The generated Lorem Ipsum is therefore always free from repetition, injected humour, or non-characteristic words etc.\""
      ]
     },
     "execution_count": 20,
     "metadata": {},
     "output_type": "execute_result"
    }
   ],
   "source": [
    "ch"
   ]
  },
  {
   "cell_type": "code",
   "execution_count": null,
   "id": "44a0bd81-6d1c-48bd-b2eb-c1ab2c37a26c",
   "metadata": {},
   "outputs": [],
   "source": [
    "# 민아 답지\n",
    "print(lorem[26].upper())"
   ]
  },
  {
   "cell_type": "code",
   "execution_count": 21,
   "id": "8cf7e368-26da-4811-b103-ec5dd88d8fb0",
   "metadata": {
    "tags": []
   },
   "outputs": [],
   "source": [
    "# 문제 6\n",
    "# lorem의 모든 띄어쓰기를 제거해 lorem2 변수로 저장하라"
   ]
  },
  {
   "cell_type": "code",
   "execution_count": 22,
   "id": "29d04b4e-5355-44ff-896c-6f3258528899",
   "metadata": {
    "tags": []
   },
   "outputs": [],
   "source": [
    "#몰랐던 내용\n",
    "#replace를 써야하는 것은 알지만 정확한 사용법이 숙지가 안됨"
   ]
  },
  {
   "cell_type": "code",
   "execution_count": 23,
   "id": "f06f6854-0ab6-4521-83c3-0588af7c6226",
   "metadata": {
    "tags": []
   },
   "outputs": [],
   "source": [
    "lorem2 = lorem.replace(\" \", \"\")"
   ]
  },
  {
   "cell_type": "code",
   "execution_count": 24,
   "id": "f5445c83-7bc0-477e-8427-b4e29c874799",
   "metadata": {
    "tags": []
   },
   "outputs": [],
   "source": [
    "# 문제 7\n",
    "# lorem의 값을 -(하이픈)을 기준으로 나누어라"
   ]
  },
  {
   "cell_type": "code",
   "execution_count": 25,
   "id": "488b2e0f-f1a6-47ed-b162-e85c367751a5",
   "metadata": {
    "tags": []
   },
   "outputs": [],
   "source": [
    "#몰랐던 내용\n",
    "# 대충 이런 함수가 있다는 건 알지만 머릿속에서 바로 떠오르지 않음"
   ]
  },
  {
   "cell_type": "code",
   "execution_count": 26,
   "id": "077d9942-0841-42a6-b2ff-4eb4c2909dd0",
   "metadata": {
    "tags": []
   },
   "outputs": [
    {
     "data": {
      "text/plain": [
       "[\"There are many variations of passages of Lorem Ipsum available, but the majority have suffered alteration in some form, by injected humour, or randomised words which don't look even slightly believable. If you are going to use a passage of Lorem Ipsum, you need to be sure there isn't anything embarrassing hidden in the middle of text. All the Lorem Ipsum generators on the Internet tend to repeat predefined chunks as necessary, making this the first true generator on the Internet. It uses a dictionary of over 200 Latin words, combined with a handful of model sentence structures, to generate Lorem Ipsum which looks reasonable. The generated Lorem Ipsum is therefore always free from repetition, injected humour, or non\",\n",
       " 'characteristic words etc.']"
      ]
     },
     "execution_count": 26,
     "metadata": {},
     "output_type": "execute_result"
    }
   ],
   "source": [
    "lorem.split('-')"
   ]
  },
  {
   "cell_type": "code",
   "execution_count": 27,
   "id": "f6ea9c41-a377-4437-9735-4c762ff2a73e",
   "metadata": {
    "tags": []
   },
   "outputs": [],
   "source": [
    "# 문제 8\n",
    "# 100 < x < 806 범위 안에서, x가 홀수일 때 x의 합을 구하라"
   ]
  },
  {
   "cell_type": "code",
   "execution_count": 28,
   "id": "cb486537-217f-405f-bcf5-861dbbb16ae9",
   "metadata": {
    "tags": []
   },
   "outputs": [],
   "source": [
    "# 몰랐던 내용\n",
    "# 함수를 어떻게 짜여하는지 감이 안잡힌다.... 바로 나오지 않고 생각을 많이 거쳐야 함\n",
    "# for 반복문의 스타일, 들여쓰기의 위치 파악이 안됨"
   ]
  },
  {
   "cell_type": "code",
   "execution_count": 29,
   "id": "f667bf31-3803-4c2d-96d5-d9948ae37a23",
   "metadata": {
    "tags": []
   },
   "outputs": [
    {
     "name": "stdout",
     "output_type": "stream",
     "text": [
      "159909\n"
     ]
    }
   ],
   "source": [
    "y = 0\n",
    "for x in range(100, 806):\n",
    "    if x % 2 != 0:\n",
    "        y += x\n",
    "print (y)"
   ]
  },
  {
   "cell_type": "code",
   "execution_count": 30,
   "id": "8555041a-2ba4-440e-846e-2f9ad923ba8c",
   "metadata": {
    "tags": []
   },
   "outputs": [],
   "source": [
    "# 문제 9\n",
    "# lorem2를 짝수 줄만 출력하라"
   ]
  },
  {
   "cell_type": "code",
   "execution_count": 31,
   "id": "7e14733c-1a21-4faf-b954-7a268b501ade",
   "metadata": {
    "tags": []
   },
   "outputs": [],
   "source": [
    "# 모르는 내용\n",
    "# 이건... 사실 봐도 봐도 모르겠다 ㅠ"
   ]
  },
  {
   "cell_type": "code",
   "execution_count": 32,
   "id": "dafaf64b-edc6-44a8-9cc0-6f104e2d268f",
   "metadata": {
    "tags": []
   },
   "outputs": [],
   "source": [
    "# 모르면 이해해야지 !\n",
    "# 내가 제출한 내용 : \n",
    "# 개행문자로 나뉜 lorem2를 새로운 변수 l에 저장\n",
    "# 새로운 변수를 슬라이싱 [첫 번째 부터 : : 2단계씩 건너뛰게 ] < 짝수 라인\n",
    "# for 반복문으로 l 전체를 돌아 홀수 라인을 발행\n",
    "\n",
    "#민아가 제출한 내용\n",
    "# lorem2.splitlines() << 개행문자를 기준으로 분리하여 리스트로 반환하는 함수"
   ]
  },
  {
   "cell_type": "code",
   "execution_count": 35,
   "id": "af804440-6b55-4fb2-a74f-c8afdb292432",
   "metadata": {
    "tags": []
   },
   "outputs": [],
   "source": [
    "l = lorem2.split('\\n')\n",
    "ll = l[1::2]\n",
    "\n",
    "for l in ll:\n",
    "    print(f'lorem2를 짝수 줄만 출력한 결과는 {l} 입니다')"
   ]
  },
  {
   "cell_type": "code",
   "execution_count": 36,
   "id": "786976b8-06ce-4cc2-8301-f46f52a71eab",
   "metadata": {
    "tags": []
   },
   "outputs": [
    {
     "name": "stdout",
     "output_type": "stream",
     "text": [
      "[]\n"
     ]
    }
   ],
   "source": [
    "print(lorem2.splitlines()[1::2])"
   ]
  },
  {
   "cell_type": "code",
   "execution_count": 37,
   "id": "c6490fe9-e371-4ab4-9a65-d695619aa0b0",
   "metadata": {
    "tags": []
   },
   "outputs": [],
   "source": [
    "# 문제 10\n",
    "# pdm에서 통계사업번호를 20230116으로 변경해 pdm2로 저장하라. 이 때, pdm은 주어진 값에서 변경이 없어야 한다."
   ]
  },
  {
   "cell_type": "code",
   "execution_count": null,
   "id": "9f116504-6164-45d1-a949-cb246d2bc03e",
   "metadata": {
    "tags": []
   },
   "outputs": [],
   "source": [
    "# 몰랐던 내용\n",
    "# 값만 따로 저장하는 방법????\n",
    "# 주어진 값에서 변경이 없어야 한다는 건 무슨 의미지?\n",
    "# ㅋㅋㅋㅋㅋㅋㅋㅋㅋㅋㅋ 나는 그냥 전체를 바꿔버렸던거임~~~~!!!"
   ]
  },
  {
   "cell_type": "code",
   "execution_count": 38,
   "id": "aac6af73-1cd6-4a02-a3b3-6d1808395a12",
   "metadata": {
    "tags": []
   },
   "outputs": [],
   "source": [
    "pdm = {\"통계사업번호\" : \"2015140319032\",\n",
    "\t\t\"사업명\" : \"캄보디아 노인자조모임 지원 및 연합회 설립을 통한 캄보디아 노인의 빈곤퇴치와 건강증진 (2015-20171,037백만원CPP한국헬프에이지Phase2)\",\n",
    "\t\t\"PDM수직단계\" : \"summary\",\n",
    "\t\t\"PDM목차번호\" : \"0\",\n",
    "\t\t\"PDM목차세부번호\" : \"1\",\n",
    "\t\t\"PDM성과지표\" : \"개요\",\n",
    "\t\t\"연차\" : \"\",\n",
    "\t\t\"내용\" : \"※대표 수혜자 지표(지표명\\/측정 성과): 현재 자조모임 회원 가입 수\\/ 총 4,279명\"}"
   ]
  },
  {
   "cell_type": "code",
   "execution_count": 39,
   "id": "bd5d54e0-c298-4583-b10a-ad0f7f68a491",
   "metadata": {
    "tags": []
   },
   "outputs": [],
   "source": [
    "pdm2 = pdm"
   ]
  },
  {
   "cell_type": "code",
   "execution_count": 40,
   "id": "5f7f2c39-0084-4aad-a9bd-bf30afa6f99e",
   "metadata": {
    "tags": []
   },
   "outputs": [],
   "source": [
    "pdm2['통계사업번호'] = \"20230116\""
   ]
  },
  {
   "cell_type": "code",
   "execution_count": 41,
   "id": "5da92fc8-8579-4320-884a-1dced71df0eb",
   "metadata": {
    "tags": []
   },
   "outputs": [
    {
     "data": {
      "text/plain": [
       "{'통계사업번호': '20230116',\n",
       " '사업명': '캄보디아 노인자조모임 지원 및 연합회 설립을 통한 캄보디아 노인의 빈곤퇴치와 건강증진 (2015-20171,037백만원CPP한국헬프에이지Phase2)',\n",
       " 'PDM수직단계': 'summary',\n",
       " 'PDM목차번호': '0',\n",
       " 'PDM목차세부번호': '1',\n",
       " 'PDM성과지표': '개요',\n",
       " '연차': '',\n",
       " '내용': '※대표 수혜자 지표(지표명\\\\/측정 성과): 현재 자조모임 회원 가입 수\\\\/ 총 4,279명'}"
      ]
     },
     "execution_count": 41,
     "metadata": {},
     "output_type": "execute_result"
    }
   ],
   "source": [
    "pdm2"
   ]
  },
  {
   "cell_type": "code",
   "execution_count": 42,
   "id": "1ad23789-9a21-4cd0-ad0d-02ccbe4db9ff",
   "metadata": {
    "tags": []
   },
   "outputs": [],
   "source": [
    "#문제 11\n",
    "# pdm의 value를 차례대로 출력하라"
   ]
  },
  {
   "cell_type": "code",
   "execution_count": 43,
   "id": "5d8f2df2-1eb6-4b60-9726-904704b0962f",
   "metadata": {
    "tags": []
   },
   "outputs": [],
   "source": [
    "# 몰랐던 내용\n",
    "#나는 그냥... value 자체를 몰랐던거다...\n",
    "#근데... 그 값만 추출하는 법도 모른다는거다...."
   ]
  },
  {
   "cell_type": "code",
   "execution_count": 45,
   "id": "536b41af-7820-42cb-b288-59d6e1ce5536",
   "metadata": {
    "tags": []
   },
   "outputs": [
    {
     "name": "stdout",
     "output_type": "stream",
     "text": [
      "20230116\n",
      "캄보디아 노인자조모임 지원 및 연합회 설립을 통한 캄보디아 노인의 빈곤퇴치와 건강증진 (2015-20171,037백만원CPP한국헬프에이지Phase2)\n",
      "summary\n",
      "0\n",
      "1\n",
      "개요\n",
      "\n",
      "※대표 수혜자 지표(지표명\\/측정 성과): 현재 자조모임 회원 가입 수\\/ 총 4,279명\n"
     ]
    }
   ],
   "source": [
    "for i in pdm.values():\n",
    "    print(i)"
   ]
  },
  {
   "cell_type": "code",
   "execution_count": 46,
   "id": "1a37da1c-344c-4c8d-80aa-0b1bc70760c0",
   "metadata": {
    "tags": []
   },
   "outputs": [],
   "source": [
    "# 문제 12\n",
    "# gene에서 A의 개수를 출력하라"
   ]
  },
  {
   "cell_type": "code",
   "execution_count": null,
   "id": "589e719a-3d4a-45f5-8d61-509fe199229f",
   "metadata": {},
   "outputs": [],
   "source": [
    "# 이건 그래도 좀 자신 있었음!\n",
    "# 근데 개수에서 막혔음 엌\n",
    "# 민아처럼 변수로 저장하지 않고 한 줄에 깔끔하게 쓰는 방식을 연습하자!"
   ]
  },
  {
   "cell_type": "code",
   "execution_count": 49,
   "id": "c5198a1f-48e2-4ac6-a351-7cef4a40accf",
   "metadata": {
    "tags": []
   },
   "outputs": [],
   "source": [
    "gene = 'ACAACTATGCATACTATCGGGAACTATCCT'"
   ]
  },
  {
   "cell_type": "code",
   "execution_count": 50,
   "id": "1ae73f0f-608a-40d5-8684-788a9aba056b",
   "metadata": {
    "tags": []
   },
   "outputs": [],
   "source": [
    "import re"
   ]
  },
  {
   "cell_type": "code",
   "execution_count": 52,
   "id": "94e3a265-9746-4f60-bffa-2ce73d96a46c",
   "metadata": {
    "tags": []
   },
   "outputs": [],
   "source": [
    "g1 = re.findall('A', gene)"
   ]
  },
  {
   "cell_type": "code",
   "execution_count": 53,
   "id": "13b26faf-8fb6-419e-ab8d-aec654380729",
   "metadata": {
    "tags": []
   },
   "outputs": [],
   "source": [
    "ct = len(g1)"
   ]
  },
  {
   "cell_type": "code",
   "execution_count": 1,
   "id": "454c047b-aa9b-4c8a-8bd4-4f0be252a1ee",
   "metadata": {
    "tags": []
   },
   "outputs": [
    {
     "name": "stdout",
     "output_type": "stream",
     "text": [
      "10\n"
     ]
    }
   ],
   "source": [
    "import re\n",
    "gene = 'ACAACTATGCATACTATCGGGAACTATCCT'\n",
    "print(len(re.findall('A', gene)))    \n",
    "# findall을 이용해 gene의 A를 모두 list형태로 가져와 len을 이용해 리스트의 길이를 계산하는 방식으로 A의 개수 출력"
   ]
  },
  {
   "cell_type": "code",
   "execution_count": 56,
   "id": "1d3a1899-3aff-4789-984e-9f4ab6749ed2",
   "metadata": {
    "tags": []
   },
   "outputs": [],
   "source": [
    "#문제 13\n",
    "#gene에서 ACTAT라는 패턴의 개수를 출력하라"
   ]
  },
  {
   "cell_type": "code",
   "execution_count": 57,
   "id": "7f359d68-05cc-4627-8f5c-d35377de7434",
   "metadata": {
    "tags": []
   },
   "outputs": [
    {
     "name": "stdout",
     "output_type": "stream",
     "text": [
      "3\n"
     ]
    }
   ],
   "source": [
    "print(len(re.findall(\"ACTAT\",gene)))"
   ]
  },
  {
   "cell_type": "code",
   "execution_count": 58,
   "id": "071d4fce-52fe-429d-b2ff-8f360d5bfc69",
   "metadata": {
    "tags": []
   },
   "outputs": [],
   "source": [
    "#문제 14 - 16 ([문제 14~16] 의 풀이는 test2.csv 파일로 저장될 수 있게 하라)\n",
    "#문제 14 test.csv 파일의 Age의 값에 모두 102를 더해 저장하라\n",
    "#문제 15 test.csv 파일의 Sex를 아래와 같이 분류해 저장하라\n",
    "#        ◦ 남성 → 0, 여성 → 1\n",
    "#문제 16 test.csv 파일에서 Fare의 평균값을 구한 뒤, 평균 이상인 그룹을 확인할 수 있도록 fare_high column을 만들어라"
   ]
  },
  {
   "cell_type": "code",
   "execution_count": 59,
   "id": "12c3e45b-6d80-4ee5-ae05-e47b3e36b2a7",
   "metadata": {
    "tags": []
   },
   "outputs": [],
   "source": [
    "#몰랐던 내용\n",
    "#솔직히 문제 14번 부터 마지막까지는 멘붕 그자체였다 젠장\n",
    "# 특히 16번은 지금도 뭔소린지 모르겠다 멍멍 뫄뫄 왈왈"
   ]
  },
  {
   "cell_type": "code",
   "execution_count": 60,
   "id": "f757ded4-8f01-4668-9d39-c1aa3a7a3af5",
   "metadata": {
    "tags": []
   },
   "outputs": [],
   "source": [
    "import pandas as pd"
   ]
  },
  {
   "cell_type": "code",
   "execution_count": 61,
   "id": "e41189de-48b1-4626-afbe-d4a0a6889baf",
   "metadata": {
    "tags": []
   },
   "outputs": [],
   "source": [
    "import numpy as np"
   ]
  },
  {
   "cell_type": "code",
   "execution_count": 118,
   "id": "a7520ce3-3111-483f-b74e-8e2aabe9c9b9",
   "metadata": {
    "tags": []
   },
   "outputs": [],
   "source": [
    "df = pd.read_csv(\"C:/Users/BIG3-05/Downloads/test.csv\")"
   ]
  },
  {
   "cell_type": "code",
   "execution_count": 119,
   "id": "797d0a6b-8448-465a-98a9-43c7404964ce",
   "metadata": {
    "tags": []
   },
   "outputs": [],
   "source": [
    "df['Age'] = df['Age'].apply(lambda x: x + 102)"
   ]
  },
  {
   "cell_type": "code",
   "execution_count": 120,
   "id": "4f9fb8df-db3c-4b23-a56c-44e3e1cc0977",
   "metadata": {
    "tags": []
   },
   "outputs": [],
   "source": [
    "#문제 15 test.csv 파일의 Sex를 아래와 같이 분류해 저장하라\n",
    "#        ◦ 남성 → 0, 여성 → 1"
   ]
  },
  {
   "cell_type": "code",
   "execution_count": 121,
   "id": "f370b6df-fa05-4a87-aad7-800c87262fb2",
   "metadata": {
    "tags": []
   },
   "outputs": [],
   "source": [
    "df['Sex'] = df['Sex'].apply(lambda x: 0 if x == 'male' else '1')"
   ]
  },
  {
   "cell_type": "code",
   "execution_count": 122,
   "id": "2bec389e-b0bd-4d94-b419-f25c4a6ec669",
   "metadata": {
    "tags": []
   },
   "outputs": [],
   "source": [
    "#문제 16 test.csv 파일에서 Fare의 평균값을 구한 뒤, 평균 이상인 그룹을 확인할 수 있도록 fare_high column을 만들어라"
   ]
  },
  {
   "cell_type": "code",
   "execution_count": 123,
   "id": "8336ee59-672d-4aec-be38-a63e03105d9e",
   "metadata": {
    "tags": []
   },
   "outputs": [],
   "source": [
    "df['fare_high column'] = df['Fare'].mean()"
   ]
  },
  {
   "cell_type": "code",
   "execution_count": 124,
   "id": "66a33d09-8eee-4b1b-9caf-601ff5f4d5c9",
   "metadata": {
    "tags": []
   },
   "outputs": [],
   "source": [
    "# 문제 17\n",
    "#Passengerid가 아래와 같은 사람의 이름을 출력하라\n",
    "#◦ 901, 925, 950, 951, 952, 1026, 1028, 1039, 1040, 1106"
   ]
  },
  {
   "cell_type": "code",
   "execution_count": 125,
   "id": "074e17a8-0569-4d1d-ba9e-201f182ccc13",
   "metadata": {
    "tags": []
   },
   "outputs": [],
   "source": [
    "#몰랐던 내용\n",
    "#뭔가 알것 같은데... 배웠던 것 같은데 헷갈린다 ㅠ"
   ]
  },
  {
   "cell_type": "code",
   "execution_count": 126,
   "id": "82927664-8d55-433f-bf3f-19270e7820b9",
   "metadata": {
    "tags": []
   },
   "outputs": [
    {
     "name": "stdout",
     "output_type": "stream",
     "text": [
      "Davies, Mr. John Samuel\n",
      "Johnston, Mrs. Andrew G (Elizabeth Lily\" Watson)\"\n",
      "Davison, Mr. Thomas Henry\n",
      "Chaudanson, Miss. Victorine\n",
      "Dika, Mr. Mirko\n",
      "Dintcheff, Mr. Valtcho\n",
      "Zakarian, Mr. Mapriededer\n",
      "Davies, Mr. Evan\n",
      "Crafton, Mr. John Bertram\n",
      "Andersson, Miss. Ida Augusta Margareta\n"
     ]
    }
   ],
   "source": [
    "arr = [901, 925, 950, 951, 952, 1026, 1028, 1039, 1040, 1106]\n",
    "f_df = df[df['PassengerId'].isin(arr)]\n",
    "r_names = f_df['Name'].tolist()\n",
    "for i in r_names:\n",
    "    print(i)"
   ]
  },
  {
   "cell_type": "code",
   "execution_count": 127,
   "id": "43c4ccb4-2906-4b6b-b29d-92a014744c1a",
   "metadata": {
    "tags": []
   },
   "outputs": [],
   "source": [
    "#문제 18\n",
    "#SibSp가 0인 그룹과 1 이상인 그룹 사이에 Fare의 차이가 있는지 통계적으로 확인하라"
   ]
  },
  {
   "cell_type": "code",
   "execution_count": 128,
   "id": "fbd20c92-94c9-4686-9f58-26ce1db21cac",
   "metadata": {
    "tags": []
   },
   "outputs": [],
   "source": [
    "sib = df\n",
    "sib['SibSp'] = sib['SibSp'].apply(lambda x : 1 if x > 0 else 0)"
   ]
  },
  {
   "cell_type": "code",
   "execution_count": 129,
   "id": "8531ef43-b776-41d0-b8b5-3fe4d5d20ea7",
   "metadata": {
    "tags": []
   },
   "outputs": [],
   "source": [
    "import matplotlib.pyplot as plt\n",
    "import matplotlib as mpl\n",
    "plt.rc('font', family='Malgun Gothic')\n",
    "mpl.rcParams['axes.unicode_minus'] = False"
   ]
  },
  {
   "cell_type": "code",
   "execution_count": 130,
   "id": "2cfc281b-aa64-49c0-91dc-40088785c954",
   "metadata": {
    "tags": []
   },
   "outputs": [
    {
     "data": {
      "text/plain": [
       "Text(0.5, 1.0, 'SibSp에 따른 Fare 차이 비교')"
      ]
     },
     "execution_count": 130,
     "metadata": {},
     "output_type": "execute_result"
    },
    {
     "data": {
      "image/png": "[encoded data removed]",
      "text/plain": [
       "<Figure size 640x480 with 1 Axes>"
      ]
     },
     "metadata": {},
     "output_type": "display_data"
    }
   ],
   "source": [
    "fig, ax = plt.subplots()\n",
    "ax.bar(df['SibSp'],df['Fare'])\n",
    "ax.set_ylabel('Fare')\n",
    "ax.set_xlabel('SibSp')\n",
    "ax.set_title('SibSp에 따른 Fare 차이 비교')"
   ]
  },
  {
   "cell_type": "code",
   "execution_count": 131,
   "id": "1830bb69-3b6c-4d4d-aa13-69cf60bdbcdf",
   "metadata": {
    "tags": []
   },
   "outputs": [],
   "source": [
    "#문제 19\n",
    "#test.csv 파일에서 숫자 데이터 (int, float 자료형) 로 이루어진 column과 문자 데이터로 이루어진 column을 서로 확인할 수 있는 함수를 작성하라"
   ]
  },
  {
   "cell_type": "code",
   "execution_count": 132,
   "id": "88ed5a33-40a1-4441-8bff-a215845ec352",
   "metadata": {
    "tags": []
   },
   "outputs": [
    {
     "name": "stdout",
     "output_type": "stream",
     "text": [
      "이 column은 숫자 데이터입니다\n"
     ]
    }
   ],
   "source": [
    "def check_type(data):\n",
    "    if data.dtypes == 'object':\n",
    "        print('이 column은 문자 데이터입니다')\n",
    "    else:\n",
    "        print('이 column은 숫자 데이터입니다')\n",
    "check_type(df['Age'])"
   ]
  },
  {
   "cell_type": "code",
   "execution_count": 133,
   "id": "79b3d238-a82d-49ab-9743-1706714932d7",
   "metadata": {
    "tags": []
   },
   "outputs": [],
   "source": [
    "#문제 20\n",
    "#Age가 짝수인 경우 1, 홀수인 경우 0으로 반환하는 함수를 작성하라 (0은 짝수로 간주하며, 정수가 아닌 경우 임의로 처리한다)"
   ]
  },
  {
   "cell_type": "code",
   "execution_count": 134,
   "id": "86c41a90-069c-4874-a2da-95aa5e3f1938",
   "metadata": {
    "tags": []
   },
   "outputs": [
    {
     "data": {
      "text/plain": [
       "0"
      ]
     },
     "execution_count": 134,
     "metadata": {},
     "output_type": "execute_result"
    }
   ],
   "source": [
    "def check_age(age):\n",
    "    if round(age) % 2 == 0:\n",
    "        return 1\n",
    "    else:\n",
    "        return 0\n",
    "check_age(df['Age'][1])"
   ]
  },
  {
   "cell_type": "code",
   "execution_count": 138,
   "id": "f721a028-fe3b-4ba8-bbd3-da036982bfbf",
   "metadata": {
    "tags": []
   },
   "outputs": [],
   "source": [
    "def check_age(age):\n",
    "    if not isinstance(age, (int, float)):\n",
    "        return \"Invalid input. Age should be a numeric value.\"\n",
    "\n",
    "    rounded_age = round(age)\n",
    "    if rounded_age % 2 == 0:\n",
    "        return 1\n",
    "    else:\n",
    "        return 0"
   ]
  },
  {
   "cell_type": "code",
   "execution_count": null,
   "id": "5daf5a7e-bcba-4220-8d74-a9e59c96bc42",
   "metadata": {},
   "outputs": [],
   "source": []
  }
 ],
 "metadata": {
  "kernelspec": {
   "display_name": "Python 3 (ipykernel)",
   "language": "python",
   "name": "python3"
  },
  "language_info": {
   "codemirror_mode": {
    "name": "ipython",
    "version": 3
   },
   "file_extension": ".py",
   "mimetype": "text/x-python",
   "name": "python",
   "nbconvert_exporter": "python",
   "pygments_lexer": "ipython3",
   "version": "3.11.5"
  }
 },
 "nbformat": 4,
 "nbformat_minor": 5
}
