{
 "cells": [
  {
   "cell_type": "markdown",
   "id": "14fadd83",
   "metadata": {},
   "source": [
    "---\n",
    "# 둘째 날\n",
    "- 아직 어색하지만 재미있는 파이썬\n",
    "---"
   ]
  },
  {
   "cell_type": "markdown",
   "id": "3390dc54",
   "metadata": {},
   "source": [
    "---\n",
    "# for 문\n",
    "- 정말정말 많이쓰고\n",
    "- 한번 이해하면 정말 두고두고 좋은\n",
    "- 처음 배울 때 아예 체득해야함 !!!!!!\n",
    "- ---"
   ]
  },
  {
   "cell_type": "code",
   "execution_count": 1,
   "id": "f39bfbb9",
   "metadata": {},
   "outputs": [
    {
     "name": "stdout",
     "output_type": "stream",
     "text": [
      "123\n",
      "456\n",
      "789\n",
      "123\n",
      "456\n",
      "789\n",
      "123\n",
      "456\n",
      "789\n",
      "123\n",
      "456\n",
      "789\n",
      "123\n",
      "456\n",
      "789\n"
     ]
    }
   ],
   "source": [
    "for i in range(1,6):\n",
    "    print(123)\n",
    "    print(456)\n",
    "    print(789)"
   ]
  },
  {
   "cell_type": "code",
   "execution_count": 1,
   "id": "e337f004",
   "metadata": {},
   "outputs": [
    {
     "ename": "IndentationError",
     "evalue": "expected an indented block after 'for' statement on line 1 (2842476430.py, line 2)",
     "output_type": "error",
     "traceback": [
      "\u001b[1;36m  Cell \u001b[1;32mIn[1], line 2\u001b[1;36m\u001b[0m\n\u001b[1;33m    print(i)\u001b[0m\n\u001b[1;37m    ^\u001b[0m\n\u001b[1;31mIndentationError\u001b[0m\u001b[1;31m:\u001b[0m expected an indented block after 'for' statement on line 1\n"
     ]
    }
   ],
   "source": [
    "for i in range(1,5):\n",
    "print(i)\n",
    "    print(i+1) # 줄을 잘 맞춰야 하는 것이 for 문의 기본!"
   ]
  },
  {
   "cell_type": "code",
   "execution_count": 2,
   "id": "5dcd446d",
   "metadata": {},
   "outputs": [
    {
     "name": "stdout",
     "output_type": "stream",
     "text": [
      "1\n",
      "2\n",
      "3\n",
      "4\n",
      "5\n"
     ]
    }
   ],
   "source": [
    "for i in range(1,5):\n",
    "    print(i)\n",
    "print(i+1)"
   ]
  },
  {
   "cell_type": "code",
   "execution_count": 3,
   "id": "709a35cb",
   "metadata": {},
   "outputs": [
    {
     "name": "stdout",
     "output_type": "stream",
     "text": [
      "1\n",
      "2\n",
      "2\n",
      "3\n",
      "3\n",
      "4\n",
      "4\n",
      "5\n"
     ]
    }
   ],
   "source": [
    "for i in range(1,5):\n",
    "    print(i)\n",
    "    print(i+1)"
   ]
  },
  {
   "cell_type": "code",
   "execution_count": 4,
   "id": "128c6217",
   "metadata": {
    "scrolled": true,
    "tags": []
   },
   "outputs": [
    {
     "name": "stdout",
     "output_type": "stream",
     "text": [
      "9\n",
      "8\n",
      "4\n",
      "1\n"
     ]
    }
   ],
   "source": [
    "for i in [9,8,4,1]:\n",
    "    print(i)"
   ]
  },
  {
   "cell_type": "markdown",
   "id": "cda45984",
   "metadata": {},
   "source": [
    "---\n",
    "list와 range\n",
    "\n",
    "---"
   ]
  },
  {
   "cell_type": "code",
   "execution_count": 5,
   "id": "4d8ff7cd",
   "metadata": {
    "tags": []
   },
   "outputs": [
    {
     "data": {
      "text/plain": [
       "[2, 4, 6, 8, 10]"
      ]
     },
     "execution_count": 5,
     "metadata": {},
     "output_type": "execute_result"
    }
   ],
   "source": [
    "list(range(2,11,2))"
   ]
  },
  {
   "cell_type": "code",
   "execution_count": 6,
   "id": "ea11e3fc",
   "metadata": {},
   "outputs": [
    {
     "data": {
      "text/plain": [
       "[0, 1, 2, 3, 4, 5, 6, 7, 8, 9]"
      ]
     },
     "execution_count": 6,
     "metadata": {},
     "output_type": "execute_result"
    }
   ],
   "source": [
    "list(range(10))"
   ]
  },
  {
   "cell_type": "code",
   "execution_count": 7,
   "id": "0bca7ac5",
   "metadata": {},
   "outputs": [
    {
     "data": {
      "text/plain": [
       "[]"
      ]
     },
     "execution_count": 7,
     "metadata": {},
     "output_type": "execute_result"
    }
   ],
   "source": [
    "list(range(10,2)) # 10 부터 2 사이는 없겠죠?"
   ]
  },
  {
   "cell_type": "code",
   "execution_count": null,
   "id": "75f043ea",
   "metadata": {
    "tags": []
   },
   "outputs": [],
   "source": [
    "#list(range(stop=10,step=2))"
   ]
  },
  {
   "cell_type": "code",
   "execution_count": 8,
   "id": "1cba7b2a",
   "metadata": {},
   "outputs": [
    {
     "data": {
      "text/plain": [
       "[1, 3, 5, 7, 9]"
      ]
     },
     "execution_count": 8,
     "metadata": {},
     "output_type": "execute_result"
    }
   ],
   "source": [
    "list(range(1,10,2)) # 1부터 10 까지, 2 step씩"
   ]
  },
  {
   "cell_type": "code",
   "execution_count": 9,
   "id": "54d49d03",
   "metadata": {
    "scrolled": true
   },
   "outputs": [
    {
     "name": "stdout",
     "output_type": "stream",
     "text": [
      "2\n",
      "4\n",
      "6\n",
      "8\n",
      "10\n",
      "12\n",
      "14\n",
      "16\n",
      "18\n",
      "20\n",
      "22\n",
      "24\n"
     ]
    }
   ],
   "source": [
    "for i in range(2,26,2):\n",
    "    print(i)"
   ]
  },
  {
   "cell_type": "code",
   "execution_count": 10,
   "id": "d5e82527",
   "metadata": {},
   "outputs": [
    {
     "name": "stdout",
     "output_type": "stream",
     "text": [
      "-14\n",
      "-13\n",
      "-12\n",
      "-11\n",
      "-10\n",
      "-9\n",
      "-8\n"
     ]
    }
   ],
   "source": [
    "for i in range(-14,-7): # 음수도 가능! 대신 역순으로 생각해야 함\n",
    "    print(i)"
   ]
  },
  {
   "cell_type": "code",
   "execution_count": 11,
   "id": "52c132d9",
   "metadata": {
    "scrolled": true
   },
   "outputs": [
    {
     "name": "stdout",
     "output_type": "stream",
     "text": [
      "-8\n",
      "-9\n",
      "-10\n",
      "-11\n",
      "-12\n",
      "-13\n"
     ]
    }
   ],
   "source": [
    "for i in range(-8,-14,-1):\n",
    "    print(i)"
   ]
  },
  {
   "cell_type": "code",
   "execution_count": 13,
   "id": "17063980",
   "metadata": {},
   "outputs": [
    {
     "name": "stdout",
     "output_type": "stream",
     "text": [
      "-8\n",
      "-9\n",
      "-10\n",
      "-11\n",
      "-12\n",
      "-13\n"
     ]
    }
   ],
   "source": [
    "for i in range(8,14):\n",
    "    print(-i)"
   ]
  },
  {
   "cell_type": "code",
   "execution_count": 14,
   "id": "0f4d8edb",
   "metadata": {},
   "outputs": [
    {
     "name": "stdout",
     "output_type": "stream",
     "text": [
      "3\n",
      "6\n",
      "9\n",
      "12\n",
      "15\n",
      "18\n",
      "21\n",
      "24\n",
      "27\n"
     ]
    }
   ],
   "source": [
    "for i in range(3,30,3):\n",
    "    print(i)"
   ]
  },
  {
   "cell_type": "code",
   "execution_count": null,
   "id": "7facbaa2",
   "metadata": {
    "tags": []
   },
   "outputs": [],
   "source": [
    "#for i in range(1,6):\n",
    "#    print('0.')+print(i)"
   ]
  },
  {
   "cell_type": "code",
   "execution_count": 15,
   "id": "01a7e678",
   "metadata": {},
   "outputs": [
    {
     "name": "stdout",
     "output_type": "stream",
     "text": [
      "0.1\n",
      "0.2\n",
      "0.3\n",
      "0.4\n",
      "0.5\n"
     ]
    }
   ],
   "source": [
    "for i in range(1,6,1):\n",
    "    print(i/10) # 소수점으로 나타내기"
   ]
  },
  {
   "cell_type": "code",
   "execution_count": 16,
   "id": "442e0016",
   "metadata": {
    "tags": []
   },
   "outputs": [
    {
     "name": "stdout",
     "output_type": "stream",
     "text": [
      "0.1\n",
      "0.2\n",
      "0.3\n",
      "0.4\n",
      "0.5\n"
     ]
    }
   ],
   "source": [
    "for i in [0.1,0.2,0.3,0.4,0.5]: # 같은 값을 출력하지만 사용법이 다름\n",
    "    print(i)"
   ]
  },
  {
   "cell_type": "code",
   "execution_count": 17,
   "id": "4b31f8b1",
   "metadata": {},
   "outputs": [
    {
     "name": "stdout",
     "output_type": "stream",
     "text": [
      "정수값14까지의 합은105입니다\n"
     ]
    }
   ],
   "source": [
    "x=0\n",
    "y=0\n",
    "for i in range(1,101):\n",
    "    y+=i # 1, 3, 6, ...\n",
    "    x=i # 1, 2, 3, ...\n",
    "    if(y>100):\n",
    "        break # 멈춤\n",
    "print('정수값'+str(x)+'까지의 합은'+str(y)+'입니다')"
   ]
  },
  {
   "cell_type": "code",
   "execution_count": 18,
   "id": "1f6fef8a",
   "metadata": {
    "scrolled": true
   },
   "outputs": [
    {
     "name": "stdout",
     "output_type": "stream",
     "text": [
      "4\n",
      "8\n",
      "12\n",
      "16\n",
      "20\n",
      "24\n",
      "28\n",
      "32\n",
      "36\n",
      "40\n",
      "44\n",
      "48\n"
     ]
    }
   ],
   "source": [
    "for i in range(4,50,4):\n",
    "    print(i)"
   ]
  },
  {
   "cell_type": "code",
   "execution_count": 19,
   "id": "1ae3f4ad",
   "metadata": {},
   "outputs": [],
   "source": [
    "# 숫자를 입력 받기\n",
    "input_number = int(input('숫자를 입력하세요 : '))"
   ]
  },
  {
   "cell_type": "code",
   "execution_count": null,
   "id": "bee26305",
   "metadata": {},
   "outputs": [],
   "source": [
    "input_number # 4 입력"
   ]
  },
  {
   "cell_type": "code",
   "execution_count": 20,
   "id": "4a26dcdf",
   "metadata": {},
   "outputs": [
    {
     "name": "stdout",
     "output_type": "stream",
     "text": [
      "2\n",
      "4\n"
     ]
    }
   ],
   "source": [
    "for i in range(2,input_number+1,2):\n",
    "    print(i)"
   ]
  },
  {
   "cell_type": "markdown",
   "id": "b3b9a53c",
   "metadata": {},
   "source": [
    "---\n",
    "while 문\n",
    "\n",
    "---"
   ]
  },
  {
   "cell_type": "code",
   "execution_count": 21,
   "id": "31a77712",
   "metadata": {},
   "outputs": [
    {
     "name": "stdout",
     "output_type": "stream",
     "text": [
      "hello\n",
      "hello\n",
      "hello\n",
      "hello\n",
      "hello\n",
      "hello\n",
      "hello\n",
      "hello\n",
      "hello\n",
      "hello\n"
     ]
    }
   ],
   "source": [
    "ind = 0\n",
    "\n",
    "while ind < 10:\n",
    "    print('hello')\n",
    "    ind += 1"
   ]
  },
  {
   "cell_type": "code",
   "execution_count": 22,
   "id": "052c9c85",
   "metadata": {},
   "outputs": [
    {
     "name": "stdout",
     "output_type": "stream",
     "text": [
      "2\n"
     ]
    }
   ],
   "source": [
    "ind=2\n",
    "while ind < input_number:\n",
    "    print(ind)\n",
    "    ind+=2"
   ]
  },
  {
   "cell_type": "code",
   "execution_count": 23,
   "id": "93360731",
   "metadata": {
    "tags": []
   },
   "outputs": [],
   "source": [
    "input_number = int(input('숫자 입력 : ')) # 10 입력"
   ]
  },
  {
   "cell_type": "code",
   "execution_count": 24,
   "id": "f0089518",
   "metadata": {},
   "outputs": [
    {
     "name": "stdout",
     "output_type": "stream",
     "text": [
      "2\n",
      "4\n",
      "6\n",
      "8\n",
      "10\n"
     ]
    }
   ],
   "source": [
    "start_number = 2\n",
    "\n",
    "while start_number <=input_number:\n",
    "    print(start_number)\n",
    "    \n",
    "    start_number += 2"
   ]
  },
  {
   "cell_type": "markdown",
   "id": "1738bcd3",
   "metadata": {},
   "source": [
    "---\n",
    "- continue\n",
    "- break\n",
    "- pass\n",
    "\n",
    "---"
   ]
  },
  {
   "cell_type": "code",
   "execution_count": 25,
   "id": "55fa225c",
   "metadata": {},
   "outputs": [
    {
     "name": "stdout",
     "output_type": "stream",
     "text": [
      "1\n",
      "2\n",
      "3\n",
      "4\n",
      "5\n",
      "6\n",
      "7\n",
      "8\n",
      "9\n",
      "10\n"
     ]
    }
   ],
   "source": [
    "for i in range(1,11):\n",
    "    print(i)\n",
    "    continue\n",
    "    print('-----')"
   ]
  },
  {
   "cell_type": "code",
   "execution_count": 27,
   "id": "0401aabd",
   "metadata": {},
   "outputs": [
    {
     "name": "stdout",
     "output_type": "stream",
     "text": [
      "1\n"
     ]
    }
   ],
   "source": [
    "for i in range(1,11):\n",
    "    print(i)\n",
    "    break\n",
    "    print('-----')"
   ]
  },
  {
   "cell_type": "code",
   "execution_count": 28,
   "id": "0ed82b14",
   "metadata": {},
   "outputs": [
    {
     "name": "stdout",
     "output_type": "stream",
     "text": [
      "1\n",
      "-----\n",
      "2\n",
      "-----\n",
      "3\n",
      "-----\n",
      "4\n",
      "-----\n",
      "5\n",
      "-----\n",
      "6\n",
      "-----\n",
      "7\n",
      "-----\n",
      "8\n",
      "-----\n",
      "9\n",
      "-----\n",
      "10\n",
      "-----\n"
     ]
    }
   ],
   "source": [
    "for i in range(1,11):\n",
    "    print(i)\n",
    "    pass\n",
    "    print('-----')"
   ]
  },
  {
   "cell_type": "code",
   "execution_count": 29,
   "id": "95747681",
   "metadata": {},
   "outputs": [
    {
     "name": "stdout",
     "output_type": "stream",
     "text": [
      "0\n",
      "1\n",
      "2\n",
      "3\n",
      "4\n",
      "5\n",
      "6\n",
      "7\n",
      "8\n",
      "9\n",
      "10\n"
     ]
    }
   ],
   "source": [
    "ind = 0\n",
    "\n",
    "while 1:\n",
    "    print(ind)\n",
    "    \n",
    "    ind += 1\n",
    "    if ind > 10:\n",
    "        break"
   ]
  },
  {
   "cell_type": "code",
   "execution_count": 30,
   "id": "5145a599",
   "metadata": {},
   "outputs": [
    {
     "name": "stdout",
     "output_type": "stream",
     "text": [
      "1\n",
      "9\n",
      "8\n",
      "7\n",
      "2\n",
      "9\n",
      "8\n",
      "7\n",
      "3\n",
      "9\n",
      "8\n",
      "7\n"
     ]
    }
   ],
   "source": [
    "for i in range(1,4):\n",
    "    print(i)\n",
    "    \n",
    "    for j in range(9,6,-1):\n",
    "        print(j)"
   ]
  },
  {
   "cell_type": "code",
   "execution_count": 31,
   "id": "0ef8adec",
   "metadata": {},
   "outputs": [
    {
     "name": "stdout",
     "output_type": "stream",
     "text": [
      "0\n",
      "5\n",
      "4\n",
      "1\n",
      "5\n",
      "4\n",
      "2\n",
      "5\n",
      "4\n"
     ]
    }
   ],
   "source": [
    "i = 0\n",
    "\n",
    "while i < 3:\n",
    "    print(i)\n",
    "    i += 1\n",
    "    \n",
    "    j = 5\n",
    "\n",
    "    while j > 3:\n",
    "        print(j)\n",
    "        j -= 1"
   ]
  },
  {
   "cell_type": "markdown",
   "id": "84cfecda",
   "metadata": {},
   "source": [
    "---\n",
    "list를 넣어보아요\n",
    "\n",
    "---"
   ]
  },
  {
   "cell_type": "code",
   "execution_count": 32,
   "id": "d0360f2d",
   "metadata": {},
   "outputs": [],
   "source": [
    "list1 = [[1,2,3],[4,5,6],[7,8,9]]"
   ]
  },
  {
   "cell_type": "code",
   "execution_count": 33,
   "id": "55e296e0",
   "metadata": {},
   "outputs": [
    {
     "name": "stdout",
     "output_type": "stream",
     "text": [
      "[1, 2, 3][4, 5, 6][7, 8, 9]"
     ]
    }
   ],
   "source": [
    "for i in list1:\n",
    "    \n",
    "    print(i,end = \"\")"
   ]
  },
  {
   "cell_type": "code",
   "execution_count": 34,
   "id": "ec7b5b4c",
   "metadata": {},
   "outputs": [
    {
     "name": "stdout",
     "output_type": "stream",
     "text": [
      "123456789"
     ]
    }
   ],
   "source": [
    "for i in range(1,10):\n",
    "    print(i, end='')\n",
    "    for j in range(3,1,4):\n",
    "        print('\\n')\n",
    "        j += 3"
   ]
  },
  {
   "cell_type": "code",
   "execution_count": 35,
   "id": "7827495b",
   "metadata": {},
   "outputs": [
    {
     "data": {
      "text/plain": [
       "[4, 5, 6]"
      ]
     },
     "execution_count": 35,
     "metadata": {},
     "output_type": "execute_result"
    }
   ],
   "source": [
    "list1[1]"
   ]
  },
  {
   "cell_type": "code",
   "execution_count": 36,
   "id": "e1cd548d",
   "metadata": {},
   "outputs": [
    {
     "data": {
      "text/plain": [
       "6"
      ]
     },
     "execution_count": 36,
     "metadata": {},
     "output_type": "execute_result"
    }
   ],
   "source": [
    "list1[1][2]"
   ]
  },
  {
   "cell_type": "code",
   "execution_count": 38,
   "id": "6ad84b05",
   "metadata": {
    "scrolled": true
   },
   "outputs": [
    {
     "ename": "IndexError",
     "evalue": "list index out of range",
     "output_type": "error",
     "traceback": [
      "\u001b[1;31m---------------------------------------------------------------------------\u001b[0m",
      "\u001b[1;31mIndexError\u001b[0m                                Traceback (most recent call last)",
      "Cell \u001b[1;32mIn[38], line 4\u001b[0m\n\u001b[0;32m      2\u001b[0m list1[i]\n\u001b[0;32m      3\u001b[0m \u001b[38;5;28;01mfor\u001b[39;00m j \u001b[38;5;129;01min\u001b[39;00m \u001b[38;5;28mrange\u001b[39m(\u001b[38;5;241m1\u001b[39m,\u001b[38;5;241m10\u001b[39m,\u001b[38;5;241m1\u001b[39m):\n\u001b[1;32m----> 4\u001b[0m     list1[i][j]\n",
      "\u001b[1;31mIndexError\u001b[0m: list index out of range"
     ]
    }
   ],
   "source": [
    "for i in range(1,10,1):\n",
    "    list1[i]\n",
    "    for j in range(1,10,1): # 범위를 벗어나면 에러를 내뱉음\n",
    "        list1[i][j]"
   ]
  },
  {
   "cell_type": "code",
   "execution_count": 39,
   "id": "2ac45326",
   "metadata": {},
   "outputs": [
    {
     "name": "stdout",
     "output_type": "stream",
     "text": [
      "[1, 2, 3]\n",
      "[4, 5, 6]\n",
      "[7, 8, 9]\n"
     ]
    }
   ],
   "source": [
    "for i in list1:\n",
    "    print(i)"
   ]
  },
  {
   "cell_type": "code",
   "execution_count": 40,
   "id": "0cc8c70e",
   "metadata": {},
   "outputs": [
    {
     "name": "stdout",
     "output_type": "stream",
     "text": [
      "123456789"
     ]
    }
   ],
   "source": [
    "for i in list1:\n",
    "    for j in i:\n",
    "        print(j, end = '')"
   ]
  },
  {
   "cell_type": "code",
   "execution_count": 41,
   "id": "b85edeea",
   "metadata": {},
   "outputs": [
    {
     "name": "stdout",
     "output_type": "stream",
     "text": [
      "123\n",
      "456\n",
      "789\n"
     ]
    }
   ],
   "source": [
    "for i in list1:\n",
    "    for j in i:\n",
    "        print(j, end = '')\n",
    "    print()"
   ]
  },
  {
   "cell_type": "code",
   "execution_count": 43,
   "id": "a6378ae5",
   "metadata": {},
   "outputs": [],
   "source": [
    "list2 = [[1,2],[3,4,5,6],[7,8]]"
   ]
  },
  {
   "cell_type": "code",
   "execution_count": 44,
   "id": "92b17e8f",
   "metadata": {},
   "outputs": [
    {
     "name": "stdout",
     "output_type": "stream",
     "text": [
      "12\n",
      "3456\n",
      "78\n"
     ]
    }
   ],
   "source": [
    "for i in list2:\n",
    "    for j in i:\n",
    "        print(j, end ='')\n",
    "    print()"
   ]
  },
  {
   "cell_type": "code",
   "execution_count": 45,
   "id": "d0a9314f",
   "metadata": {},
   "outputs": [
    {
     "name": "stdout",
     "output_type": "stream",
     "text": [
      "1\n",
      "2\n",
      "3\n",
      "4\n",
      "5\n",
      "6\n",
      "7\n",
      "8\n",
      "9\n"
     ]
    }
   ],
   "source": [
    "i=1\n",
    "j=1\n",
    "while i < 10:\n",
    "    print(i, end = '')\n",
    "    i += 1\n",
    "    while j == i:\n",
    "        print(j)\n",
    "        j += 1\n",
    "    print()"
   ]
  },
  {
   "cell_type": "markdown",
   "id": "19e46e72",
   "metadata": {},
   "source": [
    "---\n",
    "if 문\n",
    "\n",
    "---"
   ]
  },
  {
   "cell_type": "code",
   "execution_count": 50,
   "id": "ad3e66b0",
   "metadata": {},
   "outputs": [],
   "source": [
    "x = 1234"
   ]
  },
  {
   "cell_type": "code",
   "execution_count": 47,
   "id": "d360eb9d",
   "metadata": {},
   "outputs": [
    {
     "name": "stdout",
     "output_type": "stream",
     "text": [
      "x는 123입니다\n"
     ]
    }
   ],
   "source": [
    "x = 123\n",
    "if x == 123:\n",
    "    print('x는 123입니다')"
   ]
  },
  {
   "cell_type": "code",
   "execution_count": 48,
   "id": "419d060e",
   "metadata": {},
   "outputs": [
    {
     "name": "stdout",
     "output_type": "stream",
     "text": [
      "아님! x는 1234야\n"
     ]
    }
   ],
   "source": [
    "x = 1234\n",
    "if x == 123:\n",
    "    print('x는 123입니다')\n",
    "    \n",
    "elif x == 1234:\n",
    "    print('아님! x는 1234야')"
   ]
  },
  {
   "cell_type": "code",
   "execution_count": 49,
   "id": "fbc6b678",
   "metadata": {},
   "outputs": [
    {
     "name": "stdout",
     "output_type": "stream",
     "text": [
      "둘다 아니야\n"
     ]
    }
   ],
   "source": [
    "x = 12345\n",
    "if x == 123:\n",
    "    print('x는 123입니다')\n",
    "    \n",
    "elif x == 1234:\n",
    "    print('아님! x는 1234야')\n",
    "else:\n",
    "    print('둘다 아니야')"
   ]
  },
  {
   "cell_type": "code",
   "execution_count": 51,
   "id": "f7cbb9a9",
   "metadata": {},
   "outputs": [],
   "source": [
    "a = 99\n",
    "b = 88"
   ]
  },
  {
   "cell_type": "code",
   "execution_count": 52,
   "id": "ae97001b",
   "metadata": {},
   "outputs": [
    {
     "name": "stdout",
     "output_type": "stream",
     "text": [
      "99와 88이 있어요\n"
     ]
    }
   ],
   "source": [
    "if a == 99 and b == 88:\n",
    "    print('99와 88이 있어요')"
   ]
  },
  {
   "cell_type": "code",
   "execution_count": 53,
   "id": "59202eb9",
   "metadata": {},
   "outputs": [
    {
     "name": "stdout",
     "output_type": "stream",
     "text": [
      "둘 중에 무언가는 88이네요\n"
     ]
    }
   ],
   "source": [
    "if a == 99 or b == 88:\n",
    "    print('둘 중에 무언가는 88이네요')"
   ]
  },
  {
   "cell_type": "code",
   "execution_count": 54,
   "id": "a2097a1f",
   "metadata": {},
   "outputs": [
    {
     "name": "stdout",
     "output_type": "stream",
     "text": [
      "100\n"
     ]
    }
   ],
   "source": [
    "if not a == 100:\n",
    "    print('100')"
   ]
  },
  {
   "cell_type": "code",
   "execution_count": 55,
   "id": "bea203e6",
   "metadata": {},
   "outputs": [],
   "source": [
    "input_number = int(input('숫자 입력 : ')) # 100 입력"
   ]
  },
  {
   "cell_type": "code",
   "execution_count": 56,
   "id": "c420170b",
   "metadata": {},
   "outputs": [
    {
     "name": "stdout",
     "output_type": "stream",
     "text": [
      "9900\n"
     ]
    }
   ],
   "source": [
    "if input_number % 2 == 0 :\n",
    "     print(input_number*(input_number-1))"
   ]
  },
  {
   "cell_type": "code",
   "execution_count": 57,
   "id": "f94096d6",
   "metadata": {},
   "outputs": [],
   "source": [
    "x = 1\n",
    "for i in range(1,6):\n",
    "    x *= i"
   ]
  },
  {
   "cell_type": "code",
   "execution_count": 58,
   "id": "c16799fd",
   "metadata": {},
   "outputs": [
    {
     "data": {
      "text/plain": [
       "120"
      ]
     },
     "execution_count": 58,
     "metadata": {},
     "output_type": "execute_result"
    }
   ],
   "source": [
    "x"
   ]
  },
  {
   "cell_type": "markdown",
   "id": "7bb3b21b",
   "metadata": {},
   "source": [
    "---\n",
    "팩토리얼 만들기\n",
    "\n",
    "---"
   ]
  },
  {
   "cell_type": "code",
   "execution_count": 59,
   "id": "437f8b08",
   "metadata": {},
   "outputs": [
    {
     "name": "stdout",
     "output_type": "stream",
     "text": [
      "2!의 값은 2입니다\n",
      "4!의 값은 24입니다\n",
      "6!의 값은 720입니다\n",
      "8!의 값은 40320입니다\n",
      "10!의 값은 3628800입니다\n",
      "12!의 값은 479001600입니다\n",
      "14!의 값은 87178291200입니다\n",
      "16!의 값은 20922789888000입니다\n",
      "18!의 값은 6402373705728000입니다\n",
      "20!의 값은 2432902008176640000입니다\n",
      "22!의 값은 1124000727777607680000입니다\n",
      "24!의 값은 620448401733239439360000입니다\n",
      "26!의 값은 403291461126605635584000000입니다\n",
      "28!의 값은 304888344611713860501504000000입니다\n",
      "30!의 값은 265252859812191058636308480000000입니다\n"
     ]
    }
   ],
   "source": [
    "y = int(input('1 이상의 자연수를 하나 입력해주세요 : ')) # 30 입력\n",
    "for i in range(2, y+1, 2):\n",
    "    x = 1\n",
    "    for j in range(1, i+1):\n",
    "        x *= j\n",
    "    print(f'{i}!의 값은 {x}입니다')"
   ]
  },
  {
   "cell_type": "code",
   "execution_count": 60,
   "id": "831624f4-625e-4638-8827-29b35acedb57",
   "metadata": {
    "tags": []
   },
   "outputs": [
    {
     "name": "stdout",
     "output_type": "stream",
     "text": [
      "안녕\n",
      "0\n",
      "안녕\n",
      "안녕\n",
      "1\n",
      "안녕\n",
      "안녕\n",
      "2\n",
      "안녕\n",
      "안녕\n",
      "3\n",
      "안녕\n",
      "안녕\n",
      "4\n",
      "안녕\n"
     ]
    }
   ],
   "source": [
    "def func2(i):\n",
    "    print('안녕')\n",
    "    print(i)\n",
    "    print('안녕')\n",
    "    \n",
    "for i in range(5):\n",
    "    func2(i)"
   ]
  },
  {
   "cell_type": "markdown",
   "id": "ba1cd677",
   "metadata": {},
   "source": [
    "---\n",
    "포맷팅\n",
    "\n",
    "---"
   ]
  },
  {
   "cell_type": "code",
   "execution_count": 61,
   "id": "4ecd69f2",
   "metadata": {},
   "outputs": [],
   "source": [
    "x =123\n",
    "y =45.67\n",
    "z = ['a']"
   ]
  },
  {
   "cell_type": "code",
   "execution_count": 64,
   "id": "f35ba550",
   "metadata": {},
   "outputs": [
    {
     "name": "stdout",
     "output_type": "stream",
     "text": [
      "x는  123 y는  45.67 z는 ['a'] 입니다\n"
     ]
    }
   ],
   "source": [
    "print(\"x는 \",x, \"y는 \",y,\"z는\",z,\"입니다\")"
   ]
  },
  {
   "cell_type": "code",
   "execution_count": 63,
   "id": "d0758778",
   "metadata": {},
   "outputs": [
    {
     "name": "stdout",
     "output_type": "stream",
     "text": [
      "x는 123이고, y는 45.67이고, z는 ['a']입니다\n"
     ]
    }
   ],
   "source": [
    "print(\"x는 %d이고, y는 %.2f이고, z는 %s입니다\" % (x,y,z))"
   ]
  },
  {
   "cell_type": "code",
   "execution_count": 65,
   "id": "c1ced7f6",
   "metadata": {},
   "outputs": [
    {
     "name": "stdout",
     "output_type": "stream",
     "text": [
      "x는 123이고, y는 45.67\n"
     ]
    }
   ],
   "source": [
    "print(\"x는 {}이고, y는 {}\".format(x,y))"
   ]
  },
  {
   "cell_type": "code",
   "execution_count": 66,
   "id": "eef28fd5",
   "metadata": {},
   "outputs": [
    {
     "name": "stdout",
     "output_type": "stream",
     "text": [
      "x는 123이고, y는 45.67이고, z는 ['a'] 입니다\n"
     ]
    }
   ],
   "source": [
    "print(f\"x는 {x}이고, y는 {y}이고, z는 {z} 입니다\")"
   ]
  },
  {
   "cell_type": "code",
   "execution_count": 67,
   "id": "4ef91c58",
   "metadata": {},
   "outputs": [
    {
     "name": "stdout",
     "output_type": "stream",
     "text": [
      "x는 123, y는 45.670000\n",
      "x는 123, y는 45.670\n"
     ]
    }
   ],
   "source": [
    "print(\"x는 %d, y는 %f\" % (x,y))\n",
    "print(\"x는 %d, y는 %.3f\" % (x,y))"
   ]
  },
  {
   "cell_type": "markdown",
   "id": "dd2cf88d",
   "metadata": {},
   "source": [
    "---\n",
    "numpy\n",
    "\n",
    "---"
   ]
  },
  {
   "cell_type": "code",
   "execution_count": 68,
   "id": "b4df4365",
   "metadata": {},
   "outputs": [],
   "source": [
    "import numpy as np"
   ]
  },
  {
   "cell_type": "code",
   "execution_count": 69,
   "id": "7459acd8",
   "metadata": {},
   "outputs": [],
   "source": [
    "arr = np.array([1,2,3,4,5])"
   ]
  },
  {
   "cell_type": "code",
   "execution_count": 70,
   "id": "6bc331d4",
   "metadata": {},
   "outputs": [
    {
     "data": {
      "text/plain": [
       "numpy.ndarray"
      ]
     },
     "execution_count": 70,
     "metadata": {},
     "output_type": "execute_result"
    }
   ],
   "source": [
    "type(arr)"
   ]
  },
  {
   "cell_type": "code",
   "execution_count": 71,
   "id": "5c02f61b",
   "metadata": {},
   "outputs": [
    {
     "data": {
      "text/plain": [
       "3"
      ]
     },
     "execution_count": 71,
     "metadata": {},
     "output_type": "execute_result"
    }
   ],
   "source": [
    "arr[2]"
   ]
  },
  {
   "cell_type": "code",
   "execution_count": 72,
   "id": "3d05379c",
   "metadata": {},
   "outputs": [
    {
     "data": {
      "text/plain": [
       "array([2, 3, 4, 5])"
      ]
     },
     "execution_count": 72,
     "metadata": {},
     "output_type": "execute_result"
    }
   ],
   "source": [
    "arr[1:5]"
   ]
  },
  {
   "cell_type": "code",
   "execution_count": 73,
   "id": "e405386c",
   "metadata": {},
   "outputs": [
    {
     "data": {
      "text/plain": [
       "array([ 4,  8, 12, 16, 20])"
      ]
     },
     "execution_count": 73,
     "metadata": {},
     "output_type": "execute_result"
    }
   ],
   "source": [
    "arr*4"
   ]
  },
  {
   "cell_type": "code",
   "execution_count": 74,
   "id": "396417b2",
   "metadata": {},
   "outputs": [],
   "source": [
    "arr2 =np.array([[1,2,3],[4,5,6],[7,8,9]])\n",
    "arr3 =np.array([5,6,7])"
   ]
  },
  {
   "cell_type": "code",
   "execution_count": 75,
   "id": "4b110618",
   "metadata": {
    "scrolled": true
   },
   "outputs": [
    {
     "data": {
      "text/plain": [
       "array([ 38,  92, 146])"
      ]
     },
     "execution_count": 75,
     "metadata": {},
     "output_type": "execute_result"
    }
   ],
   "source": [
    "arr2.dot(arr3)"
   ]
  },
  {
   "cell_type": "code",
   "execution_count": 76,
   "id": "59974fdf",
   "metadata": {},
   "outputs": [
    {
     "data": {
      "text/plain": [
       "array([ 78,  96, 114])"
      ]
     },
     "execution_count": 76,
     "metadata": {},
     "output_type": "execute_result"
    }
   ],
   "source": [
    "arr3.dot(arr2)"
   ]
  },
  {
   "cell_type": "code",
   "execution_count": 77,
   "id": "e5cafaa2",
   "metadata": {},
   "outputs": [],
   "source": [
    "list1 = [1,2,3,4,5,6,7,8,9,0]"
   ]
  },
  {
   "cell_type": "code",
   "execution_count": 78,
   "id": "88753190",
   "metadata": {},
   "outputs": [
    {
     "data": {
      "text/plain": [
       "[1, 2, 3, 4, 5, 6, 7, 8, 9, 0]"
      ]
     },
     "execution_count": 78,
     "metadata": {},
     "output_type": "execute_result"
    }
   ],
   "source": [
    "list1[:]"
   ]
  },
  {
   "cell_type": "code",
   "execution_count": 79,
   "id": "7e496c72",
   "metadata": {},
   "outputs": [
    {
     "data": {
      "text/plain": [
       "[2, 4]"
      ]
     },
     "execution_count": 79,
     "metadata": {},
     "output_type": "execute_result"
    }
   ],
   "source": [
    "list1[1:5:2]"
   ]
  },
  {
   "cell_type": "code",
   "execution_count": 80,
   "id": "fc38c5fe",
   "metadata": {},
   "outputs": [
    {
     "data": {
      "text/plain": [
       "7"
      ]
     },
     "execution_count": 80,
     "metadata": {},
     "output_type": "execute_result"
    }
   ],
   "source": [
    "list1[-4]"
   ]
  },
  {
   "cell_type": "code",
   "execution_count": 81,
   "id": "c06e807f",
   "metadata": {},
   "outputs": [
    {
     "data": {
      "text/plain": [
       "[7, 8, 9, 0]"
      ]
     },
     "execution_count": 81,
     "metadata": {},
     "output_type": "execute_result"
    }
   ],
   "source": [
    "list1[-4:]"
   ]
  },
  {
   "cell_type": "code",
   "execution_count": 82,
   "id": "cacf98d2",
   "metadata": {},
   "outputs": [
    {
     "data": {
      "text/plain": [
       "[7, 6, 5, 4, 3, 2, 1]"
      ]
     },
     "execution_count": 82,
     "metadata": {},
     "output_type": "execute_result"
    }
   ],
   "source": [
    "list1[-4::-1]"
   ]
  },
  {
   "cell_type": "code",
   "execution_count": 83,
   "id": "d666df6c",
   "metadata": {},
   "outputs": [
    {
     "data": {
      "text/plain": [
       "[0, 9, 8, 7, 6, 5, 4, 3, 2, 1]"
      ]
     },
     "execution_count": 83,
     "metadata": {},
     "output_type": "execute_result"
    }
   ],
   "source": [
    "list1[::-1]"
   ]
  },
  {
   "cell_type": "code",
   "execution_count": 84,
   "id": "76698d74",
   "metadata": {},
   "outputs": [
    {
     "data": {
      "text/plain": [
       "[7, 4, 1]"
      ]
     },
     "execution_count": 84,
     "metadata": {},
     "output_type": "execute_result"
    }
   ],
   "source": [
    "list1[-4::-3]"
   ]
  },
  {
   "cell_type": "code",
   "execution_count": 85,
   "id": "93d92623",
   "metadata": {},
   "outputs": [],
   "source": [
    "np.save('./f1.npy',arr)"
   ]
  },
  {
   "cell_type": "code",
   "execution_count": null,
   "id": "731b5ab5",
   "metadata": {},
   "outputs": [],
   "source": [
    "np.save('c:/users/f2.npy',arr)"
   ]
  },
  {
   "cell_type": "code",
   "execution_count": null,
   "id": "67bd00cf",
   "metadata": {},
   "outputs": [],
   "source": [
    "np.load('./f1.npy')"
   ]
  },
  {
   "cell_type": "code",
   "execution_count": null,
   "id": "3bfa769d",
   "metadata": {},
   "outputs": [],
   "source": [
    "np.savez('./f1.npz',A = arr)"
   ]
  },
  {
   "cell_type": "code",
   "execution_count": null,
   "id": "c8ca3ec4",
   "metadata": {},
   "outputs": [],
   "source": [
    "np.load('./f1.npz')"
   ]
  },
  {
   "cell_type": "code",
   "execution_count": null,
   "id": "1a3a9936",
   "metadata": {},
   "outputs": [],
   "source": [
    "np.load('./f1.npz')['A']"
   ]
  },
  {
   "cell_type": "markdown",
   "id": "ac678ce5",
   "metadata": {},
   "source": [
    "---\n",
    "pandas\n",
    "\n",
    "---"
   ]
  },
  {
   "cell_type": "code",
   "execution_count": 86,
   "id": "60c052c9",
   "metadata": {},
   "outputs": [],
   "source": [
    "import pandas as pd"
   ]
  },
  {
   "cell_type": "code",
   "execution_count": 87,
   "id": "7f509bc3",
   "metadata": {
    "scrolled": true
   },
   "outputs": [
    {
     "data": {
      "text/html": [
       "<div>\n",
       "<style scoped>\n",
       "    .dataframe tbody tr th:only-of-type {\n",
       "        vertical-align: middle;\n",
       "    }\n",
       "\n",
       "    .dataframe tbody tr th {\n",
       "        vertical-align: top;\n",
       "    }\n",
       "\n",
       "    .dataframe thead th {\n",
       "        text-align: right;\n",
       "    }\n",
       "</style>\n",
       "<table border=\"1\" class=\"dataframe\">\n",
       "  <thead>\n",
       "    <tr style=\"text-align: right;\">\n",
       "      <th></th>\n",
       "      <th>0</th>\n",
       "    </tr>\n",
       "  </thead>\n",
       "  <tbody>\n",
       "    <tr>\n",
       "      <th>0</th>\n",
       "      <td>1</td>\n",
       "    </tr>\n",
       "    <tr>\n",
       "      <th>1</th>\n",
       "      <td>2</td>\n",
       "    </tr>\n",
       "    <tr>\n",
       "      <th>2</th>\n",
       "      <td>3</td>\n",
       "    </tr>\n",
       "    <tr>\n",
       "      <th>3</th>\n",
       "      <td>4</td>\n",
       "    </tr>\n",
       "    <tr>\n",
       "      <th>4</th>\n",
       "      <td>5</td>\n",
       "    </tr>\n",
       "  </tbody>\n",
       "</table>\n",
       "</div>"
      ],
      "text/plain": [
       "   0\n",
       "0  1\n",
       "1  2\n",
       "2  3\n",
       "3  4\n",
       "4  5"
      ]
     },
     "execution_count": 87,
     "metadata": {},
     "output_type": "execute_result"
    }
   ],
   "source": [
    "pd.DataFrame([1,2,3,4,5])"
   ]
  },
  {
   "cell_type": "code",
   "execution_count": 88,
   "id": "dc0df04e",
   "metadata": {
    "scrolled": true
   },
   "outputs": [
    {
     "data": {
      "text/html": [
       "<div>\n",
       "<style scoped>\n",
       "    .dataframe tbody tr th:only-of-type {\n",
       "        vertical-align: middle;\n",
       "    }\n",
       "\n",
       "    .dataframe tbody tr th {\n",
       "        vertical-align: top;\n",
       "    }\n",
       "\n",
       "    .dataframe thead th {\n",
       "        text-align: right;\n",
       "    }\n",
       "</style>\n",
       "<table border=\"1\" class=\"dataframe\">\n",
       "  <thead>\n",
       "    <tr style=\"text-align: right;\">\n",
       "      <th></th>\n",
       "      <th>0</th>\n",
       "      <th>1</th>\n",
       "      <th>2</th>\n",
       "      <th>3</th>\n",
       "      <th>4</th>\n",
       "    </tr>\n",
       "  </thead>\n",
       "  <tbody>\n",
       "    <tr>\n",
       "      <th>0</th>\n",
       "      <td>1</td>\n",
       "      <td>2</td>\n",
       "      <td>3</td>\n",
       "      <td>4</td>\n",
       "      <td>5</td>\n",
       "    </tr>\n",
       "  </tbody>\n",
       "</table>\n",
       "</div>"
      ],
      "text/plain": [
       "   0  1  2  3  4\n",
       "0  1  2  3  4  5"
      ]
     },
     "execution_count": 88,
     "metadata": {},
     "output_type": "execute_result"
    }
   ],
   "source": [
    "pd.DataFrame([[1, 2, 3, 4, 5]])"
   ]
  },
  {
   "cell_type": "code",
   "execution_count": 89,
   "id": "e7b043b1",
   "metadata": {},
   "outputs": [],
   "source": [
    "df = pd.DataFrame([[1,2,3,4,5],[6,7,8,9,0],[6,7,3,5,7]])"
   ]
  },
  {
   "cell_type": "code",
   "execution_count": 90,
   "id": "eb3eb5b1",
   "metadata": {},
   "outputs": [
    {
     "data": {
      "text/html": [
       "<div>\n",
       "<style scoped>\n",
       "    .dataframe tbody tr th:only-of-type {\n",
       "        vertical-align: middle;\n",
       "    }\n",
       "\n",
       "    .dataframe tbody tr th {\n",
       "        vertical-align: top;\n",
       "    }\n",
       "\n",
       "    .dataframe thead th {\n",
       "        text-align: right;\n",
       "    }\n",
       "</style>\n",
       "<table border=\"1\" class=\"dataframe\">\n",
       "  <thead>\n",
       "    <tr style=\"text-align: right;\">\n",
       "      <th></th>\n",
       "      <th>0</th>\n",
       "      <th>1</th>\n",
       "      <th>2</th>\n",
       "      <th>3</th>\n",
       "      <th>4</th>\n",
       "    </tr>\n",
       "  </thead>\n",
       "  <tbody>\n",
       "    <tr>\n",
       "      <th>0</th>\n",
       "      <td>1</td>\n",
       "      <td>2</td>\n",
       "      <td>3</td>\n",
       "      <td>4</td>\n",
       "      <td>5</td>\n",
       "    </tr>\n",
       "    <tr>\n",
       "      <th>1</th>\n",
       "      <td>6</td>\n",
       "      <td>7</td>\n",
       "      <td>8</td>\n",
       "      <td>9</td>\n",
       "      <td>0</td>\n",
       "    </tr>\n",
       "    <tr>\n",
       "      <th>2</th>\n",
       "      <td>6</td>\n",
       "      <td>7</td>\n",
       "      <td>3</td>\n",
       "      <td>5</td>\n",
       "      <td>7</td>\n",
       "    </tr>\n",
       "  </tbody>\n",
       "</table>\n",
       "</div>"
      ],
      "text/plain": [
       "   0  1  2  3  4\n",
       "0  1  2  3  4  5\n",
       "1  6  7  8  9  0\n",
       "2  6  7  3  5  7"
      ]
     },
     "execution_count": 90,
     "metadata": {},
     "output_type": "execute_result"
    }
   ],
   "source": [
    "df"
   ]
  },
  {
   "cell_type": "code",
   "execution_count": 91,
   "id": "e19c97ad",
   "metadata": {},
   "outputs": [
    {
     "data": {
      "text/plain": [
       "2"
      ]
     },
     "execution_count": 91,
     "metadata": {},
     "output_type": "execute_result"
    }
   ],
   "source": [
    "df[1][0]"
   ]
  },
  {
   "cell_type": "code",
   "execution_count": 92,
   "id": "77e5187e",
   "metadata": {},
   "outputs": [
    {
     "data": {
      "text/plain": [
       "0    6\n",
       "1    7\n",
       "2    8\n",
       "3    9\n",
       "4    0\n",
       "Name: 1, dtype: int64"
      ]
     },
     "execution_count": 92,
     "metadata": {},
     "output_type": "execute_result"
    }
   ],
   "source": [
    "df.loc[1]"
   ]
  },
  {
   "cell_type": "code",
   "execution_count": 93,
   "id": "78bbcfe2",
   "metadata": {},
   "outputs": [
    {
     "data": {
      "text/plain": [
       "6"
      ]
     },
     "execution_count": 93,
     "metadata": {},
     "output_type": "execute_result"
    }
   ],
   "source": [
    "df.loc[1][0]"
   ]
  },
  {
   "cell_type": "code",
   "execution_count": 94,
   "id": "e51d9e88",
   "metadata": {},
   "outputs": [
    {
     "data": {
      "text/plain": [
       "6"
      ]
     },
     "execution_count": 94,
     "metadata": {},
     "output_type": "execute_result"
    }
   ],
   "source": [
    "df.loc[1,0]"
   ]
  },
  {
   "cell_type": "code",
   "execution_count": 95,
   "id": "4388787a",
   "metadata": {},
   "outputs": [
    {
     "data": {
      "text/html": [
       "<div>\n",
       "<style scoped>\n",
       "    .dataframe tbody tr th:only-of-type {\n",
       "        vertical-align: middle;\n",
       "    }\n",
       "\n",
       "    .dataframe tbody tr th {\n",
       "        vertical-align: top;\n",
       "    }\n",
       "\n",
       "    .dataframe thead th {\n",
       "        text-align: right;\n",
       "    }\n",
       "</style>\n",
       "<table border=\"1\" class=\"dataframe\">\n",
       "  <thead>\n",
       "    <tr style=\"text-align: right;\">\n",
       "      <th></th>\n",
       "      <th>1</th>\n",
       "      <th>2</th>\n",
       "      <th>3</th>\n",
       "    </tr>\n",
       "  </thead>\n",
       "  <tbody>\n",
       "    <tr>\n",
       "      <th>0</th>\n",
       "      <td>2</td>\n",
       "      <td>3</td>\n",
       "      <td>4</td>\n",
       "    </tr>\n",
       "    <tr>\n",
       "      <th>1</th>\n",
       "      <td>7</td>\n",
       "      <td>8</td>\n",
       "      <td>9</td>\n",
       "    </tr>\n",
       "    <tr>\n",
       "      <th>2</th>\n",
       "      <td>7</td>\n",
       "      <td>3</td>\n",
       "      <td>5</td>\n",
       "    </tr>\n",
       "  </tbody>\n",
       "</table>\n",
       "</div>"
      ],
      "text/plain": [
       "   1  2  3\n",
       "0  2  3  4\n",
       "1  7  8  9\n",
       "2  7  3  5"
      ]
     },
     "execution_count": 95,
     "metadata": {},
     "output_type": "execute_result"
    }
   ],
   "source": [
    "df.loc[:,1:3]"
   ]
  },
  {
   "cell_type": "code",
   "execution_count": 96,
   "id": "5b352ec4",
   "metadata": {},
   "outputs": [
    {
     "data": {
      "text/html": [
       "<div>\n",
       "<style scoped>\n",
       "    .dataframe tbody tr th:only-of-type {\n",
       "        vertical-align: middle;\n",
       "    }\n",
       "\n",
       "    .dataframe tbody tr th {\n",
       "        vertical-align: top;\n",
       "    }\n",
       "\n",
       "    .dataframe thead th {\n",
       "        text-align: right;\n",
       "    }\n",
       "</style>\n",
       "<table border=\"1\" class=\"dataframe\">\n",
       "  <thead>\n",
       "    <tr style=\"text-align: right;\">\n",
       "      <th></th>\n",
       "      <th>1</th>\n",
       "      <th>2</th>\n",
       "    </tr>\n",
       "  </thead>\n",
       "  <tbody>\n",
       "    <tr>\n",
       "      <th>0</th>\n",
       "      <td>2</td>\n",
       "      <td>3</td>\n",
       "    </tr>\n",
       "    <tr>\n",
       "      <th>1</th>\n",
       "      <td>7</td>\n",
       "      <td>8</td>\n",
       "    </tr>\n",
       "    <tr>\n",
       "      <th>2</th>\n",
       "      <td>7</td>\n",
       "      <td>3</td>\n",
       "    </tr>\n",
       "  </tbody>\n",
       "</table>\n",
       "</div>"
      ],
      "text/plain": [
       "   1  2\n",
       "0  2  3\n",
       "1  7  8\n",
       "2  7  3"
      ]
     },
     "execution_count": 96,
     "metadata": {},
     "output_type": "execute_result"
    }
   ],
   "source": [
    "df.iloc[:,1:3]"
   ]
  },
  {
   "cell_type": "code",
   "execution_count": 97,
   "id": "b311bd44",
   "metadata": {},
   "outputs": [],
   "source": [
    "df.columns = ['a','b','c','d','e']\n",
    "df.index = ['ㄱ','ㄴ','ㄷ']"
   ]
  },
  {
   "cell_type": "code",
   "execution_count": 98,
   "id": "3ebbf2a0",
   "metadata": {},
   "outputs": [
    {
     "data": {
      "text/html": [
       "<div>\n",
       "<style scoped>\n",
       "    .dataframe tbody tr th:only-of-type {\n",
       "        vertical-align: middle;\n",
       "    }\n",
       "\n",
       "    .dataframe tbody tr th {\n",
       "        vertical-align: top;\n",
       "    }\n",
       "\n",
       "    .dataframe thead th {\n",
       "        text-align: right;\n",
       "    }\n",
       "</style>\n",
       "<table border=\"1\" class=\"dataframe\">\n",
       "  <thead>\n",
       "    <tr style=\"text-align: right;\">\n",
       "      <th></th>\n",
       "      <th>a</th>\n",
       "      <th>b</th>\n",
       "      <th>c</th>\n",
       "      <th>d</th>\n",
       "      <th>e</th>\n",
       "    </tr>\n",
       "  </thead>\n",
       "  <tbody>\n",
       "    <tr>\n",
       "      <th>ㄱ</th>\n",
       "      <td>1</td>\n",
       "      <td>2</td>\n",
       "      <td>3</td>\n",
       "      <td>4</td>\n",
       "      <td>5</td>\n",
       "    </tr>\n",
       "    <tr>\n",
       "      <th>ㄴ</th>\n",
       "      <td>6</td>\n",
       "      <td>7</td>\n",
       "      <td>8</td>\n",
       "      <td>9</td>\n",
       "      <td>0</td>\n",
       "    </tr>\n",
       "    <tr>\n",
       "      <th>ㄷ</th>\n",
       "      <td>6</td>\n",
       "      <td>7</td>\n",
       "      <td>3</td>\n",
       "      <td>5</td>\n",
       "      <td>7</td>\n",
       "    </tr>\n",
       "  </tbody>\n",
       "</table>\n",
       "</div>"
      ],
      "text/plain": [
       "   a  b  c  d  e\n",
       "ㄱ  1  2  3  4  5\n",
       "ㄴ  6  7  8  9  0\n",
       "ㄷ  6  7  3  5  7"
      ]
     },
     "execution_count": 98,
     "metadata": {},
     "output_type": "execute_result"
    }
   ],
   "source": [
    "df"
   ]
  },
  {
   "cell_type": "code",
   "execution_count": null,
   "id": "b2cef893",
   "metadata": {
    "scrolled": true
   },
   "outputs": [],
   "source": [
    "df.loc[1:2] # DataFrame에서는 loc 인덱서를 사용할 때 숫자로 된 인덱스가 아니라 인덱스 라벨을 사용\n",
    "# 이 코드는 엄청나게 긴 오류를 내뱉습니다...^ ^ !"
   ]
  },
  {
   "cell_type": "code",
   "execution_count": 107,
   "id": "64603c5d",
   "metadata": {},
   "outputs": [
    {
     "data": {
      "text/html": [
       "<div>\n",
       "<style scoped>\n",
       "    .dataframe tbody tr th:only-of-type {\n",
       "        vertical-align: middle;\n",
       "    }\n",
       "\n",
       "    .dataframe tbody tr th {\n",
       "        vertical-align: top;\n",
       "    }\n",
       "\n",
       "    .dataframe thead th {\n",
       "        text-align: right;\n",
       "    }\n",
       "</style>\n",
       "<table border=\"1\" class=\"dataframe\">\n",
       "  <thead>\n",
       "    <tr style=\"text-align: right;\">\n",
       "      <th></th>\n",
       "      <th>b</th>\n",
       "      <th>c</th>\n",
       "    </tr>\n",
       "  </thead>\n",
       "  <tbody>\n",
       "    <tr>\n",
       "      <th>ㄱ</th>\n",
       "      <td>2</td>\n",
       "      <td>3</td>\n",
       "    </tr>\n",
       "    <tr>\n",
       "      <th>ㄴ</th>\n",
       "      <td>7</td>\n",
       "      <td>8</td>\n",
       "    </tr>\n",
       "    <tr>\n",
       "      <th>ㄷ</th>\n",
       "      <td>7</td>\n",
       "      <td>3</td>\n",
       "    </tr>\n",
       "  </tbody>\n",
       "</table>\n",
       "</div>"
      ],
      "text/plain": [
       "   b  c\n",
       "ㄱ  2  3\n",
       "ㄴ  7  8\n",
       "ㄷ  7  3"
      ]
     },
     "execution_count": 107,
     "metadata": {},
     "output_type": "execute_result"
    }
   ],
   "source": [
    "df.iloc[:,1:3] # 정신건강을 위해 정수 인덱스 기능을 하는 iloc를 사용합시다"
   ]
  },
  {
   "cell_type": "code",
   "execution_count": 108,
   "id": "d1a76909",
   "metadata": {},
   "outputs": [
    {
     "data": {
      "text/html": [
       "<div>\n",
       "<style scoped>\n",
       "    .dataframe tbody tr th:only-of-type {\n",
       "        vertical-align: middle;\n",
       "    }\n",
       "\n",
       "    .dataframe tbody tr th {\n",
       "        vertical-align: top;\n",
       "    }\n",
       "\n",
       "    .dataframe thead th {\n",
       "        text-align: right;\n",
       "    }\n",
       "</style>\n",
       "<table border=\"1\" class=\"dataframe\">\n",
       "  <thead>\n",
       "    <tr style=\"text-align: right;\">\n",
       "      <th></th>\n",
       "      <th>a</th>\n",
       "      <th>b</th>\n",
       "      <th>c</th>\n",
       "      <th>d</th>\n",
       "      <th>e</th>\n",
       "    </tr>\n",
       "  </thead>\n",
       "  <tbody>\n",
       "    <tr>\n",
       "      <th>ㄱ</th>\n",
       "      <td>4</td>\n",
       "      <td>8</td>\n",
       "      <td>12</td>\n",
       "      <td>16</td>\n",
       "      <td>20</td>\n",
       "    </tr>\n",
       "    <tr>\n",
       "      <th>ㄴ</th>\n",
       "      <td>24</td>\n",
       "      <td>28</td>\n",
       "      <td>32</td>\n",
       "      <td>36</td>\n",
       "      <td>0</td>\n",
       "    </tr>\n",
       "    <tr>\n",
       "      <th>ㄷ</th>\n",
       "      <td>24</td>\n",
       "      <td>28</td>\n",
       "      <td>12</td>\n",
       "      <td>20</td>\n",
       "      <td>28</td>\n",
       "    </tr>\n",
       "  </tbody>\n",
       "</table>\n",
       "</div>"
      ],
      "text/plain": [
       "    a   b   c   d   e\n",
       "ㄱ   4   8  12  16  20\n",
       "ㄴ  24  28  32  36   0\n",
       "ㄷ  24  28  12  20  28"
      ]
     },
     "execution_count": 108,
     "metadata": {},
     "output_type": "execute_result"
    }
   ],
   "source": [
    "df*4"
   ]
  },
  {
   "cell_type": "code",
   "execution_count": null,
   "id": "1eb79a37",
   "metadata": {},
   "outputs": [],
   "source": [
    "df.to_csv('c:/users/f2.csv')"
   ]
  },
  {
   "cell_type": "code",
   "execution_count": null,
   "id": "57ba447c",
   "metadata": {},
   "outputs": [],
   "source": [
    "pd.read_csv('./df.csv')"
   ]
  },
  {
   "cell_type": "code",
   "execution_count": null,
   "id": "155b5c90",
   "metadata": {},
   "outputs": [],
   "source": [
    "pd.read_csv('./df.csv',index_col=0)"
   ]
  },
  {
   "cell_type": "code",
   "execution_count": null,
   "id": "55619aaf",
   "metadata": {},
   "outputs": [],
   "source": [
    "pd.read_csv('./df.csv',index_col=0, header =2)"
   ]
  },
  {
   "cell_type": "code",
   "execution_count": null,
   "id": "dc2c96b7",
   "metadata": {},
   "outputs": [],
   "source": [
    "df.to_csv('c:/users/f2.csv', index = False)"
   ]
  },
  {
   "cell_type": "code",
   "execution_count": null,
   "id": "b31bb45f",
   "metadata": {},
   "outputs": [],
   "source": [
    "pd.read_csv('./df.csv')"
   ]
  },
  {
   "cell_type": "code",
   "execution_count": null,
   "id": "cb616af4",
   "metadata": {},
   "outputs": [],
   "source": [
    "df.to_excel('./df.xlsx')"
   ]
  },
  {
   "cell_type": "code",
   "execution_count": null,
   "id": "25d2b327",
   "metadata": {},
   "outputs": [],
   "source": [
    "pd.read_excel('./df.xlsx')"
   ]
  },
  {
   "cell_type": "markdown",
   "id": "30227300",
   "metadata": {},
   "source": [
    "---\n",
    "- 함수 맛보기,\n",
    "- print의 속성\n",
    "---"
   ]
  },
  {
   "cell_type": "code",
   "execution_count": 109,
   "id": "90a1be74",
   "metadata": {},
   "outputs": [
    {
     "data": {
      "text/plain": [
       "2"
      ]
     },
     "execution_count": 109,
     "metadata": {},
     "output_type": "execute_result"
    }
   ],
   "source": [
    "1+1"
   ]
  },
  {
   "cell_type": "code",
   "execution_count": 110,
   "id": "67f2dd01",
   "metadata": {},
   "outputs": [
    {
     "name": "stdout",
     "output_type": "stream",
     "text": [
      "2\n"
     ]
    }
   ],
   "source": [
    "print(1+1)"
   ]
  },
  {
   "cell_type": "code",
   "execution_count": 111,
   "id": "7238ffad",
   "metadata": {},
   "outputs": [],
   "source": [
    "a = 1+1"
   ]
  },
  {
   "cell_type": "code",
   "execution_count": 112,
   "id": "389bd607",
   "metadata": {},
   "outputs": [
    {
     "name": "stdout",
     "output_type": "stream",
     "text": [
      "2\n"
     ]
    }
   ],
   "source": [
    "b = print(1+1)"
   ]
  },
  {
   "cell_type": "code",
   "execution_count": 113,
   "id": "70ecbbd2",
   "metadata": {},
   "outputs": [
    {
     "data": {
      "text/plain": [
       "2"
      ]
     },
     "execution_count": 113,
     "metadata": {},
     "output_type": "execute_result"
    }
   ],
   "source": [
    "a"
   ]
  },
  {
   "cell_type": "code",
   "execution_count": 114,
   "id": "97f54690",
   "metadata": {},
   "outputs": [],
   "source": [
    "b"
   ]
  },
  {
   "cell_type": "code",
   "execution_count": 115,
   "id": "9ab8ba52",
   "metadata": {},
   "outputs": [
    {
     "data": {
      "text/plain": [
       "NoneType"
      ]
     },
     "execution_count": 115,
     "metadata": {},
     "output_type": "execute_result"
    }
   ],
   "source": [
    "type(b)"
   ]
  },
  {
   "cell_type": "code",
   "execution_count": 116,
   "id": "ceb900f3",
   "metadata": {},
   "outputs": [],
   "source": [
    "def fn(x):\n",
    "    return x + 10"
   ]
  },
  {
   "cell_type": "code",
   "execution_count": 117,
   "id": "79034c96",
   "metadata": {},
   "outputs": [
    {
     "data": {
      "text/plain": [
       "20"
      ]
     },
     "execution_count": 117,
     "metadata": {},
     "output_type": "execute_result"
    }
   ],
   "source": [
    "fn(10)"
   ]
  },
  {
   "cell_type": "code",
   "execution_count": 118,
   "id": "05fa6944",
   "metadata": {},
   "outputs": [],
   "source": [
    "def fn1(x):\n",
    "    return x + 10\n",
    "    return x * 2"
   ]
  },
  {
   "cell_type": "code",
   "execution_count": 119,
   "id": "36eadb8d",
   "metadata": {},
   "outputs": [
    {
     "data": {
      "text/plain": [
       "20"
      ]
     },
     "execution_count": 119,
     "metadata": {},
     "output_type": "execute_result"
    }
   ],
   "source": [
    "fn1(10)"
   ]
  },
  {
   "cell_type": "code",
   "execution_count": 120,
   "id": "16bd698f",
   "metadata": {},
   "outputs": [],
   "source": [
    "def fn2(x):\n",
    "    if x % 2 == 0:\n",
    "        return x + 10\n",
    "    \n",
    "    return x * 2"
   ]
  },
  {
   "cell_type": "code",
   "execution_count": 121,
   "id": "d7c5608d",
   "metadata": {},
   "outputs": [
    {
     "data": {
      "text/plain": [
       "20"
      ]
     },
     "execution_count": 121,
     "metadata": {},
     "output_type": "execute_result"
    }
   ],
   "source": [
    "fn2(10)"
   ]
  },
  {
   "cell_type": "code",
   "execution_count": 122,
   "id": "cfcbf9ab",
   "metadata": {},
   "outputs": [
    {
     "data": {
      "text/plain": [
       "22"
      ]
     },
     "execution_count": 122,
     "metadata": {},
     "output_type": "execute_result"
    }
   ],
   "source": [
    "fn2(11)"
   ]
  },
  {
   "cell_type": "code",
   "execution_count": 123,
   "id": "a4034821",
   "metadata": {},
   "outputs": [],
   "source": [
    "def fn3(x):\n",
    "    return x + 10, x * 2"
   ]
  },
  {
   "cell_type": "code",
   "execution_count": 124,
   "id": "8b756803",
   "metadata": {},
   "outputs": [
    {
     "data": {
      "text/plain": [
       "(25, 30)"
      ]
     },
     "execution_count": 124,
     "metadata": {},
     "output_type": "execute_result"
    }
   ],
   "source": [
    "fn3(15)"
   ]
  },
  {
   "cell_type": "code",
   "execution_count": 125,
   "id": "c41a9e16",
   "metadata": {},
   "outputs": [],
   "source": [
    "a, b=fn3(15)"
   ]
  },
  {
   "cell_type": "code",
   "execution_count": 126,
   "id": "20880959",
   "metadata": {},
   "outputs": [
    {
     "data": {
      "text/plain": [
       "25"
      ]
     },
     "execution_count": 126,
     "metadata": {},
     "output_type": "execute_result"
    }
   ],
   "source": [
    "a"
   ]
  },
  {
   "cell_type": "code",
   "execution_count": 127,
   "id": "21a186f6",
   "metadata": {},
   "outputs": [
    {
     "data": {
      "text/plain": [
       "30"
      ]
     },
     "execution_count": 127,
     "metadata": {},
     "output_type": "execute_result"
    }
   ],
   "source": [
    "b"
   ]
  },
  {
   "cell_type": "code",
   "execution_count": 128,
   "id": "475e6396",
   "metadata": {},
   "outputs": [
    {
     "name": "stdout",
     "output_type": "stream",
     "text": [
      "Start\n",
      "End\n"
     ]
    }
   ],
   "source": [
    "import time\n",
    "\n",
    "print(\"Start\")\n",
    "time.sleep(5)  # 프로그램 실행을 5초 동안 멈춤\n",
    "print(\"End\")"
   ]
  }
 ],
 "metadata": {
  "kernelspec": {
   "display_name": "Python 3 (ipykernel)",
   "language": "python",
   "name": "python3"
  },
  "language_info": {
   "codemirror_mode": {
    "name": "ipython",
    "version": 3
   },
   "file_extension": ".py",
   "mimetype": "text/x-python",
   "name": "python",
   "nbconvert_exporter": "python",
   "pygments_lexer": "ipython3",
   "version": "3.11.5"
  }
 },
 "nbformat": 4,
 "nbformat_minor": 5
}
