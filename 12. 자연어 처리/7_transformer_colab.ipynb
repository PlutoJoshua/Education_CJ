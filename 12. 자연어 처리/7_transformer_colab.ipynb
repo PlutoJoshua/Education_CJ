{
  "cells": [
    {
      "cell_type": "markdown",
      "metadata": {},
      "source": [
        "---\n",
        "### torch가 안돼서 정말 애먹었는데, 아직도 해결을 못했다 ㅠㅠ 이유가 뭐야 대체 !!!!!!!!!!!!!!!!!!\n",
        "결국 코랩으로 넘어갔다...\n",
        "\n",
        "---"
      ]
    },
    {
      "cell_type": "code",
      "execution_count": null,
      "metadata": {
        "colab": {
          "base_uri": "https://localhost:8080/"
        },
        "id": "gteMuLciaQOz",
        "outputId": "c8504062-ac77-413d-f032-d8f9cba07cdc"
      },
      "outputs": [
        {
          "name": "stdout",
          "output_type": "stream",
          "text": [
            "Mounted at /content/gdrive\n"
          ]
        }
      ],
      "source": [
        "# 구글 드라이브 마운트\n",
        "from google.colab import drive\n",
        "drive.mount('/content/gdrive')"
      ]
    },
    {
      "cell_type": "code",
      "execution_count": null,
      "metadata": {
        "colab": {
          "base_uri": "https://localhost:8080/"
        },
        "id": "N4_G0eR1aYLx",
        "outputId": "ea77fc7a-46a2-4848-d1b8-31f3ffed8aa0"
      },
      "outputs": [
        {
          "name": "stdout",
          "output_type": "stream",
          "text": [
            "/content/gdrive/MyDrive/빅데이터/12. 자연어 처리/day2\n"
          ]
        }
      ],
      "source": [
        "# 사용할 폴더로 이동\n",
        "%cd /content/gdrive/MyDrive/빅데이터/12. 자연어 처리/day2"
      ]
    },
    {
      "cell_type": "markdown",
      "metadata": {
        "id": "kJIRBmDqBiKH"
      },
      "source": [
        "## Transformer 구조 구현"
      ]
    },
    {
      "cell_type": "code",
      "execution_count": null,
      "metadata": {
        "colab": {
          "base_uri": "https://localhost:8080/"
        },
        "id": "GvyQ7eeZCV62",
        "outputId": "ddabf7d5-0117-4eff-e43e-e984503dbc7c"
      },
      "outputs": [
        {
          "name": "stdout",
          "output_type": "stream",
          "text": [
            "Requirement already satisfied: sentencepiece in /usr/local/lib/python3.10/dist-packages (0.1.99)\n"
          ]
        }
      ],
      "source": [
        "!pip install sentencepiece"
      ]
    },
    {
      "cell_type": "markdown",
      "metadata": {
        "id": "FWT-P5l0CVde"
      },
      "source": [
        "#### 1. 데이터 확인"
      ]
    },
    {
      "cell_type": "code",
      "execution_count": null,
      "metadata": {
        "id": "88wMq4r-CdoG"
      },
      "outputs": [],
      "source": [
        "# data를 저장할 directory 확인\n",
        "data_dir = \"./data\""
      ]
    },
    {
      "cell_type": "markdown",
      "metadata": {
        "id": "Mw-viWEe_-gb"
      },
      "source": [
        "#### 2. Imports"
      ]
    },
    {
      "cell_type": "code",
      "execution_count": null,
      "metadata": {
        "id": "AALbOYMx_-Fj"
      },
      "outputs": [],
      "source": [
        "import os\n",
        "import numpy as np\n",
        "import math\n",
        "import matplotlib.pyplot as plt\n",
        "import sentencepiece as spm\n",
        "\n",
        "import torch\n",
        "import torch.nn as nn\n",
        "import torch.nn.functional as F"
      ]
    },
    {
      "cell_type": "markdown",
      "metadata": {
        "id": "kOnh3BmoCzgh"
      },
      "source": [
        "#### 3. 폴더의 목록을 확인\n",
        "data_dir 목록을 확인 합니다."
      ]
    },
    {
      "cell_type": "code",
      "execution_count": null,
      "metadata": {
        "colab": {
          "base_uri": "https://localhost:8080/"
        },
        "id": "AtSMyMiqC1Zz",
        "outputId": "bb40b460-cf5b-42a1-f060-74ba28cd0009"
      },
      "outputs": [
        {
          "name": "stdout",
          "output_type": "stream",
          "text": [
            "kowiki.model\n",
            "kowiki.vocab\n",
            "kowiki.txt\n"
          ]
        }
      ],
      "source": [
        "for f in os.listdir(data_dir):\n",
        "  print(f)"
      ]
    },
    {
      "cell_type": "markdown",
      "metadata": {
        "id": "8Ly5K7I8DMy0"
      },
      "source": [
        "#### 4. Vocab 및 입력\n",
        "Sentencepiece를 활용해 미리 만든 voca를 로드함  \n",
        ": wiki corpus로 만들어 놓음\n",
        "\n",
        "로딩된 vocab을 이용해 input을 만듭니다."
      ]
    },
    {
      "cell_type": "code",
      "execution_count": null,
      "metadata": {
        "id": "vGT5VapXaPE4"
      },
      "outputs": [],
      "source": [
        "# vocab 만들기\n",
        "import pandas as pd\n",
        "import sentencepiece as spm\n",
        "import csv"
      ]
    },
    {
      "cell_type": "code",
      "execution_count": null,
      "metadata": {
        "colab": {
          "base_uri": "https://localhost:8080/"
        },
        "id": "577bpMkga71T",
        "outputId": "7d8507ab-1314-40cd-e351-9cba6c07e34a"
      },
      "outputs": [
        {
          "data": {
            "text/plain": [
              "True"
            ]
          },
          "execution_count": 9,
          "metadata": {},
          "output_type": "execute_result"
        }
      ],
      "source": [
        "# 모델 로드\n",
        "vocab_file = './data/kowiki.model'\n",
        "vocab = spm.SentencePieceProcessor()\n",
        "vocab.load(vocab_file)"
      ]
    },
    {
      "cell_type": "code",
      "execution_count": null,
      "metadata": {
        "colab": {
          "base_uri": "https://localhost:8080/"
        },
        "id": "O4-mL2KCbcp5",
        "outputId": "0e302168-24f4-417f-d929-030643b5240a"
      },
      "outputs": [
        {
          "name": "stdout",
          "output_type": "stream",
          "text": [
            "['▁여름', '은', '▁더', '워', '요', '.']\n",
            "[2395, 3744, 211, 4081, 3902, 3730]\n",
            "['▁감', '기', '▁조', '심', '하', '세', '요', '.']\n",
            "[199, 3746, 54, 3974, 3736, 3826, 3902, 3730]\n",
            "torch.Size([2, 8])\n",
            "tensor([[2395, 3744,  211, 4081, 3902, 3730,    0,    0],\n",
            "        [ 199, 3746,   54, 3974, 3736, 3826, 3902, 3730]])\n"
          ]
        }
      ],
      "source": [
        "# 문장 작성\n",
        "lines = [\n",
        "    \"여름은 더워요.\",\n",
        "    \"감기 조심하세요.\"\n",
        "]\n",
        "\n",
        "# ecoding : encode_as_ids\n",
        "inputs = []\n",
        "for line in lines:\n",
        "    pieces = vocab.encode_as_pieces(line) # 토큰\n",
        "    ids = vocab.encode_as_ids(line) #ids\n",
        "    inputs.append(torch.tensor(ids))\n",
        "    print(pieces)\n",
        "    print(ids)\n",
        "\n",
        "# 입력 길이에 대해 padding\n",
        "inputs = torch.nn.utils.rnn.pad_sequence(inputs, batch_first=True, padding_value=0)\n",
        "\n",
        "# input 확인\n",
        "print(inputs.size()) # 배치사이즈, 시퀀스 길이=max_lengh\n",
        "print(inputs)"
      ]
    },
    {
      "cell_type": "markdown",
      "metadata": {
        "id": "wOqt_-1p_Z2L"
      },
      "source": [
        "#### 5. Embedding"
      ]
    },
    {
      "cell_type": "markdown",
      "metadata": {
        "id": "aAz1I-mG_dSQ"
      },
      "source": [
        "#### - Input Embedding"
      ]
    },
    {
      "cell_type": "code",
      "execution_count": null,
      "metadata": {
        "colab": {
          "base_uri": "https://localhost:8080/"
        },
        "id": "7bjcpE8Z-208",
        "outputId": "26622471-1641-4005-dfb9-6acffbafb07b"
      },
      "outputs": [
        {
          "name": "stdout",
          "output_type": "stream",
          "text": [
            "8007\n",
            "torch.Size([2, 8, 128])\n"
          ]
        }
      ],
      "source": [
        "n_vocab = len(vocab)\n",
        "print(n_vocab)\n",
        "d_hidn = 128 # 내부에서 쓸 벡터 사이즈\n",
        "nn_emb = nn.Embedding(n_vocab, d_hidn)\n",
        "input_embs = nn_emb(inputs)\n",
        "print(input_embs.size())"
      ]
    },
    {
      "cell_type": "markdown",
      "metadata": {
        "id": "EBriAmpB_cHQ"
      },
      "source": [
        "##### - Position Embedding"
      ]
    },
    {
      "cell_type": "markdown",
      "metadata": {
        "id": "MqOGU9baaPE5"
      },
      "source": [
        "1. 문장의 position 별 angle 값을 구함  \n",
        "2. 구해진 angle 중 짝수 index의 값에 대한 sin 값을 구합니다.  \n",
        "3. 구해진 angle 중 홀수 index의 값에 대한 cos 값을 구합니다."
      ]
    },
    {
      "cell_type": "code",
      "execution_count": null,
      "metadata": {
        "id": "NlCmyZrkPuOX"
      },
      "outputs": [],
      "source": [
        "\"\"\" sinusoid position embedding \"\"\"# 각 포지션 별 앵글값에 따라 sin, cos 계산\n",
        "def get_sinusoid_encoding_table(n_seq, d_hidn):\n",
        "    def cal_angle(position, i_hidn):\n",
        "        return position / np.power(10000, 2 * (i_hidn // 2) / d_hidn)\n",
        "    def get_posi_angle_vec(position):\n",
        "        return [cal_angle(position, i_hidn) for i_hidn in range(d_hidn)]\n",
        "    # 각 postion에 대해 dimension에 때라 angle 값을 구함\n",
        "    sinusoid_table = np.array([get_posi_angle_vec(i_seq) for i_seq in range(n_seq)])\n",
        "    sinusoid_table[:, 0::2] = np.sin(sinusoid_table[:, 0::2]) # 짝수에 해당하는 디맨션\n",
        "    sinusoid_table[:, 1::2] = np.cos(sinusoid_table[:, 1::2]) # 홀수에 해당하는 디맨션\n",
        "\n",
        "    return sinusoid_table"
      ]
    },
    {
      "cell_type": "code",
      "execution_count": null,
      "metadata": {
        "colab": {
          "base_uri": "https://localhost:8080/"
        },
        "id": "x_MrxrxqVyra",
        "outputId": "96c86d7d-0a0d-47db-b4db-da9fa379780c"
      },
      "outputs": [
        {
          "data": {
            "text/plain": [
              "(64, 128)"
            ]
          },
          "execution_count": 14,
          "metadata": {},
          "output_type": "execute_result"
        }
      ],
      "source": [
        "n_seq = 64\n",
        "pos_encoding = get_sinusoid_encoding_table(n_seq, d_hidn)\n",
        "pos_encoding.shape\n",
        "# embedding 그림 출력\n",
        "# plt.pcolormesh(pos_encoding, cmap='RdBu')\n",
        "# plt.xlabel('Depth')\n",
        "# plt.xlim((0, d_hidn))\n",
        "# plt.ylabel('Position')\n",
        "# plt.colorbar()\n",
        "# plt.show()"
      ]
    },
    {
      "cell_type": "code",
      "execution_count": null,
      "metadata": {
        "colab": {
          "base_uri": "https://localhost:8080/",
          "height": 455
        },
        "id": "45QlBA1znlUD",
        "outputId": "456eef50-fdf5-4386-d061-966a5d5c4506"
      },
      "outputs": [
        {
          "data": {
            "image/png": "[encoded data removed]",
            "text/plain": [
              "<Figure size 640x480 with 2 Axes>"
            ]
          },
          "metadata": {},
          "output_type": "display_data"
        }
      ],
      "source": [
        "# embedding 그림 출력\n",
        "plt.pcolormesh(pos_encoding, cmap='RdBu')\n",
        "plt.xlabel('Depth')\n",
        "plt.xlim((0, d_hidn))\n",
        "plt.ylabel('Position')\n",
        "plt.colorbar()\n",
        "plt.show()"
      ]
    },
    {
      "cell_type": "code",
      "execution_count": null,
      "metadata": {
        "colab": {
          "base_uri": "https://localhost:8080/"
        },
        "id": "GmeDRFKqikMy",
        "outputId": "6e191575-6c23-4147-9a6f-eb91e956c0d2"
      },
      "outputs": [
        {
          "name": "stdout",
          "output_type": "stream",
          "text": [
            "torch.Size([2, 8])\n",
            "tensor([[1, 2, 3, 4, 5, 6, 7, 8],\n",
            "        [1, 2, 3, 4, 5, 6, 7, 8]])\n",
            "tensor([[False, False, False, False, False, False,  True,  True],\n",
            "        [False, False, False, False, False, False, False, False]])\n",
            "tensor([[1, 2, 3, 4, 5, 6, 0, 0],\n",
            "        [1, 2, 3, 4, 5, 6, 7, 8]])\n",
            "tensor([[[ 8.4147e-01,  5.4030e-01,  7.6172e-01,  ...,  1.0000e+00,\n",
            "           1.1548e-04,  1.0000e+00],\n",
            "         [ 9.0930e-01, -4.1615e-01,  9.8705e-01,  ...,  1.0000e+00,\n",
            "           2.3096e-04,  1.0000e+00],\n",
            "         [ 1.4112e-01, -9.8999e-01,  5.1731e-01,  ...,  1.0000e+00,\n",
            "           3.4643e-04,  1.0000e+00],\n",
            "         ...,\n",
            "         [-2.7942e-01,  9.6017e-01, -8.8542e-01,  ...,  1.0000e+00,\n",
            "           6.9287e-04,  1.0000e+00],\n",
            "         [ 0.0000e+00,  1.0000e+00,  0.0000e+00,  ...,  1.0000e+00,\n",
            "           0.0000e+00,  1.0000e+00],\n",
            "         [ 0.0000e+00,  1.0000e+00,  0.0000e+00,  ...,  1.0000e+00,\n",
            "           0.0000e+00,  1.0000e+00]],\n",
            "\n",
            "        [[ 8.4147e-01,  5.4030e-01,  7.6172e-01,  ...,  1.0000e+00,\n",
            "           1.1548e-04,  1.0000e+00],\n",
            "         [ 9.0930e-01, -4.1615e-01,  9.8705e-01,  ...,  1.0000e+00,\n",
            "           2.3096e-04,  1.0000e+00],\n",
            "         [ 1.4112e-01, -9.8999e-01,  5.1731e-01,  ...,  1.0000e+00,\n",
            "           3.4643e-04,  1.0000e+00],\n",
            "         ...,\n",
            "         [-2.7942e-01,  9.6017e-01, -8.8542e-01,  ...,  1.0000e+00,\n",
            "           6.9287e-04,  1.0000e+00],\n",
            "         [ 6.5699e-01,  7.5390e-01, -2.1963e-01,  ...,  1.0000e+00,\n",
            "           8.0835e-04,  1.0000e+00],\n",
            "         [ 9.8936e-01, -1.4550e-01,  6.0082e-01,  ...,  1.0000e+00,\n",
            "           9.2383e-04,  1.0000e+00]]])\n",
            "torch.Size([2, 8, 128])\n"
          ]
        }
      ],
      "source": [
        "# position embedding 구성\n",
        "pos_encoding = torch.FloatTensor(pos_encoding)\n",
        "nn_pos = nn.Embedding.from_pretrained(pos_encoding, freeze= True)\n",
        "\n",
        "print(inputs.size())\n",
        "#position masking 하기\n",
        "positions= torch.arange(inputs.size(1), device=inputs.device, dtype=inputs.dtype).expand(inputs.size(0), inputs.size(1)).contiguous() + 1 # 인풋값의 포지션과 똑같은 데이터를 만들기\n",
        "print(positions)\n",
        "\n",
        "pos_mask = inputs.eq(0) # 패딩을 찾는 method\n",
        "print(pos_mask)\n",
        "\n",
        "positions.masked_fill_(pos_mask, 0) # True 인 부분을 0으로 바꿔주기\n",
        "print(positions)\n",
        "pos_embs = nn_pos(positions)\n",
        "print(pos_embs)\n",
        "print(pos_embs.size())"
      ]
    },
    {
      "cell_type": "code",
      "execution_count": null,
      "metadata": {
        "colab": {
          "base_uri": "https://localhost:8080/"
        },
        "id": "ZX63wiFfruY7",
        "outputId": "36e7b4e6-3812-43c3-cd34-c9a202eef4dd"
      },
      "outputs": [
        {
          "name": "stdout",
          "output_type": "stream",
          "text": [
            "tensor([[[ 2.7659, -0.1473,  0.8363,  ...,  0.4827,  0.4569,  1.7397],\n",
            "         [ 0.9082, -1.4718,  1.5857,  ...,  0.3003, -1.0929,  1.6831],\n",
            "         [ 0.6097, -1.0963,  2.9839,  ...,  1.2536,  0.6117,  1.5453],\n",
            "         ...,\n",
            "         [-0.4421,  1.8075, -0.4710,  ...,  3.5239, -1.4905, -0.4633],\n",
            "         [-0.2665,  1.5177,  1.8985,  ...,  3.0449,  0.5095,  2.5040],\n",
            "         [-0.2665,  1.5177,  1.8985,  ...,  3.0449,  0.5095,  2.5040]],\n",
            "\n",
            "        [[-2.2270,  0.1558, -0.4387,  ...,  0.4462, -0.1343,  2.1542],\n",
            "         [ 0.6010, -2.4929,  1.0810,  ...,  1.1188, -0.2239,  0.4621],\n",
            "         [-0.0309, -0.0280,  0.3750,  ...,  1.6910,  0.8418,  0.9649],\n",
            "         ...,\n",
            "         [-0.2172,  2.0274, -0.2276,  ...,  0.2962, -0.0060,  0.1345],\n",
            "         [ 0.8739,  1.9905, -1.2672,  ...,  2.8025, -1.3227, -0.0977],\n",
            "         [ 0.8266,  0.7019,  1.0152,  ...,  3.5239, -1.4903, -0.4633]]],\n",
            "       grad_fn=<AddBackward0>)\n",
            "torch.Size([2, 8, 128])\n"
          ]
        }
      ],
      "source": [
        "# 초기 input 값 구성\n",
        "input_sums = input_embs + pos_embs\n",
        "print(input_sums)\n",
        "print(input_sums.size())"
      ]
    },
    {
      "cell_type": "markdown",
      "metadata": {
        "id": "rOYl2XUyt2xc"
      },
      "source": [
        "#### 6. Scale Dot Product Attention"
      ]
    },
    {
      "cell_type": "markdown",
      "metadata": {
        "id": "Exfnhn9vA1fl"
      },
      "source": [
        "##### Input"
      ]
    },
    {
      "cell_type": "code",
      "execution_count": null,
      "metadata": {
        "colab": {
          "base_uri": "https://localhost:8080/"
        },
        "id": "aaUTzxeSunt9",
        "outputId": "578fd71d-21f5-48f3-bed6-b6de60c7f5ca"
      },
      "outputs": [
        {
          "name": "stdout",
          "output_type": "stream",
          "text": [
            "tensor([[[False, False, False, False, False, False,  True,  True],\n",
            "         [False, False, False, False, False, False,  True,  True],\n",
            "         [False, False, False, False, False, False,  True,  True],\n",
            "         [False, False, False, False, False, False,  True,  True],\n",
            "         [False, False, False, False, False, False,  True,  True],\n",
            "         [False, False, False, False, False, False,  True,  True],\n",
            "         [False, False, False, False, False, False,  True,  True],\n",
            "         [False, False, False, False, False, False,  True,  True]],\n",
            "\n",
            "        [[False, False, False, False, False, False, False, False],\n",
            "         [False, False, False, False, False, False, False, False],\n",
            "         [False, False, False, False, False, False, False, False],\n",
            "         [False, False, False, False, False, False, False, False],\n",
            "         [False, False, False, False, False, False, False, False],\n",
            "         [False, False, False, False, False, False, False, False],\n",
            "         [False, False, False, False, False, False, False, False],\n",
            "         [False, False, False, False, False, False, False, False]]])\n",
            "torch.Size([2, 8, 8])\n"
          ]
        }
      ],
      "source": [
        "# input 입력 값을 만드는 과정\n",
        "Q = input_sums\n",
        "K = input_sums\n",
        "V = input_sums\n",
        "\n",
        "# attention에 대한 masking 구성\n",
        "attn_mask = inputs.eq(0).unsqueeze(1).expand(Q.size(0), Q.size(1), K.size(1)) # unsqueeze 차원 추가 함수 # expand 원하는 형태로 사이즈? 추가 하는 함수\n",
        "print(attn_mask)\n",
        "print(attn_mask.size())"
      ]
    },
    {
      "cell_type": "markdown",
      "metadata": {
        "id": "st1N5098A7e1"
      },
      "source": [
        "##### Q * K-transpose"
      ]
    },
    {
      "cell_type": "code",
      "execution_count": null,
      "metadata": {
        "colab": {
          "base_uri": "https://localhost:8080/"
        },
        "id": "DQmtb8hcxK1k",
        "outputId": "85e2723b-1c29-4bab-da09-d4a411867006"
      },
      "outputs": [
        {
          "name": "stdout",
          "output_type": "stream",
          "text": [
            "tensor([[[ 2.7659, -0.1473,  0.8363,  ...,  0.4827,  0.4569,  1.7397],\n",
            "         [ 0.9082, -1.4718,  1.5857,  ...,  0.3003, -1.0929,  1.6831],\n",
            "         [ 0.6097, -1.0963,  2.9839,  ...,  1.2536,  0.6117,  1.5453],\n",
            "         ...,\n",
            "         [-0.4421,  1.8075, -0.4710,  ...,  3.5239, -1.4905, -0.4633],\n",
            "         [-0.2665,  1.5177,  1.8985,  ...,  3.0449,  0.5095,  2.5040],\n",
            "         [-0.2665,  1.5177,  1.8985,  ...,  3.0449,  0.5095,  2.5040]],\n",
            "\n",
            "        [[-2.2270,  0.1558, -0.4387,  ...,  0.4462, -0.1343,  2.1542],\n",
            "         [ 0.6010, -2.4929,  1.0810,  ...,  1.1188, -0.2239,  0.4621],\n",
            "         [-0.0309, -0.0280,  0.3750,  ...,  1.6910,  0.8418,  0.9649],\n",
            "         ...,\n",
            "         [-0.2172,  2.0274, -0.2276,  ...,  0.2962, -0.0060,  0.1345],\n",
            "         [ 0.8739,  1.9905, -1.2672,  ...,  2.8025, -1.3227, -0.0977],\n",
            "         [ 0.8266,  0.7019,  1.0152,  ...,  3.5239, -1.4903, -0.4633]]],\n",
            "       grad_fn=<AddBackward0>)\n",
            "tensor([[[ 2.7659,  0.9082,  0.6097,  ..., -0.4421, -0.2665, -0.2665],\n",
            "         [-0.1473, -1.4718, -1.0963,  ...,  1.8075,  1.5177,  1.5177],\n",
            "         [ 0.8363,  1.5857,  2.9839,  ..., -0.4710,  1.8985,  1.8985],\n",
            "         ...,\n",
            "         [ 0.4827,  0.3003,  1.2536,  ...,  3.5239,  3.0449,  3.0449],\n",
            "         [ 0.4569, -1.0929,  0.6117,  ..., -1.4905,  0.5095,  0.5095],\n",
            "         [ 1.7397,  1.6831,  1.5453,  ..., -0.4633,  2.5040,  2.5040]],\n",
            "\n",
            "        [[-2.2270,  0.6010, -0.0309,  ..., -0.2172,  0.8739,  0.8266],\n",
            "         [ 0.1558, -2.4929, -0.0280,  ...,  2.0274,  1.9905,  0.7019],\n",
            "         [-0.4387,  1.0810,  0.3750,  ..., -0.2276, -1.2672,  1.0152],\n",
            "         ...,\n",
            "         [ 0.4462,  1.1188,  1.6910,  ...,  0.2962,  2.8025,  3.5239],\n",
            "         [-0.1343, -0.2239,  0.8418,  ..., -0.0060, -1.3227, -1.4903],\n",
            "         [ 2.1542,  0.4621,  0.9649,  ...,  0.1345, -0.0977, -0.4633]]],\n",
            "       grad_fn=<TransposeBackward0>)\n",
            "tensor([[[196.2797,  61.7450,  51.7809,  35.6592,  43.4279,  38.9781,  50.3413,\n",
            "           50.3413],\n",
            "         [ 61.7450, 178.5457,  76.4527,  49.5794,  23.1926,  46.1941,  42.5682,\n",
            "           42.5682],\n",
            "         [ 51.7809,  76.4527, 202.6478,  67.3487,  50.2103,  58.4078,  84.1829,\n",
            "           84.1829],\n",
            "         [ 35.6592,  49.5794,  67.3487, 188.1407,  49.3299,  46.1594,  53.4510,\n",
            "           53.4510],\n",
            "         [ 43.4279,  23.1926,  50.2103,  49.3299, 207.3092,  67.4095,  43.5561,\n",
            "           43.5561],\n",
            "         [ 38.9781,  46.1941,  58.4078,  46.1594,  67.4095, 222.3012,  44.0271,\n",
            "           44.0271],\n",
            "         [ 50.3413,  42.5682,  84.1829,  53.4510,  43.5561,  44.0271, 210.1024,\n",
            "          210.1024],\n",
            "         [ 50.3413,  42.5682,  84.1829,  53.4510,  43.5561,  44.0271, 210.1024,\n",
            "          210.1024]],\n",
            "\n",
            "        [[198.3164,  31.8959,  59.9729,  19.2816,  34.9660,  57.3971,  37.0485,\n",
            "           51.5742],\n",
            "         [ 31.8959, 158.8106,  41.0381,  45.5497,  32.1303,  36.4459,  41.0932,\n",
            "           59.7390],\n",
            "         [ 59.9729,  41.0381, 173.3981,  52.2944,  73.3228,  46.3167,  45.9425,\n",
            "           68.9217],\n",
            "         [ 19.2816,  45.5497,  52.2944, 181.2990, 102.4963,  58.2236,  65.7314,\n",
            "           43.5500],\n",
            "         [ 34.9660,  32.1303,  73.3228, 102.4963, 243.9999,  84.7162,  57.4725,\n",
            "           58.2556],\n",
            "         [ 57.3971,  36.4459,  46.3167,  58.2236,  84.7162, 197.1459,  73.8895,\n",
            "           62.7386],\n",
            "         [ 37.0485,  41.0932,  45.9425,  65.7314,  57.4725,  73.8895, 207.8671,\n",
            "           63.2381],\n",
            "         [ 51.5742,  59.7390,  68.9217,  43.5500,  58.2556,  62.7386,  63.2381,\n",
            "          220.6524]]], grad_fn=<UnsafeViewBackward0>)\n",
            "torch.Size([2, 8, 8])\n"
          ]
        }
      ],
      "source": [
        "# Q * K 내적\n",
        "# q.size = (2, 8, 128)\n",
        "# k.size = (2, 8, 128)\n",
        "scores = torch.matmul(Q, K.transpose(-1, -2))\n",
        "print(K)\n",
        "print(K.transpose(-1, -2))\n",
        "print(scores)\n",
        "print(scores.size())"
      ]
    },
    {
      "cell_type": "markdown",
      "metadata": {
        "id": "2e7jrCXpBCyS"
      },
      "source": [
        "##### Scale"
      ]
    },
    {
      "cell_type": "code",
      "execution_count": null,
      "metadata": {
        "colab": {
          "base_uri": "https://localhost:8080/"
        },
        "id": "tS_LXRbY5hcK",
        "outputId": "0668259f-1398-4ceb-ba13-1e3694679e43"
      },
      "outputs": [
        {
          "name": "stdout",
          "output_type": "stream",
          "text": [
            "tensor([[[24.5350,  7.7181,  6.4726,  4.4574,  5.4285,  4.8723,  6.2927,\n",
            "           6.2927],\n",
            "         [ 7.7181, 22.3182,  9.5566,  6.1974,  2.8991,  5.7743,  5.3210,\n",
            "           5.3210],\n",
            "         [ 6.4726,  9.5566, 25.3310,  8.4186,  6.2763,  7.3010, 10.5229,\n",
            "          10.5229],\n",
            "         [ 4.4574,  6.1974,  8.4186, 23.5176,  6.1662,  5.7699,  6.6814,\n",
            "           6.6814],\n",
            "         [ 5.4285,  2.8991,  6.2763,  6.1662, 25.9136,  8.4262,  5.4445,\n",
            "           5.4445],\n",
            "         [ 4.8723,  5.7743,  7.3010,  5.7699,  8.4262, 27.7877,  5.5034,\n",
            "           5.5034],\n",
            "         [ 6.2927,  5.3210, 10.5229,  6.6814,  5.4445,  5.5034, 26.2628,\n",
            "          26.2628],\n",
            "         [ 6.2927,  5.3210, 10.5229,  6.6814,  5.4445,  5.5034, 26.2628,\n",
            "          26.2628]],\n",
            "\n",
            "        [[24.7896,  3.9870,  7.4966,  2.4102,  4.3707,  7.1746,  4.6311,\n",
            "           6.4468],\n",
            "         [ 3.9870, 19.8513,  5.1298,  5.6937,  4.0163,  4.5557,  5.1366,\n",
            "           7.4674],\n",
            "         [ 7.4966,  5.1298, 21.6748,  6.5368,  9.1654,  5.7896,  5.7428,\n",
            "           8.6152],\n",
            "         [ 2.4102,  5.6937,  6.5368, 22.6624, 12.8120,  7.2780,  8.2164,\n",
            "           5.4438],\n",
            "         [ 4.3707,  4.0163,  9.1654, 12.8120, 30.5000, 10.5895,  7.1841,\n",
            "           7.2819],\n",
            "         [ 7.1746,  4.5557,  5.7896,  7.2780, 10.5895, 24.6432,  9.2362,\n",
            "           7.8423],\n",
            "         [ 4.6311,  5.1366,  5.7428,  8.2164,  7.1841,  9.2362, 25.9834,\n",
            "           7.9048],\n",
            "         [ 6.4468,  7.4674,  8.6152,  5.4438,  7.2819,  7.8423,  7.9048,\n",
            "          27.5816]]], grad_fn=<MulBackward0>)\n",
            "torch.Size([2, 8, 8])\n"
          ]
        }
      ],
      "source": [
        "# scaled dot\n",
        "d_head = 64 # 헤드 별 hidden size (D_hidn / N_head) N_head : 2\n",
        "scores = scores.mul_(1/d_head**0.5)\n",
        "print(scores)\n",
        "print(scores.size())"
      ]
    },
    {
      "cell_type": "markdown",
      "metadata": {
        "id": "lnQ7phqTBGJG"
      },
      "source": [
        "##### Mask (Opt.)"
      ]
    },
    {
      "cell_type": "code",
      "execution_count": null,
      "metadata": {
        "colab": {
          "base_uri": "https://localhost:8080/"
        },
        "id": "BENnRJdKxits",
        "outputId": "c11c0bf4-7cfc-4bb8-be54-b5806ff0fd53"
      },
      "outputs": [
        {
          "name": "stdout",
          "output_type": "stream",
          "text": [
            "tensor([[[ 2.4535e+01,  7.7181e+00,  6.4726e+00,  4.4574e+00,  5.4285e+00,\n",
            "           4.8723e+00, -1.0000e+09, -1.0000e+09],\n",
            "         [ 7.7181e+00,  2.2318e+01,  9.5566e+00,  6.1974e+00,  2.8991e+00,\n",
            "           5.7743e+00, -1.0000e+09, -1.0000e+09],\n",
            "         [ 6.4726e+00,  9.5566e+00,  2.5331e+01,  8.4186e+00,  6.2763e+00,\n",
            "           7.3010e+00, -1.0000e+09, -1.0000e+09],\n",
            "         [ 4.4574e+00,  6.1974e+00,  8.4186e+00,  2.3518e+01,  6.1662e+00,\n",
            "           5.7699e+00, -1.0000e+09, -1.0000e+09],\n",
            "         [ 5.4285e+00,  2.8991e+00,  6.2763e+00,  6.1662e+00,  2.5914e+01,\n",
            "           8.4262e+00, -1.0000e+09, -1.0000e+09],\n",
            "         [ 4.8723e+00,  5.7743e+00,  7.3010e+00,  5.7699e+00,  8.4262e+00,\n",
            "           2.7788e+01, -1.0000e+09, -1.0000e+09],\n",
            "         [ 6.2927e+00,  5.3210e+00,  1.0523e+01,  6.6814e+00,  5.4445e+00,\n",
            "           5.5034e+00, -1.0000e+09, -1.0000e+09],\n",
            "         [ 6.2927e+00,  5.3210e+00,  1.0523e+01,  6.6814e+00,  5.4445e+00,\n",
            "           5.5034e+00, -1.0000e+09, -1.0000e+09]],\n",
            "\n",
            "        [[ 2.4790e+01,  3.9870e+00,  7.4966e+00,  2.4102e+00,  4.3707e+00,\n",
            "           7.1746e+00,  4.6311e+00,  6.4468e+00],\n",
            "         [ 3.9870e+00,  1.9851e+01,  5.1298e+00,  5.6937e+00,  4.0163e+00,\n",
            "           4.5557e+00,  5.1366e+00,  7.4674e+00],\n",
            "         [ 7.4966e+00,  5.1298e+00,  2.1675e+01,  6.5368e+00,  9.1654e+00,\n",
            "           5.7896e+00,  5.7428e+00,  8.6152e+00],\n",
            "         [ 2.4102e+00,  5.6937e+00,  6.5368e+00,  2.2662e+01,  1.2812e+01,\n",
            "           7.2780e+00,  8.2164e+00,  5.4438e+00],\n",
            "         [ 4.3707e+00,  4.0163e+00,  9.1654e+00,  1.2812e+01,  3.0500e+01,\n",
            "           1.0590e+01,  7.1841e+00,  7.2819e+00],\n",
            "         [ 7.1746e+00,  4.5557e+00,  5.7896e+00,  7.2780e+00,  1.0590e+01,\n",
            "           2.4643e+01,  9.2362e+00,  7.8423e+00],\n",
            "         [ 4.6311e+00,  5.1366e+00,  5.7428e+00,  8.2164e+00,  7.1841e+00,\n",
            "           9.2362e+00,  2.5983e+01,  7.9048e+00],\n",
            "         [ 6.4468e+00,  7.4674e+00,  8.6152e+00,  5.4438e+00,  7.2819e+00,\n",
            "           7.8423e+00,  7.9048e+00,  2.7582e+01]]],\n",
            "       grad_fn=<MaskedFillBackward0>)\n",
            "torch.Size([2, 8, 8])\n"
          ]
        }
      ],
      "source": [
        "# masking\n",
        "scores.masked_fill_(attn_mask, -1e9) # 엄청 작은 숫자로 가중치를 줌\n",
        "print(scores)\n",
        "print(scores.size())"
      ]
    },
    {
      "cell_type": "markdown",
      "metadata": {
        "id": "GaAzVRmhBJ3B"
      },
      "source": [
        "##### Softmax"
      ]
    },
    {
      "cell_type": "code",
      "execution_count": null,
      "metadata": {
        "colab": {
          "base_uri": "https://localhost:8080/"
        },
        "id": "HKl9riPRxqkj",
        "outputId": "f1e19df7-d9c2-4a40-d050-2a47afa7b890"
      },
      "outputs": [
        {
          "name": "stdout",
          "output_type": "stream",
          "text": [
            "torch.Size([2, 8, 8])\n",
            "tensor([[[1.0000e+00, 4.9721e-08, 1.4309e-08, 1.9073e-09, 5.0369e-09,\n",
            "          2.8880e-09, 0.0000e+00, 0.0000e+00],\n",
            "         [4.5631e-07, 1.0000e+00, 2.8688e-06, 9.9731e-08, 3.6845e-09,\n",
            "          6.5322e-08, 0.0000e+00, 0.0000e+00],\n",
            "         [6.4553e-09, 1.4102e-07, 1.0000e+00, 4.5190e-08, 5.3046e-09,\n",
            "          1.4780e-08, 0.0000e+00, 0.0000e+00],\n",
            "         [5.2755e-09, 3.0057e-08, 2.7707e-07, 1.0000e+00, 2.9134e-08,\n",
            "          1.9601e-08, 0.0000e+00, 0.0000e+00],\n",
            "         [1.2689e-09, 1.0114e-10, 2.9621e-09, 2.6534e-09, 1.0000e+00,\n",
            "          2.5427e-08, 0.0000e+00, 0.0000e+00],\n",
            "         [1.1168e-10, 2.7524e-10, 1.2669e-09, 2.7404e-10, 3.9032e-09,\n",
            "          1.0000e+00, 0.0000e+00, 0.0000e+00],\n",
            "         [1.3799e-02, 5.2226e-03, 9.4845e-01, 2.0355e-02, 5.9090e-03,\n",
            "          6.2674e-03, 0.0000e+00, 0.0000e+00],\n",
            "         [1.3799e-02, 5.2226e-03, 9.4845e-01, 2.0355e-02, 5.9090e-03,\n",
            "          6.2674e-03, 0.0000e+00, 0.0000e+00]],\n",
            "\n",
            "        [[1.0000e+00, 9.2377e-10, 3.0887e-08, 1.9088e-10, 1.3559e-09,\n",
            "          2.2384e-08, 1.7591e-09, 1.0810e-08],\n",
            "         [1.2888e-07, 9.9999e-01, 4.0411e-07, 7.1027e-07, 1.3272e-07,\n",
            "          2.2762e-07, 4.0690e-07, 4.1852e-06],\n",
            "         [6.9583e-07, 6.5252e-08, 9.9999e-01, 2.6648e-07, 3.6917e-06,\n",
            "          1.2623e-07, 1.2046e-07, 2.1297e-06],\n",
            "         [1.6017e-09, 4.2715e-08, 9.9250e-08, 9.9995e-01, 5.2727e-05,\n",
            "          2.0826e-07, 5.3233e-07, 3.3268e-08],\n",
            "         [4.4897e-12, 3.1497e-12, 5.4261e-10, 2.0807e-08, 1.0000e+00,\n",
            "          2.2542e-09, 7.4821e-11, 8.2515e-11],\n",
            "         [2.5911e-08, 1.8885e-09, 6.4858e-09, 2.8731e-08, 7.8804e-07,\n",
            "          1.0000e+00, 2.0361e-07, 5.0519e-08],\n",
            "         [5.3309e-10, 8.8384e-10, 1.6204e-09, 1.9227e-08, 6.8479e-09,\n",
            "          5.3307e-08, 1.0000e+00, 1.4078e-08],\n",
            "         [6.6265e-10, 1.8387e-09, 5.7946e-09, 2.4304e-10, 1.5275e-09,\n",
            "          2.6752e-09, 2.8476e-09, 1.0000e+00]]], grad_fn=<SoftmaxBackward0>)\n"
          ]
        }
      ],
      "source": [
        "# softmax 적용\n",
        "attn_prob = nn.Softmax(dim=-1)(scores)\n",
        "print(attn_prob.size())\n",
        "print(attn_prob)"
      ]
    },
    {
      "cell_type": "markdown",
      "metadata": {
        "id": "h-MwaJ1oBNOe"
      },
      "source": [
        "##### atten_prov * V"
      ]
    },
    {
      "cell_type": "code",
      "execution_count": null,
      "metadata": {
        "colab": {
          "base_uri": "https://localhost:8080/"
        },
        "id": "P2aRJH-Rxyq8",
        "outputId": "a8be9cb3-bc50-4db2-8183-0021abb60e9b"
      },
      "outputs": [
        {
          "name": "stdout",
          "output_type": "stream",
          "text": [
            "torch.Size([2, 8, 128])\n",
            "tensor([[[ 2.7659, -0.1473,  0.8363,  ...,  0.4827,  0.4569,  1.7397],\n",
            "         [ 0.9082, -1.4718,  1.5857,  ...,  0.3003, -1.0929,  1.6831],\n",
            "         [ 0.6097, -1.0963,  2.9839,  ...,  1.2536,  0.6117,  1.5453],\n",
            "         ...,\n",
            "         [-0.4421,  1.8075, -0.4710,  ...,  3.5239, -1.4905, -0.4633],\n",
            "         [ 0.5737, -1.0372,  2.8316,  ...,  1.2445,  0.5755,  1.5000],\n",
            "         [ 0.5737, -1.0372,  2.8316,  ...,  1.2445,  0.5755,  1.5000]],\n",
            "\n",
            "        [[-2.2270,  0.1558, -0.4387,  ...,  0.4462, -0.1343,  2.1542],\n",
            "         [ 0.6010, -2.4929,  1.0810,  ...,  1.1188, -0.2239,  0.4621],\n",
            "         [-0.0309, -0.0280,  0.3750,  ...,  1.6910,  0.8418,  0.9649],\n",
            "         ...,\n",
            "         [-0.2172,  2.0274, -0.2276,  ...,  0.2962, -0.0060,  0.1345],\n",
            "         [ 0.8739,  1.9905, -1.2672,  ...,  2.8025, -1.3227, -0.0977],\n",
            "         [ 0.8266,  0.7019,  1.0152,  ...,  3.5239, -1.4903, -0.4633]]],\n",
            "       grad_fn=<UnsafeViewBackward0>)\n"
          ]
        }
      ],
      "source": [
        "context = torch.matmul(attn_prob, V)\n",
        "print(context.size())\n",
        "print(context)"
      ]
    },
    {
      "cell_type": "markdown",
      "metadata": {
        "id": "WR0Wh1ORBRJK"
      },
      "source": [
        "##### Implementation Class"
      ]
    },
    {
      "cell_type": "code",
      "execution_count": null,
      "metadata": {
        "id": "EkXGHazDt1rb"
      },
      "outputs": [],
      "source": [
        "\"\"\" scale dot product attention \"\"\"\n",
        "class ScaledDotProductAttention(nn.Module):\n",
        "    def __init__(self, d_head):\n",
        "        super().__init__()\n",
        "        self.scale = 1 / (d_head**0.5)  # 스케일링 계수 설정\n",
        "\n",
        "    def forward(self, Q, K, V, attn_mask):\n",
        "        scores = torch.matmul(Q, K.transpose(-1, -2)).mul_(self.scale)  # 점곱 계산 # 스케일링 적용\n",
        "\n",
        "        scores.masked_fill_(attn_mask, -1e9)  # 마스킹\n",
        "\n",
        "        attn_prob = nn.Softmax(dim=-1)(scores)  # Softmax 계산\n",
        "        context = torch.matmul(attn_prob, V)  # 가중 평균 계산\n",
        "\n",
        "        return context, attn_prob\n"
      ]
    },
    {
      "cell_type": "markdown",
      "metadata": {
        "id": "yK38SMqGsiXL"
      },
      "source": [
        "#### 7. Multi-Head Attention"
      ]
    },
    {
      "cell_type": "markdown",
      "metadata": {
        "id": "i7F4mEgmBjuw"
      },
      "source": [
        "##### Input"
      ]
    },
    {
      "cell_type": "code",
      "execution_count": null,
      "metadata": {
        "colab": {
          "base_uri": "https://localhost:8080/"
        },
        "id": "rZyMvxiathB-",
        "outputId": "c3bd25f7-51ea-4a44-c5bb-d709fa18e1df"
      },
      "outputs": [
        {
          "name": "stdout",
          "output_type": "stream",
          "text": [
            "torch.Size([2, 8, 8])\n"
          ]
        }
      ],
      "source": [
        "Q = input_sums\n",
        "K = input_sums\n",
        "V = input_sums\n",
        "\n",
        "# masking 만들기\n",
        "attn_mask = inputs.eq(0).unsqueeze(1).expand(Q.size(0), Q.size(1), K.size(1)) # unsqueeze : 인풋에 대한 차원을 맞춰줌\n",
        "print(attn_mask.size())\n",
        "\n",
        "batch_size = Q.size(0)\n",
        "n_head = 2"
      ]
    },
    {
      "cell_type": "markdown",
      "metadata": {
        "id": "Mly3n1YcBnR7"
      },
      "source": [
        "##### Multi Head Q, K, V"
      ]
    },
    {
      "cell_type": "code",
      "execution_count": null,
      "metadata": {
        "colab": {
          "base_uri": "https://localhost:8080/"
        },
        "id": "Pes5Jait2EXR",
        "outputId": "b7d3fc75-980c-4536-8e77-69fd1ddbe2d8"
      },
      "outputs": [
        {
          "name": "stdout",
          "output_type": "stream",
          "text": [
            "torch.Size([2, 8, 128])\n",
            "torch.Size([2, 8, 2, 64])\n",
            "torch.Size([2, 2, 8, 64])\n"
          ]
        }
      ],
      "source": [
        "# 멀티 헤드 수에 맞게 linear 구성\n",
        "W_Q = nn.Linear(d_hidn, n_head * d_head)\n",
        "W_K = nn.Linear(d_hidn, n_head * d_head)\n",
        "W_V = nn.Linear(d_hidn, n_head * d_head)"
      ]
    },
    {
      "cell_type": "code",
      "execution_count": null,
      "metadata": {
        "colab": {
          "base_uri": "https://localhost:8080/"
        },
        "id": "oW9s0Oam3ZeG",
        "outputId": "11aec985-7921-4565-f1a3-e8602154b84a"
      },
      "outputs": [
        {
          "name": "stdout",
          "output_type": "stream",
          "text": [
            "torch.Size([2, 8, 128])\n",
            "torch.Size([2, 8, 2, 64])\n",
            "torch.Size([2, 2, 8, 64])\n",
            "=========================\n",
            "torch.Size([2, 8, 128])\n",
            "torch.Size([2, 8, 2, 64])\n",
            "torch.Size([2, 2, 8, 64])\n",
            "=========================\n",
            "torch.Size([2, 8, 128])\n",
            "torch.Size([2, 8, 2, 64])\n",
            "torch.Size([2, 2, 8, 64])\n"
          ]
        }
      ],
      "source": [
        "# 멀티 헤드 수에 맞게 변경 -> Q, K, V 모두\n",
        "q_s = W_Q(Q)\n",
        "print(q_s.size())\n",
        "q_s = q_s.view(batch_size, -1, n_head, d_head) # -1 차원을 잘 모르겠으니 임의로 넣겠다는 뜻\n",
        "print(q_s.size())\n",
        "q_s = q_s.transpose(1, 2)\n",
        "print(q_s.size())\n",
        "print(\"=========================\")\n",
        "k_s = W_Q(K)\n",
        "print(k_s.size())\n",
        "k_s = k_s.view(batch_size, -1, n_head, d_head) # -1 차원을 잘 모르겠으니 임의로 넣겠다는 뜻\n",
        "print(k_s.size())\n",
        "k_s = k_s.transpose(1, 2)\n",
        "print(k_s.size())\n",
        "print(\"=========================\")\n",
        "v_s = W_Q(V)\n",
        "print(v_s.size())\n",
        "v_s = v_s.view(batch_size, -1, n_head, d_head) # -1 차원을 잘 모르겠으니 임의로 넣겠다는 뜻\n",
        "print(v_s.size())\n",
        "v_s = v_s.transpose(1, 2)\n",
        "print(v_s.size())"
      ]
    },
    {
      "cell_type": "code",
      "execution_count": null,
      "metadata": {
        "id": "eWk_257dWw3I"
      },
      "outputs": [],
      "source": [
        "# 간결하게 작성하기\n",
        "q_s = W_Q(Q).view(batch_size, -1, n_head, d_head).transpose(1, 2)\n",
        "k_s = W_Q(K).view(batch_size, -1, n_head, d_head).transpose(1, 2)\n",
        "v_s = W_Q(V).view(batch_size, -1, n_head, d_head).transpose(1, 2)"
      ]
    },
    {
      "cell_type": "markdown",
      "metadata": {
        "id": "u73qrnhfBsYR"
      },
      "source": [
        "##### Multi Head Attention Mask"
      ]
    },
    {
      "cell_type": "code",
      "execution_count": null,
      "metadata": {
        "colab": {
          "base_uri": "https://localhost:8080/"
        },
        "id": "n9ItmgzN32fr",
        "outputId": "1cf007b8-24a6-4eb2-e5c9-68f4eaa737c0"
      },
      "outputs": [
        {
          "name": "stdout",
          "output_type": "stream",
          "text": [
            "torch.Size([2, 8, 8])\n",
            "torch.Size([2, 2, 8, 8])\n"
          ]
        }
      ],
      "source": [
        "# Mask도 변경 (2, 2, 8, 8)\n",
        "print(attn_mask.size())\n",
        "attn_mask = attn_mask.unsqueeze(1).repeat(1, n_head, 1, 1)\n",
        "print(attn_mask.size())"
      ]
    },
    {
      "cell_type": "markdown",
      "metadata": {
        "id": "ubh168SyBxnw"
      },
      "source": [
        "##### Attention"
      ]
    },
    {
      "cell_type": "code",
      "execution_count": null,
      "metadata": {
        "colab": {
          "base_uri": "https://localhost:8080/"
        },
        "id": "ufWp4KXo6yyi",
        "outputId": "286a5ec9-f811-426f-bf79-01eef6789de5"
      },
      "outputs": [
        {
          "name": "stdout",
          "output_type": "stream",
          "text": [
            "torch.Size([2, 2, 8, 64])\n",
            "torch.Size([2, 2, 8, 8])\n"
          ]
        }
      ],
      "source": [
        "# ScaledDotProductAttention 클래스 생성\n",
        "scaled_dot_attn = ScaledDotProductAttention(d_head)\n",
        "\n",
        "# 입력 데이터와 마스킹을 통해 어텐션 연산 수행\n",
        "context, attn_prob = scaled_dot_attn(q_s, k_s, v_s, attn_mask)\n",
        "\n",
        "print(context.size())  # 결과 context의 형태 출력\n",
        "print(attn_prob.size())  # 어텐션 확률의 형태 출력"
      ]
    },
    {
      "cell_type": "markdown",
      "metadata": {
        "id": "0zRmgcEfB1lM"
      },
      "source": [
        "##### Concat"
      ]
    },
    {
      "cell_type": "code",
      "execution_count": null,
      "metadata": {
        "colab": {
          "base_uri": "https://localhost:8080/"
        },
        "id": "EjQQPFsn7U8q",
        "outputId": "d406349c-0137-40b3-b65d-5abcb5b7cbc7"
      },
      "outputs": [
        {
          "data": {
            "text/plain": [
              "torch.Size([2, 8, 128])"
            ]
          },
          "execution_count": 69,
          "metadata": {},
          "output_type": "execute_result"
        }
      ],
      "source": [
        "# [2, 8, 128] n_head, d_head\n",
        "context = context.transpose(1, 2).contiguous().view(batch_size, -1, n_head * d_head)\n",
        "context.size()"
      ]
    },
    {
      "cell_type": "markdown",
      "metadata": {
        "id": "6bxvZK6uB4WS"
      },
      "source": [
        "##### Linear"
      ]
    },
    {
      "cell_type": "code",
      "execution_count": null,
      "metadata": {
        "colab": {
          "base_uri": "https://localhost:8080/"
        },
        "id": "kz3C9ABv7st1",
        "outputId": "ffeee72c-d15e-49da-da70-cb4dd5c17556"
      },
      "outputs": [
        {
          "name": "stdout",
          "output_type": "stream",
          "text": [
            "torch.Size([2, 8, 128])\n",
            "tensor([[[-0.1667, -0.2598,  0.3189,  ..., -0.5153, -0.2599, -0.5105],\n",
            "         [ 0.1287,  0.1391, -0.3367,  ..., -0.3575, -0.3982, -0.1572],\n",
            "         [-0.4509, -0.1028, -0.1991,  ..., -0.1937, -0.6995, -0.2837],\n",
            "         ...,\n",
            "         [ 0.5052,  0.4054, -0.6541,  ..., -0.1215, -0.4076, -0.1874],\n",
            "         [-0.1048, -0.0328, -0.2555,  ..., -0.1676, -0.4151,  0.0339],\n",
            "         [-0.1048, -0.0328, -0.2555,  ..., -0.1676, -0.4151,  0.0339]],\n",
            "\n",
            "        [[ 0.2527, -0.0319, -0.3401,  ..., -0.0393, -0.4349, -0.1645],\n",
            "         [-0.1655, -0.1548, -0.3913,  ..., -0.1825, -0.4693, -0.1822],\n",
            "         [-0.1819, -0.0971, -0.5064,  ...,  0.0212, -0.4563, -0.0738],\n",
            "         ...,\n",
            "         [ 0.1137,  0.1886, -0.3241,  ..., -0.6786, -0.2743, -0.1486],\n",
            "         [-0.0789, -0.3207, -0.4953,  ..., -0.1575, -0.5286,  0.3594],\n",
            "         [ 0.5571,  0.3014, -0.6219,  ..., -0.2499, -0.3682, -0.4242]]],\n",
            "       grad_fn=<ViewBackward0>)\n"
          ]
        }
      ],
      "source": [
        "linear = nn.Linear(n_head * d_head, d_hidn) # aw + b // input feature, output feature\n",
        "output = linear(context)\n",
        "print(output.size())\n",
        "print(output)"
      ]
    },
    {
      "cell_type": "markdown",
      "metadata": {
        "id": "wwcq-wgvB8Hq"
      },
      "source": [
        "##### Implementation Class"
      ]
    },
    {
      "cell_type": "code",
      "execution_count": null,
      "metadata": {
        "id": "pVQZieaCB7xp"
      },
      "outputs": [],
      "source": [
        "\"\"\" multi head attention \"\"\"\n",
        "class MultiHeadAttention(nn.Module):\n",
        "    def __init__(self, d_hidn, n_head, d_head):\n",
        "        super().__init__()\n",
        "        # self 인자\n",
        "        self.d_hidn = d_hidn\n",
        "        self.n_head = n_head\n",
        "        self.d_head = d_head\n",
        "        # linear, sacled_dot_attn, linear\n",
        "        self.W_Q = nn.Linear(d_hidn, n_head * d_head)\n",
        "        self.W_K = nn.Linear(d_hidn, n_head * d_head)\n",
        "        self.W_V = nn.Linear(d_hidn, n_head * d_head)\n",
        "        self.sacled_dot_attn = ScaledDotProductAttention(d_head)\n",
        "        self.linear = nn.Linear(n_head * d_head, d_hidn)\n",
        "\n",
        "    def forward(self, Q, K, V, attn_mask):\n",
        "        batch_size = Q.size(0)\n",
        "        # q_s: (bs, n_head, n_q_seq, d_head)\n",
        "        q_s = self.W_Q(Q).view(batch_size, -1, self.n_head, self.d_head).transpose(1, 2)\n",
        "        # k_s: (bs, n_head, n_k_seq, d_head)\n",
        "        k_s = self.W_K(K).view(batch_size, -1, self.n_head, self.d_head).transpose(1, 2)\n",
        "        # v_s: (bs, n_head, n_v_seq, d_head)\n",
        "        v_s = self.W_V(V).view(batch_size, -1, self.n_head, self.d_head).transpose(1, 2)\n",
        "\n",
        "        # mask\n",
        "        # (bs, n_head, n_q_seq, n_k_seq)\n",
        "        attn_mask = attn_mask.unsqueeze(1).repeat(1, self.n_head, 1, 1)\n",
        "        # scaled dot\n",
        "        # (bs, n_head, n_q_seq, d_head), (bs, n_head, n_q_seq, n_k_seq)\n",
        "\n",
        "        context, attn_prob = self.sacled_dot_attn(q_s, k_s, v_s, attn_mask)\n",
        "        # concat\n",
        "        # (bs, n_q_seq, h_head * d_head)\n",
        "        context = context.transpose(1, 2).contiguous().view(batch_size, -1, self.n_head * self.d_head)\n",
        "        # linear\n",
        "        # (bs, n_q_seq, d_hidn)\n",
        "\n",
        "        output = self.linear(context)\n",
        "        # (bs, n_q_seq, d_hidn), (bs, n_head, n_q_seq, n_k_seq)\n",
        "        return output, attn_prob"
      ]
    },
    {
      "cell_type": "code",
      "execution_count": null,
      "metadata": {
        "colab": {
          "base_uri": "https://localhost:8080/"
        },
        "id": "a5UzV8H1j9S2",
        "outputId": "994e520f-c275-4665-f3ea-614e324e5772"
      },
      "outputs": [
        {
          "name": "stdout",
          "output_type": "stream",
          "text": [
            "tensor([[[ 0.0303, -0.4720, -0.6293,  ..., -0.4058,  0.0873,  0.5815],\n",
            "         [ 0.0412, -0.5071, -0.6709,  ..., -0.3972,  0.0493,  0.5808],\n",
            "         [ 0.0603, -0.4949, -0.6316,  ..., -0.4492,  0.0098,  0.5331],\n",
            "         ...,\n",
            "         [ 0.0640, -0.5360, -0.6731,  ..., -0.4486,  0.0372,  0.4549],\n",
            "         [ 0.0583, -0.5507, -0.6938,  ..., -0.5070, -0.0373,  0.5626],\n",
            "         [ 0.0583, -0.5507, -0.6938,  ..., -0.5070, -0.0373,  0.5626]],\n",
            "\n",
            "        [[ 0.0576, -0.3989, -0.2643,  ..., -0.2789,  0.3571,  0.4601],\n",
            "         [-0.0201, -0.3259, -0.2114,  ..., -0.3880,  0.4415,  0.3342],\n",
            "         [ 0.0057, -0.3595, -0.2008,  ..., -0.3634,  0.3980,  0.3709],\n",
            "         ...,\n",
            "         [ 0.0572, -0.3037, -0.1947,  ..., -0.3274,  0.4547,  0.4517],\n",
            "         [ 0.0380, -0.4526, -0.2413,  ..., -0.2241,  0.4629,  0.4265],\n",
            "         [ 0.0351, -0.4615, -0.2720,  ..., -0.2911,  0.4089,  0.4313]]],\n",
            "       grad_fn=<ViewBackward0>) tensor([[[[0.2746, 0.1808, 0.1272, 0.0782, 0.0953, 0.2440, 0.0000, 0.0000],\n",
            "          [0.2837, 0.1667, 0.1514, 0.0725, 0.1551, 0.1705, 0.0000, 0.0000],\n",
            "          [0.1990, 0.1856, 0.1653, 0.0716, 0.1802, 0.1983, 0.0000, 0.0000],\n",
            "          [0.2858, 0.1343, 0.1945, 0.0827, 0.1140, 0.1887, 0.0000, 0.0000],\n",
            "          [0.2819, 0.1169, 0.1028, 0.0763, 0.2096, 0.2125, 0.0000, 0.0000],\n",
            "          [0.2335, 0.1120, 0.1260, 0.0662, 0.3156, 0.1466, 0.0000, 0.0000],\n",
            "          [0.2723, 0.2625, 0.1650, 0.0412, 0.1157, 0.1432, 0.0000, 0.0000],\n",
            "          [0.2723, 0.2625, 0.1650, 0.0412, 0.1157, 0.1432, 0.0000, 0.0000]],\n",
            "\n",
            "         [[0.1549, 0.1556, 0.1435, 0.2202, 0.2287, 0.0971, 0.0000, 0.0000],\n",
            "          [0.1843, 0.1335, 0.1515, 0.2586, 0.1598, 0.1123, 0.0000, 0.0000],\n",
            "          [0.1532, 0.1105, 0.1964, 0.1885, 0.1455, 0.2060, 0.0000, 0.0000],\n",
            "          [0.0986, 0.1150, 0.1894, 0.2881, 0.1831, 0.1258, 0.0000, 0.0000],\n",
            "          [0.0854, 0.1498, 0.2820, 0.1968, 0.1335, 0.1525, 0.0000, 0.0000],\n",
            "          [0.2796, 0.2155, 0.1702, 0.0940, 0.1037, 0.1372, 0.0000, 0.0000],\n",
            "          [0.2355, 0.2013, 0.2947, 0.0993, 0.0514, 0.1177, 0.0000, 0.0000],\n",
            "          [0.2355, 0.2013, 0.2947, 0.0993, 0.0514, 0.1177, 0.0000, 0.0000]]],\n",
            "\n",
            "\n",
            "        [[[0.0753, 0.0793, 0.0908, 0.1733, 0.1387, 0.1887, 0.1815, 0.0723],\n",
            "          [0.0610, 0.1086, 0.0886, 0.1567, 0.0869, 0.2126, 0.1878, 0.0979],\n",
            "          [0.0251, 0.1647, 0.1070, 0.1560, 0.0771, 0.2061, 0.1762, 0.0878],\n",
            "          [0.1589, 0.1267, 0.1085, 0.1106, 0.0492, 0.1288, 0.1722, 0.1452],\n",
            "          [0.2249, 0.0875, 0.0976, 0.1464, 0.0624, 0.1579, 0.1060, 0.1175],\n",
            "          [0.2532, 0.0731, 0.0655, 0.0622, 0.1405, 0.1650, 0.0566, 0.1838],\n",
            "          [0.1230, 0.1020, 0.1411, 0.1075, 0.1395, 0.1223, 0.1324, 0.1322],\n",
            "          [0.0939, 0.0667, 0.0715, 0.1789, 0.1303, 0.1237, 0.2235, 0.1115]],\n",
            "\n",
            "         [[0.1576, 0.1297, 0.0790, 0.0902, 0.1056, 0.1029, 0.1542, 0.1809],\n",
            "          [0.1575, 0.1026, 0.1018, 0.1037, 0.2158, 0.1138, 0.0867, 0.1182],\n",
            "          [0.1190, 0.0864, 0.0871, 0.0713, 0.1483, 0.1460, 0.2069, 0.1349],\n",
            "          [0.1641, 0.2148, 0.0689, 0.1288, 0.1345, 0.0931, 0.1098, 0.0860],\n",
            "          [0.1865, 0.0999, 0.0651, 0.0847, 0.1182, 0.1720, 0.1447, 0.1287],\n",
            "          [0.1394, 0.0874, 0.1183, 0.1440, 0.1288, 0.1503, 0.1465, 0.0851],\n",
            "          [0.2609, 0.1311, 0.1185, 0.0577, 0.1328, 0.1134, 0.0869, 0.0987],\n",
            "          [0.2463, 0.0921, 0.0597, 0.0744, 0.0896, 0.1561, 0.1157, 0.1662]]]],\n",
            "       grad_fn=<SoftmaxBackward0>)\n"
          ]
        }
      ],
      "source": [
        "m = MultiHeadAttention(d_hidn, n_head, d_head)\n",
        "output, attn_prob = m(Q, K, V, attn_mask)\n",
        "print(output, attn_prob)"
      ]
    },
    {
      "cell_type": "markdown",
      "metadata": {
        "id": "4O7PH-v-SA9B"
      },
      "source": [
        "#### 8. Masked Multi Head Attention"
      ]
    },
    {
      "cell_type": "code",
      "execution_count": null,
      "metadata": {
        "colab": {
          "base_uri": "https://localhost:8080/"
        },
        "id": "sg1uvsXJSAJE",
        "outputId": "e0d1cb7b-ae91-45df-f496-07e74abb48e5"
      },
      "outputs": [
        {
          "name": "stdout",
          "output_type": "stream",
          "text": [
            "tensor([[[False, False, False, False, False, False,  True,  True],\n",
            "         [False, False, False, False, False, False,  True,  True],\n",
            "         [False, False, False, False, False, False,  True,  True],\n",
            "         [False, False, False, False, False, False,  True,  True],\n",
            "         [False, False, False, False, False, False,  True,  True],\n",
            "         [False, False, False, False, False, False,  True,  True],\n",
            "         [False, False, False, False, False, False,  True,  True],\n",
            "         [False, False, False, False, False, False,  True,  True]],\n",
            "\n",
            "        [[False, False, False, False, False, False, False, False],\n",
            "         [False, False, False, False, False, False, False, False],\n",
            "         [False, False, False, False, False, False, False, False],\n",
            "         [False, False, False, False, False, False, False, False],\n",
            "         [False, False, False, False, False, False, False, False],\n",
            "         [False, False, False, False, False, False, False, False],\n",
            "         [False, False, False, False, False, False, False, False],\n",
            "         [False, False, False, False, False, False, False, False]]])\n",
            "tensor([[[0, 1, 1, 1, 1, 1, 1, 1],\n",
            "         [0, 0, 1, 1, 1, 1, 1, 1],\n",
            "         [0, 0, 0, 1, 1, 1, 1, 1],\n",
            "         [0, 0, 0, 0, 1, 1, 1, 1],\n",
            "         [0, 0, 0, 0, 0, 1, 1, 1],\n",
            "         [0, 0, 0, 0, 0, 0, 1, 1],\n",
            "         [0, 0, 0, 0, 0, 0, 0, 1],\n",
            "         [0, 0, 0, 0, 0, 0, 0, 0]],\n",
            "\n",
            "        [[0, 1, 1, 1, 1, 1, 1, 1],\n",
            "         [0, 0, 1, 1, 1, 1, 1, 1],\n",
            "         [0, 0, 0, 1, 1, 1, 1, 1],\n",
            "         [0, 0, 0, 0, 1, 1, 1, 1],\n",
            "         [0, 0, 0, 0, 0, 1, 1, 1],\n",
            "         [0, 0, 0, 0, 0, 0, 1, 1],\n",
            "         [0, 0, 0, 0, 0, 0, 0, 1],\n",
            "         [0, 0, 0, 0, 0, 0, 0, 0]]])\n",
            "tensor([[[False,  True,  True,  True,  True,  True,  True,  True],\n",
            "         [False, False,  True,  True,  True,  True,  True,  True],\n",
            "         [False, False, False,  True,  True,  True,  True,  True],\n",
            "         [False, False, False, False,  True,  True,  True,  True],\n",
            "         [False, False, False, False, False,  True,  True,  True],\n",
            "         [False, False, False, False, False, False,  True,  True],\n",
            "         [False, False, False, False, False, False,  True,  True],\n",
            "         [False, False, False, False, False, False,  True,  True]],\n",
            "\n",
            "        [[False,  True,  True,  True,  True,  True,  True,  True],\n",
            "         [False, False,  True,  True,  True,  True,  True,  True],\n",
            "         [False, False, False,  True,  True,  True,  True,  True],\n",
            "         [False, False, False, False,  True,  True,  True,  True],\n",
            "         [False, False, False, False, False,  True,  True,  True],\n",
            "         [False, False, False, False, False, False,  True,  True],\n",
            "         [False, False, False, False, False, False, False,  True],\n",
            "         [False, False, False, False, False, False, False, False]]])\n"
          ]
        }
      ],
      "source": [
        "\"\"\" attention decoder mask \"\"\"\n",
        "def get_attn_decoder_mask(seq):\n",
        "    subsequent_mask = torch.ones_like(seq).unsqueeze(-1).expand(seq.size(0), seq.size(1), seq.size(1))\n",
        "    subsequent_mask = subsequent_mask.triu(diagonal=1)\n",
        "    return subsequent_mask\n",
        "\n",
        "\n",
        "Q = input_sums\n",
        "K = input_sums\n",
        "V = input_sums\n",
        "\n",
        "# attn_pad_mask : 기존 input에 대한 pad mask\n",
        "attn_pad_mask = inputs.eq(0).unsqueeze(1).expand(Q.size(0), Q.size(1), K.size(1))\n",
        "print(attn_pad_mask)\n",
        "# attn_dec_mask : 현재 단어에서 이전 단어만 보겠다는 attention mask\n",
        "attn_dec_mask = get_attn_decoder_mask(inputs)\n",
        "print(attn_dec_mask)\n",
        "# attn_mask : attn_pad_mask + attn_dec_mask\n",
        "attn_mask = torch.gt((attn_pad_mask + attn_dec_mask), 0)\n",
        "print(attn_mask)\n",
        "batch_size = Q.size(0)\n",
        "n_head = 2"
      ]
    },
    {
      "cell_type": "code",
      "execution_count": null,
      "metadata": {
        "colab": {
          "base_uri": "https://localhost:8080/"
        },
        "id": "-YdCqAETUSzv",
        "outputId": "a5a6a1ef-fb76-4690-f78d-799617f78904"
      },
      "outputs": [
        {
          "name": "stdout",
          "output_type": "stream",
          "text": [
            "torch.Size([2, 8, 128]) torch.Size([2, 2, 8, 8])\n"
          ]
        }
      ],
      "source": [
        "attention = MultiHeadAttention(d_hidn, n_head, d_head)\n",
        "output, attn_prob = attention(Q, K, V, attn_mask)\n",
        "print(output.size(), attn_prob.size())"
      ]
    },
    {
      "cell_type": "markdown",
      "metadata": {
        "id": "xPiW76dzGy8D"
      },
      "source": [
        "#### 9. Feed Forward"
      ]
    },
    {
      "cell_type": "markdown",
      "metadata": {
        "id": "nLWqtn7UHGz-"
      },
      "source": [
        "##### f1 (Linear)"
      ]
    },
    {
      "cell_type": "code",
      "execution_count": null,
      "metadata": {
        "colab": {
          "base_uri": "https://localhost:8080/"
        },
        "id": "U0iAPIfCHGaa",
        "outputId": "223ba905-9eab-481e-abbb-1a8c0438eede"
      },
      "outputs": [
        {
          "name": "stdout",
          "output_type": "stream",
          "text": [
            "Conv1d(128, 512, kernel_size=(1,), stride=(1,))\n",
            "torch.Size([2, 512, 8])\n"
          ]
        }
      ],
      "source": [
        "# Linear : Conv1d로 활용\n",
        "# (bs, n_seq, d_hidn * 4) -> (bs, d_hidn * 4, n_seq)\n",
        "\n",
        "conv1 = nn.Conv1d(in_channels=d_hidn, out_channels=d_hidn*4, kernel_size=1)\n",
        "print(conv1)\n",
        "\n",
        "ff_1 = conv1(output.transpose(1, 2))\n",
        "print(ff_1.size())"
      ]
    },
    {
      "cell_type": "markdown",
      "metadata": {
        "id": "ezEDjlVtIqf0"
      },
      "source": [
        "##### Activation (relu or gelu)\n",
        "\n",
        "![](https://raw.githubusercontent.com/paul-hyun/paul-hyun.github.io/master/assets/2019-12-19/activation.png)"
      ]
    },
    {
      "cell_type": "code",
      "execution_count": null,
      "metadata": {
        "id": "x7mTDJZiIOrL"
      },
      "outputs": [],
      "source": [
        "# active = F.gelu\n",
        "active = F.gelu\n",
        "ff_2 = active(ff_1)"
      ]
    },
    {
      "cell_type": "markdown",
      "metadata": {
        "id": "fAcrKhAtIvn5"
      },
      "source": [
        "##### f3 (Linear)"
      ]
    },
    {
      "cell_type": "code",
      "execution_count": null,
      "metadata": {
        "colab": {
          "base_uri": "https://localhost:8080/"
        },
        "id": "xGRsfIOcOgLR",
        "outputId": "d655811f-f6ba-491e-f0b9-8b941cf34f74"
      },
      "outputs": [
        {
          "name": "stdout",
          "output_type": "stream",
          "text": [
            "Conv1d(512, 128, kernel_size=(1,), stride=(1,))\n",
            "torch.Size([2, 8, 128])\n"
          ]
        }
      ],
      "source": [
        "# Linear : Conv1d로 활용\n",
        "# (bs, n_seq, d_hidn * 4) <- (bs, d_hidn * 4, n_seq)\n",
        "conv2 = nn.Conv1d(in_channels=d_hidn *4, out_channels=d_hidn, kernel_size=1)\n",
        "print(conv2)\n",
        "ff_3 = conv2(ff_2).transpose(1, 2)\n",
        "print(ff_3.size())"
      ]
    },
    {
      "cell_type": "markdown",
      "metadata": {
        "id": "sE6-A3OhIzLo"
      },
      "source": [
        "##### Implementation Class"
      ]
    },
    {
      "cell_type": "code",
      "execution_count": null,
      "metadata": {
        "id": "TaRkgC4CRs60"
      },
      "outputs": [],
      "source": [
        "\"\"\" feed forward \"\"\"\n",
        "class PoswiseFeedForwardNet(nn.Module):\n",
        "    def __init__(self, d_hidn):\n",
        "        super().__init__()\n",
        "        self.d_hidn\n",
        "        self.conv1 = nn.Conv1d(in_channels=d_hidn, out_channels=d_hidn*4, kernel_size=1)\n",
        "        self.conv2 = nn.Conv1d(in_channels=d_hidn *4, out_channels=d_hidn, kernel_size=1)\n",
        "        # active = F.gelu\n",
        "        self.active = F.gelu\n",
        "\n",
        "    def forward(self, inputs):\n",
        "        # f1 output: (bs, d_ff, n_seq)\n",
        "        output = self.active(self.conv1(inputs.transpose(1, 2)))\n",
        "\n",
        "        # f2 output: (bs, n_seq, d_hidn)\n",
        "        output = self.conv2(output).transpose(1, 2)\n",
        "\n",
        "        # (bs, n_seq, d_hidn)\n",
        "        return output"
      ]
    },
    {
      "cell_type": "code",
      "execution_count": null,
      "metadata": {
        "id": "ugIUTfFM13Se"
      },
      "outputs": [],
      "source": []
    }
  ],
  "metadata": {
    "accelerator": "GPU",
    "colab": {
      "provenance": []
    },
    "kernelspec": {
      "display_name": "nlp_lecture",
      "language": "python",
      "name": "python3"
    },
    "language_info": {
      "codemirror_mode": {
        "name": "ipython",
        "version": 3
      },
      "file_extension": ".py",
      "mimetype": "text/x-python",
      "name": "python",
      "nbconvert_exporter": "python",
      "pygments_lexer": "ipython3",
      "version": "3.11.5"
    },
    "vscode": {
      "interpreter": {
        "hash": "305494ec69d5ad97a583cc76e8fd52e450123bc765c435a27726a289dbe2d5e0"
      }
    }
  },
  "nbformat": 4,
  "nbformat_minor": 0
}
