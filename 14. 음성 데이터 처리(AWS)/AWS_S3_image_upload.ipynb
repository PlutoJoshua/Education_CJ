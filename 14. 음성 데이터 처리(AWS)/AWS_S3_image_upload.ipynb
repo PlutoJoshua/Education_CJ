{
 "cells": [
  {
   "cell_type": "markdown",
   "metadata": {},
   "source": [
    "---\n",
    "# AWS S3에 이미지 업로드 하기  \n",
    "# 다운로드 하지 않고 브라우저에서 바로 보임  \n",
    "---"
   ]
  },
  {
   "cell_type": "markdown",
   "metadata": {},
   "source": [
    "- 이미지 브라우저에 바로 보이게 하느라 고생 좀 했다\n",
    "- 근데 AWS가 엄청 편하고, 재미있고, 방대하다는 사실을 알았다 !\n",
    "- 코드가 복잡해질수록 애를 먹는다. 최대한 간결하게 작성하기"
   ]
  },
  {
   "cell_type": "code",
   "execution_count": null,
   "metadata": {},
   "outputs": [],
   "source": [
    "import boto3\n",
    "import os\n",
    "\n",
    "# AWS 액세스 키 및 비밀 액세스 키\n",
    "AWS_ACCESS_KEY_ID = ''\n",
    "AWS_SECRET_ACCESS_KEY = ''\n",
    "\n",
    "# 업로드할 이미지 파일 경로\n",
    "file_path = r\"\"\n",
    "\n",
    "# S3 버킷 이름\n",
    "bucket_name = ''\n",
    "\n",
    "# 파일 이름 추출\n",
    "file_name = os.path.basename(file_path)\n",
    "\n",
    "# S3 클라이언트 생성\n",
    "s3 = boto3.client('s3', aws_access_key_id=AWS_ACCESS_KEY_ID, aws_secret_access_key=AWS_SECRET_ACCESS_KEY)\n",
    "\n",
    "try:\n",
    "    # 이미지 파일 업로드\n",
    "    s3.upload_file(\n",
    "        file_path,  # 로컬 파일 경로\n",
    "        bucket_name,  # 버킷 이름\n",
    "        file_name,  # S3에 저장될 파일 이름\n",
    "        ExtraArgs={'ACL': 'public-read', 'ContentType': 'image/jpeg'}  # ACL 및 ContentType 설정\n",
    "    )\n",
    "    \n",
    "    # 업로드된 파일의 URL 생성\n",
    "    file_url = f\"https://{bucket_name}.s3.amazonaws.com/{file_name}\"\n",
    "    print(\"이미지 업로드!\")\n",
    "    print(\"이미지 파일 경로:\", file_url)\n",
    "\n",
    "except Exception as e:\n",
    "    print(\"에러 발생:\", str(e))"
   ]
  }
 ],
 "metadata": {
  "kernelspec": {
   "display_name": "base",
   "language": "python",
   "name": "python3"
  },
  "language_info": {
   "codemirror_mode": {
    "name": "ipython",
    "version": 3
   },
   "file_extension": ".py",
   "mimetype": "text/x-python",
   "name": "python",
   "nbconvert_exporter": "python",
   "pygments_lexer": "ipython3",
   "version": "3.11.5"
  }
 },
 "nbformat": 4,
 "nbformat_minor": 2
}
