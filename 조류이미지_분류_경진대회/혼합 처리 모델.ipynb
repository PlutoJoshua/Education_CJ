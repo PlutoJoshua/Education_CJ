{
 "cells": [
  {
   "cell_type": "markdown",
   "metadata": {},
   "source": [
    "---\n",
    "# 데이터 로드 및 생성\n",
    "---"
   ]
  },
  {
   "cell_type": "code",
   "execution_count": 69,
   "metadata": {},
   "outputs": [],
   "source": [
    "import numpy as np\n",
    "import pandas as pd\n",
    "import matplotlib.pyplot as plt\n",
    "from PIL import Image\n",
    "import tensorflow as tf\n",
    "from tensorflow.keras import layers, models\n",
    "from tensorflow.keras.preprocessing.image import ImageDataGenerator\n",
    "from sklearn.preprocessing import LabelEncoder, OneHotEncoder\n",
    "from tensorflow.keras.models import Sequential\n",
    "\n",
    "# 데이터 불러오기\n",
    "train_df = pd.read_csv(r\"C:\\Users\\BIG3-05\\Downloads\\open\\train.csv\")\n",
    "test_df = pd.read_csv(r\"C:\\Users\\BIG3-05\\Downloads\\open\\test.csv\")\n",
    "\n",
    "# LabelEncoder를 사용하여 라벨을 숫자로 변환\n",
    "label_encoder = LabelEncoder()\n",
    "train_labels_encoded = label_encoder.fit_transform(train_df['label'])\n",
    "\n",
    "# OneHotEncoder를 사용하여 원핫 인코딩\n",
    "onehot_encoder = OneHotEncoder()\n",
    "train_labels_onehot = onehot_encoder.fit_transform(train_labels_encoded.reshape(-1, 1))\n",
    "\n",
    "# 클래스의 개수 계산\n",
    "num_classes = train_labels_onehot.shape[1]\n",
    "\n",
    "# 고해상도 이미지 로드 및 전처리 함수\n",
    "def load_high_res_image(img_path, target_size=(256, 256)):\n",
    "    img = tf.io.read_file(img_path)\n",
    "    img = tf.image.decode_png(img, channels=3)\n",
    "    img = tf.image.resize(img, target_size)\n",
    "    img = tf.cast(img, tf.float32) / 255.0  # 이미지를 정규화\n",
    "    return img\n",
    "\n",
    "# 저해상도 이미지 로드 및 전처리 함수\n",
    "def load_low_res_image(img_path, target_size=(64, 64)):\n",
    "    img = tf.io.read_file(img_path)\n",
    "    img = tf.image.decode_png(img, channels=3)\n",
    "    img = tf.image.resize(img, target_size)\n",
    "    img = tf.cast(img, tf.float32) / 255.0  # 이미지를 정규화\n",
    "    return img\n",
    "\n",
    "def process_images(paths_tuple, label):\n",
    "    low_res_path, high_res_path = paths_tuple\n",
    "    low_res_img = load_low_res_image(low_res_path)\n",
    "    high_res_img = load_high_res_image(high_res_path)\n",
    "    return {'input_low_res': low_res_img, 'input_high_res': high_res_img}, label\n",
    "\n",
    "# train_labels_onehot를 희소 행렬에서 넘파이 배열로 변환\n",
    "train_labels_onehot_np = train_labels_onehot.toarray()\n",
    "\n",
    "# 변환한 넘파이 배열을 사용하여 데이터셋 생성\n",
    "train_dataset = tf.data.Dataset.from_tensor_slices(((train_df['img_path'].values, train_df['upscale_img_path'].values), train_labels_onehot_np))\n",
    "train_dataset = train_dataset.shuffle(buffer_size=len(train_df))\n",
    "\n",
    "train_dataset = train_dataset.map(process_images).batch(16)"
   ]
  },
  {
   "cell_type": "markdown",
   "metadata": {},
   "source": [
    "---\n",
    "# 모델 구성 및 훈련\n",
    "---"
   ]
  },
  {
   "cell_type": "code",
   "execution_count": 70,
   "metadata": {},
   "outputs": [
    {
     "name": "stdout",
     "output_type": "stream",
     "text": [
      "Epoch 1/10\n",
      "\u001b[1m990/990\u001b[0m \u001b[32m━━━━━━━━━━━━━━━━━━━━\u001b[0m\u001b[37m\u001b[0m \u001b[1m203s\u001b[0m 204ms/step - accuracy: 0.0898 - loss: 3.1656\n",
      "Epoch 2/10\n",
      "\u001b[1m990/990\u001b[0m \u001b[32m━━━━━━━━━━━━━━━━━━━━\u001b[0m\u001b[37m\u001b[0m \u001b[1m193s\u001b[0m 195ms/step - accuracy: 0.3239 - loss: 2.3264\n",
      "Epoch 3/10\n",
      "\u001b[1m990/990\u001b[0m \u001b[32m━━━━━━━━━━━━━━━━━━━━\u001b[0m\u001b[37m\u001b[0m \u001b[1m196s\u001b[0m 198ms/step - accuracy: 0.5401 - loss: 1.5695\n",
      "Epoch 4/10\n",
      "\u001b[1m990/990\u001b[0m \u001b[32m━━━━━━━━━━━━━━━━━━━━\u001b[0m\u001b[37m\u001b[0m \u001b[1m194s\u001b[0m 196ms/step - accuracy: 0.7650 - loss: 0.8063\n",
      "Epoch 5/10\n",
      "\u001b[1m990/990\u001b[0m \u001b[32m━━━━━━━━━━━━━━━━━━━━\u001b[0m\u001b[37m\u001b[0m \u001b[1m192s\u001b[0m 194ms/step - accuracy: 0.9129 - loss: 0.3055\n",
      "Epoch 6/10\n",
      "\u001b[1m990/990\u001b[0m \u001b[32m━━━━━━━━━━━━━━━━━━━━\u001b[0m\u001b[37m\u001b[0m \u001b[1m192s\u001b[0m 194ms/step - accuracy: 0.9619 - loss: 0.1318\n",
      "Epoch 7/10\n",
      "\u001b[1m990/990\u001b[0m \u001b[32m━━━━━━━━━━━━━━━━━━━━\u001b[0m\u001b[37m\u001b[0m \u001b[1m195s\u001b[0m 197ms/step - accuracy: 0.9717 - loss: 0.1025\n",
      "Epoch 8/10\n",
      "\u001b[1m990/990\u001b[0m \u001b[32m━━━━━━━━━━━━━━━━━━━━\u001b[0m\u001b[37m\u001b[0m \u001b[1m194s\u001b[0m 196ms/step - accuracy: 0.9753 - loss: 0.0887\n",
      "Epoch 9/10\n",
      "\u001b[1m990/990\u001b[0m \u001b[32m━━━━━━━━━━━━━━━━━━━━\u001b[0m\u001b[37m\u001b[0m \u001b[1m190s\u001b[0m 192ms/step - accuracy: 0.9806 - loss: 0.0647\n",
      "Epoch 10/10\n",
      "\u001b[1m990/990\u001b[0m \u001b[32m━━━━━━━━━━━━━━━━━━━━\u001b[0m\u001b[37m\u001b[0m \u001b[1m193s\u001b[0m 195ms/step - accuracy: 0.9779 - loss: 0.0859\n"
     ]
    }
   ],
   "source": [
    "# 모델 구성\n",
    "input_high_res = layers.Input(shape=(256, 256, 3), name='input_high_res')\n",
    "input_low_res = layers.Input(shape=(64, 64, 3), name='input_low_res')\n",
    "\n",
    "def create_model():\n",
    "    model = Sequential([\n",
    "        layers.Conv2D(32, (3, 3), activation='relu', input_shape=(height, width, channels)),\n",
    "        layers.MaxPooling2D((2, 2)),\n",
    "        layers.Conv2D(64, (3, 3), activation='relu'),\n",
    "        layers.MaxPooling2D((2, 2)),\n",
    "        layers.Conv2D(64, (3, 3), activation='relu'),\n",
    "        layers.Flatten(),\n",
    "        layers.Dense(64, activation='relu')\n",
    "    ])\n",
    "    return model\n",
    "\n",
    "# 고해상도 이미지 처리 모델\n",
    "high_res_model = create_model()\n",
    "\n",
    "# 저해상도 이미지 처리 모델\n",
    "low_res_model = create_model()\n",
    "\n",
    "# 두 가지 입력을 결합\n",
    "merged = layers.concatenate([high_res_model, low_res_model])\n",
    "\n",
    "output = layers.Dense(num_classes, activation='softmax')(merged)\n",
    "\n",
    "model = models.Model(inputs=[input_high_res, input_low_res], outputs=output)\n",
    "\n",
    "# 모델 컴파일\n",
    "model.compile(optimizer='adam',\n",
    "              loss='categorical_crossentropy',  # 다중 클래스 분류 문제이므로 categorical_crossentropy 사용\n",
    "              metrics=['accuracy'])\n",
    "\n",
    "# 모델 훈련\n",
    "history = model.fit(train_dataset, epochs=10)\n"
   ]
  },
  {
   "cell_type": "markdown",
   "metadata": {},
   "source": [
    "---\n",
    "# test 데이터 생성 및 검증\n",
    "---"
   ]
  },
  {
   "cell_type": "code",
   "execution_count": 109,
   "metadata": {},
   "outputs": [],
   "source": [
    "import cv2"
   ]
  },
  {
   "cell_type": "code",
   "execution_count": null,
   "metadata": {},
   "outputs": [],
   "source": [
    "import cv2\n",
    "\n",
    "# 모델에 고해상도 이미지와 저해상도 이미지를 입력으로 사용하여 예측\n",
    "predicted_labels = []\n",
    "for _, row in test_df.iterrows():\n",
    "    high_res_image = row['high_res_img']\n",
    "    low_res_image = cv2.imread(row['img_path'])  # 저해상도 이미지 로드\n",
    "    low_res_image = cv2.resize(low_res_image, (64, 64), interpolation=cv2.INTER_CUBIC)  # 저해상도 이미지를 64x64로 크기 조정\n",
    "\n",
    "    # 이미지를 넘파이 배열로 변환\n",
    "    high_res_image = np.expand_dims(high_res_image, axis=0)\n",
    "    low_res_image = np.expand_dims(low_res_image, axis=0)\n",
    "\n",
    "    # 이미지 정규화\n",
    "    high_res_image = high_res_image.astype(np.float32) / 255.0\n",
    "    low_res_image = low_res_image.astype(np.float32) / 255.0\n",
    "\n",
    "    # 모델로 예측\n",
    "    predictions = model.predict([high_res_image, low_res_image])\n",
    "\n",
    "    # 최대 값 인덱스를 사용하여 예측 레이블을 얻음\n",
    "    predicted_label_index = np.argmax(predictions)\n",
    "    predicted_label = label_encoder.inverse_transform([predicted_label_index])[0]\n",
    "    predicted_labels.append(predicted_label)\n",
    "\n",
    "# 예측 결과를 테스트 데이터프레임에 추가\n",
    "test_df['predicted_label'] = predicted_labels\n",
    "\n",
    "# 테스트 결과를 파일로 저장\n",
    "test_df.to_csv(\"test_predicted.csv\", index=False)\n"
   ]
  },
  {
   "attachments": {
    "image.png": {
     "image/png": "[encoded data removed]"
    }
   },
   "cell_type": "markdown",
   "metadata": {},
   "source": [
    "![image.png](attachment:image.png)"
   ]
  },
  {
   "cell_type": "markdown",
   "metadata": {},
   "source": []
  }
 ],
 "metadata": {
  "kernelspec": {
   "display_name": "base",
   "language": "python",
   "name": "python3"
  },
  "language_info": {
   "codemirror_mode": {
    "name": "ipython",
    "version": 3
   },
   "file_extension": ".py",
   "mimetype": "text/x-python",
   "name": "python",
   "nbconvert_exporter": "python",
   "pygments_lexer": "ipython3",
   "version": "3.11.5"
  }
 },
 "nbformat": 4,
 "nbformat_minor": 2
}
